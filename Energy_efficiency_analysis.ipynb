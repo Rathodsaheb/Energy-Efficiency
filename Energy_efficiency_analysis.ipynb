{
 "cells": [
  {
   "cell_type": "raw",
   "metadata": {},
   "source": []
  },
  {
   "cell_type": "code",
   "execution_count": null,
   "metadata": {},
   "outputs": [],
   "source": []
  },
  {
   "cell_type": "markdown",
   "metadata": {},
   "source": [
    "# Introduction"
   ]
  },
  {
   "cell_type": "raw",
   "metadata": {},
   "source": [
    "This is our project for continuous dataset.The dataset is of Energy efficiency for building.We will be using Python as our programming language.\n",
    "Our project perform energy analysis using 12 different building shapes simulated in Ecotect. The buildings differ with respect to the glazing area, the glazing area distribution, and the orientation, amongst other parameters. The dataset comprises 768 samples and 8 features. Our aim to predict two real valued responses.\n",
    "The dataset contains eight attributes and two responces.\n",
    "X1=Relative Compactness \n",
    "X2=Surface Area\n",
    "X3=Wall Area\n",
    "X4=Roof Area\n",
    "X5=Overall Height\n",
    "X6=Orientation\n",
    "X7=Glazing Area\n",
    "X8=Glazing Area Distribution\n",
    "Y1=Heating Load\n",
    "Y2=Cooling Load\n"
   ]
  },
  {
   "cell_type": "raw",
   "metadata": {},
   "source": [
    "Here first of all we are going to import libaries which is required for our models."
   ]
  },
  {
   "cell_type": "code",
   "execution_count": 1,
   "metadata": {},
   "outputs": [],
   "source": [
    "import numpy as np\n",
    "import pandas as pd\n",
    "import matplotlib.pyplot as plt\n",
    "import seaborn as sns\n",
    "%matplotlib inline\n",
    "import warnings\n",
    "warnings.filterwarnings(\"ignore\")"
   ]
  },
  {
   "cell_type": "code",
   "execution_count": 2,
   "metadata": {},
   "outputs": [],
   "source": [
    "from sklearn.model_selection import train_test_split\n",
    "from sklearn.metrics import accuracy_score\n",
    "from sklearn.model_selection import KFold\n",
    "from sklearn.model_selection import cross_val_score\n",
    "from sklearn.model_selection import cross_val_predict\n",
    "from sklearn.metrics import confusion_matrix"
   ]
  },
  {
   "cell_type": "code",
   "execution_count": 3,
   "metadata": {},
   "outputs": [],
   "source": [
    "data= pd.read_excel(\"ENB2012_data.xlsx\") # loading data"
   ]
  },
  {
   "cell_type": "code",
   "execution_count": 4,
   "metadata": {
    "scrolled": true
   },
   "outputs": [
    {
     "data": {
      "text/html": [
       "<div>\n",
       "<style scoped>\n",
       "    .dataframe tbody tr th:only-of-type {\n",
       "        vertical-align: middle;\n",
       "    }\n",
       "\n",
       "    .dataframe tbody tr th {\n",
       "        vertical-align: top;\n",
       "    }\n",
       "\n",
       "    .dataframe thead th {\n",
       "        text-align: right;\n",
       "    }\n",
       "</style>\n",
       "<table border=\"1\" class=\"dataframe\">\n",
       "  <thead>\n",
       "    <tr style=\"text-align: right;\">\n",
       "      <th></th>\n",
       "      <th>X1</th>\n",
       "      <th>X2</th>\n",
       "      <th>X3</th>\n",
       "      <th>X4</th>\n",
       "      <th>X5</th>\n",
       "      <th>X6</th>\n",
       "      <th>X7</th>\n",
       "      <th>X8</th>\n",
       "      <th>Y1</th>\n",
       "      <th>Y2</th>\n",
       "      <th>Unnamed: 10</th>\n",
       "      <th>Unnamed: 11</th>\n",
       "    </tr>\n",
       "  </thead>\n",
       "  <tbody>\n",
       "    <tr>\n",
       "      <th>0</th>\n",
       "      <td>0.98</td>\n",
       "      <td>514.5</td>\n",
       "      <td>294.0</td>\n",
       "      <td>110.25</td>\n",
       "      <td>7.0</td>\n",
       "      <td>2</td>\n",
       "      <td>0.0</td>\n",
       "      <td>0</td>\n",
       "      <td>15.55</td>\n",
       "      <td>21.33</td>\n",
       "      <td>NaN</td>\n",
       "      <td>NaN</td>\n",
       "    </tr>\n",
       "    <tr>\n",
       "      <th>1</th>\n",
       "      <td>0.98</td>\n",
       "      <td>514.5</td>\n",
       "      <td>294.0</td>\n",
       "      <td>110.25</td>\n",
       "      <td>7.0</td>\n",
       "      <td>3</td>\n",
       "      <td>0.0</td>\n",
       "      <td>0</td>\n",
       "      <td>15.55</td>\n",
       "      <td>21.33</td>\n",
       "      <td>NaN</td>\n",
       "      <td>NaN</td>\n",
       "    </tr>\n",
       "    <tr>\n",
       "      <th>2</th>\n",
       "      <td>0.98</td>\n",
       "      <td>514.5</td>\n",
       "      <td>294.0</td>\n",
       "      <td>110.25</td>\n",
       "      <td>7.0</td>\n",
       "      <td>4</td>\n",
       "      <td>0.0</td>\n",
       "      <td>0</td>\n",
       "      <td>15.55</td>\n",
       "      <td>21.33</td>\n",
       "      <td>NaN</td>\n",
       "      <td>NaN</td>\n",
       "    </tr>\n",
       "    <tr>\n",
       "      <th>3</th>\n",
       "      <td>0.98</td>\n",
       "      <td>514.5</td>\n",
       "      <td>294.0</td>\n",
       "      <td>110.25</td>\n",
       "      <td>7.0</td>\n",
       "      <td>5</td>\n",
       "      <td>0.0</td>\n",
       "      <td>0</td>\n",
       "      <td>15.55</td>\n",
       "      <td>21.33</td>\n",
       "      <td>NaN</td>\n",
       "      <td>NaN</td>\n",
       "    </tr>\n",
       "    <tr>\n",
       "      <th>4</th>\n",
       "      <td>0.90</td>\n",
       "      <td>563.5</td>\n",
       "      <td>318.5</td>\n",
       "      <td>122.50</td>\n",
       "      <td>7.0</td>\n",
       "      <td>2</td>\n",
       "      <td>0.0</td>\n",
       "      <td>0</td>\n",
       "      <td>20.84</td>\n",
       "      <td>28.28</td>\n",
       "      <td>NaN</td>\n",
       "      <td>NaN</td>\n",
       "    </tr>\n",
       "  </tbody>\n",
       "</table>\n",
       "</div>"
      ],
      "text/plain": [
       "     X1     X2     X3      X4   X5  X6   X7  X8     Y1     Y2  Unnamed: 10  \\\n",
       "0  0.98  514.5  294.0  110.25  7.0   2  0.0   0  15.55  21.33          NaN   \n",
       "1  0.98  514.5  294.0  110.25  7.0   3  0.0   0  15.55  21.33          NaN   \n",
       "2  0.98  514.5  294.0  110.25  7.0   4  0.0   0  15.55  21.33          NaN   \n",
       "3  0.98  514.5  294.0  110.25  7.0   5  0.0   0  15.55  21.33          NaN   \n",
       "4  0.90  563.5  318.5  122.50  7.0   2  0.0   0  20.84  28.28          NaN   \n",
       "\n",
       "   Unnamed: 11  \n",
       "0          NaN  \n",
       "1          NaN  \n",
       "2          NaN  \n",
       "3          NaN  \n",
       "4          NaN  "
      ]
     },
     "execution_count": 4,
     "metadata": {},
     "output_type": "execute_result"
    }
   ],
   "source": [
    "data.head()"
   ]
  },
  {
   "cell_type": "code",
   "execution_count": 5,
   "metadata": {},
   "outputs": [],
   "source": [
    "data=data.drop(['Unnamed: 10','Unnamed: 11'], axis=1)"
   ]
  },
  {
   "cell_type": "code",
   "execution_count": 6,
   "metadata": {},
   "outputs": [
    {
     "data": {
      "text/html": [
       "<div>\n",
       "<style scoped>\n",
       "    .dataframe tbody tr th:only-of-type {\n",
       "        vertical-align: middle;\n",
       "    }\n",
       "\n",
       "    .dataframe tbody tr th {\n",
       "        vertical-align: top;\n",
       "    }\n",
       "\n",
       "    .dataframe thead th {\n",
       "        text-align: right;\n",
       "    }\n",
       "</style>\n",
       "<table border=\"1\" class=\"dataframe\">\n",
       "  <thead>\n",
       "    <tr style=\"text-align: right;\">\n",
       "      <th></th>\n",
       "      <th>X1</th>\n",
       "      <th>X2</th>\n",
       "      <th>X3</th>\n",
       "      <th>X4</th>\n",
       "      <th>X5</th>\n",
       "      <th>X6</th>\n",
       "      <th>X7</th>\n",
       "      <th>X8</th>\n",
       "      <th>Y1</th>\n",
       "      <th>Y2</th>\n",
       "    </tr>\n",
       "  </thead>\n",
       "  <tbody>\n",
       "    <tr>\n",
       "      <th>0</th>\n",
       "      <td>0.98</td>\n",
       "      <td>514.5</td>\n",
       "      <td>294.0</td>\n",
       "      <td>110.25</td>\n",
       "      <td>7.0</td>\n",
       "      <td>2</td>\n",
       "      <td>0.0</td>\n",
       "      <td>0</td>\n",
       "      <td>15.55</td>\n",
       "      <td>21.33</td>\n",
       "    </tr>\n",
       "    <tr>\n",
       "      <th>1</th>\n",
       "      <td>0.98</td>\n",
       "      <td>514.5</td>\n",
       "      <td>294.0</td>\n",
       "      <td>110.25</td>\n",
       "      <td>7.0</td>\n",
       "      <td>3</td>\n",
       "      <td>0.0</td>\n",
       "      <td>0</td>\n",
       "      <td>15.55</td>\n",
       "      <td>21.33</td>\n",
       "    </tr>\n",
       "    <tr>\n",
       "      <th>2</th>\n",
       "      <td>0.98</td>\n",
       "      <td>514.5</td>\n",
       "      <td>294.0</td>\n",
       "      <td>110.25</td>\n",
       "      <td>7.0</td>\n",
       "      <td>4</td>\n",
       "      <td>0.0</td>\n",
       "      <td>0</td>\n",
       "      <td>15.55</td>\n",
       "      <td>21.33</td>\n",
       "    </tr>\n",
       "    <tr>\n",
       "      <th>3</th>\n",
       "      <td>0.98</td>\n",
       "      <td>514.5</td>\n",
       "      <td>294.0</td>\n",
       "      <td>110.25</td>\n",
       "      <td>7.0</td>\n",
       "      <td>5</td>\n",
       "      <td>0.0</td>\n",
       "      <td>0</td>\n",
       "      <td>15.55</td>\n",
       "      <td>21.33</td>\n",
       "    </tr>\n",
       "    <tr>\n",
       "      <th>4</th>\n",
       "      <td>0.90</td>\n",
       "      <td>563.5</td>\n",
       "      <td>318.5</td>\n",
       "      <td>122.50</td>\n",
       "      <td>7.0</td>\n",
       "      <td>2</td>\n",
       "      <td>0.0</td>\n",
       "      <td>0</td>\n",
       "      <td>20.84</td>\n",
       "      <td>28.28</td>\n",
       "    </tr>\n",
       "    <tr>\n",
       "      <th>...</th>\n",
       "      <td>...</td>\n",
       "      <td>...</td>\n",
       "      <td>...</td>\n",
       "      <td>...</td>\n",
       "      <td>...</td>\n",
       "      <td>...</td>\n",
       "      <td>...</td>\n",
       "      <td>...</td>\n",
       "      <td>...</td>\n",
       "      <td>...</td>\n",
       "    </tr>\n",
       "    <tr>\n",
       "      <th>763</th>\n",
       "      <td>0.64</td>\n",
       "      <td>784.0</td>\n",
       "      <td>343.0</td>\n",
       "      <td>220.50</td>\n",
       "      <td>3.5</td>\n",
       "      <td>5</td>\n",
       "      <td>0.4</td>\n",
       "      <td>5</td>\n",
       "      <td>17.88</td>\n",
       "      <td>21.40</td>\n",
       "    </tr>\n",
       "    <tr>\n",
       "      <th>764</th>\n",
       "      <td>0.62</td>\n",
       "      <td>808.5</td>\n",
       "      <td>367.5</td>\n",
       "      <td>220.50</td>\n",
       "      <td>3.5</td>\n",
       "      <td>2</td>\n",
       "      <td>0.4</td>\n",
       "      <td>5</td>\n",
       "      <td>16.54</td>\n",
       "      <td>16.88</td>\n",
       "    </tr>\n",
       "    <tr>\n",
       "      <th>765</th>\n",
       "      <td>0.62</td>\n",
       "      <td>808.5</td>\n",
       "      <td>367.5</td>\n",
       "      <td>220.50</td>\n",
       "      <td>3.5</td>\n",
       "      <td>3</td>\n",
       "      <td>0.4</td>\n",
       "      <td>5</td>\n",
       "      <td>16.44</td>\n",
       "      <td>17.11</td>\n",
       "    </tr>\n",
       "    <tr>\n",
       "      <th>766</th>\n",
       "      <td>0.62</td>\n",
       "      <td>808.5</td>\n",
       "      <td>367.5</td>\n",
       "      <td>220.50</td>\n",
       "      <td>3.5</td>\n",
       "      <td>4</td>\n",
       "      <td>0.4</td>\n",
       "      <td>5</td>\n",
       "      <td>16.48</td>\n",
       "      <td>16.61</td>\n",
       "    </tr>\n",
       "    <tr>\n",
       "      <th>767</th>\n",
       "      <td>0.62</td>\n",
       "      <td>808.5</td>\n",
       "      <td>367.5</td>\n",
       "      <td>220.50</td>\n",
       "      <td>3.5</td>\n",
       "      <td>5</td>\n",
       "      <td>0.4</td>\n",
       "      <td>5</td>\n",
       "      <td>16.64</td>\n",
       "      <td>16.03</td>\n",
       "    </tr>\n",
       "  </tbody>\n",
       "</table>\n",
       "<p>768 rows × 10 columns</p>\n",
       "</div>"
      ],
      "text/plain": [
       "       X1     X2     X3      X4   X5  X6   X7  X8     Y1     Y2\n",
       "0    0.98  514.5  294.0  110.25  7.0   2  0.0   0  15.55  21.33\n",
       "1    0.98  514.5  294.0  110.25  7.0   3  0.0   0  15.55  21.33\n",
       "2    0.98  514.5  294.0  110.25  7.0   4  0.0   0  15.55  21.33\n",
       "3    0.98  514.5  294.0  110.25  7.0   5  0.0   0  15.55  21.33\n",
       "4    0.90  563.5  318.5  122.50  7.0   2  0.0   0  20.84  28.28\n",
       "..    ...    ...    ...     ...  ...  ..  ...  ..    ...    ...\n",
       "763  0.64  784.0  343.0  220.50  3.5   5  0.4   5  17.88  21.40\n",
       "764  0.62  808.5  367.5  220.50  3.5   2  0.4   5  16.54  16.88\n",
       "765  0.62  808.5  367.5  220.50  3.5   3  0.4   5  16.44  17.11\n",
       "766  0.62  808.5  367.5  220.50  3.5   4  0.4   5  16.48  16.61\n",
       "767  0.62  808.5  367.5  220.50  3.5   5  0.4   5  16.64  16.03\n",
       "\n",
       "[768 rows x 10 columns]"
      ]
     },
     "execution_count": 6,
     "metadata": {},
     "output_type": "execute_result"
    }
   ],
   "source": [
    "data"
   ]
  },
  {
   "cell_type": "code",
   "execution_count": 7,
   "metadata": {},
   "outputs": [
    {
     "name": "stdout",
     "output_type": "stream",
     "text": [
      "<class 'pandas.core.frame.DataFrame'>\n",
      "RangeIndex: 768 entries, 0 to 767\n",
      "Data columns (total 10 columns):\n",
      " #   Column  Non-Null Count  Dtype  \n",
      "---  ------  --------------  -----  \n",
      " 0   X1      768 non-null    float64\n",
      " 1   X2      768 non-null    float64\n",
      " 2   X3      768 non-null    float64\n",
      " 3   X4      768 non-null    float64\n",
      " 4   X5      768 non-null    float64\n",
      " 5   X6      768 non-null    int64  \n",
      " 6   X7      768 non-null    float64\n",
      " 7   X8      768 non-null    int64  \n",
      " 8   Y1      768 non-null    float64\n",
      " 9   Y2      768 non-null    float64\n",
      "dtypes: float64(8), int64(2)\n",
      "memory usage: 60.1 KB\n"
     ]
    }
   ],
   "source": [
    "data.info() #Checking data type and null-values"
   ]
  },
  {
   "cell_type": "code",
   "execution_count": 8,
   "metadata": {},
   "outputs": [
    {
     "data": {
      "text/plain": [
       "X1    0\n",
       "X2    0\n",
       "X3    0\n",
       "X4    0\n",
       "X5    0\n",
       "X6    0\n",
       "X7    0\n",
       "X8    0\n",
       "Y1    0\n",
       "Y2    0\n",
       "dtype: int64"
      ]
     },
     "execution_count": 8,
     "metadata": {},
     "output_type": "execute_result"
    }
   ],
   "source": [
    "data.isnull().sum()   #checking is there any null value or not."
   ]
  },
  {
   "cell_type": "raw",
   "metadata": {},
   "source": [
    "Now it is seen that there are no missing values."
   ]
  },
  {
   "cell_type": "code",
   "execution_count": 9,
   "metadata": {},
   "outputs": [
    {
     "data": {
      "text/plain": [
       "29.79    4\n",
       "14.28    4\n",
       "21.33    4\n",
       "14.27    4\n",
       "17.20    4\n",
       "        ..\n",
       "26.95    1\n",
       "37.20    1\n",
       "18.15    1\n",
       "14.42    1\n",
       "20.71    1\n",
       "Name: Y2, Length: 636, dtype: int64"
      ]
     },
     "execution_count": 9,
     "metadata": {},
     "output_type": "execute_result"
    }
   ],
   "source": [
    "data['Y2'].value_counts()  # Here value_counts is use to check how many similar values present in Y2 column."
   ]
  },
  {
   "cell_type": "code",
   "execution_count": 10,
   "metadata": {},
   "outputs": [
    {
     "data": {
      "text/html": [
       "<div>\n",
       "<style scoped>\n",
       "    .dataframe tbody tr th:only-of-type {\n",
       "        vertical-align: middle;\n",
       "    }\n",
       "\n",
       "    .dataframe tbody tr th {\n",
       "        vertical-align: top;\n",
       "    }\n",
       "\n",
       "    .dataframe thead th {\n",
       "        text-align: right;\n",
       "    }\n",
       "</style>\n",
       "<table border=\"1\" class=\"dataframe\">\n",
       "  <thead>\n",
       "    <tr style=\"text-align: right;\">\n",
       "      <th></th>\n",
       "      <th>X1</th>\n",
       "      <th>X2</th>\n",
       "      <th>X3</th>\n",
       "      <th>X4</th>\n",
       "      <th>X5</th>\n",
       "      <th>X6</th>\n",
       "      <th>X7</th>\n",
       "      <th>X8</th>\n",
       "      <th>Y2</th>\n",
       "    </tr>\n",
       "  </thead>\n",
       "  <tbody>\n",
       "    <tr>\n",
       "      <th>0</th>\n",
       "      <td>0.98</td>\n",
       "      <td>514.5</td>\n",
       "      <td>294.0</td>\n",
       "      <td>110.25</td>\n",
       "      <td>7.0</td>\n",
       "      <td>2</td>\n",
       "      <td>0.0</td>\n",
       "      <td>0</td>\n",
       "      <td>21.33</td>\n",
       "    </tr>\n",
       "    <tr>\n",
       "      <th>1</th>\n",
       "      <td>0.98</td>\n",
       "      <td>514.5</td>\n",
       "      <td>294.0</td>\n",
       "      <td>110.25</td>\n",
       "      <td>7.0</td>\n",
       "      <td>3</td>\n",
       "      <td>0.0</td>\n",
       "      <td>0</td>\n",
       "      <td>21.33</td>\n",
       "    </tr>\n",
       "    <tr>\n",
       "      <th>2</th>\n",
       "      <td>0.98</td>\n",
       "      <td>514.5</td>\n",
       "      <td>294.0</td>\n",
       "      <td>110.25</td>\n",
       "      <td>7.0</td>\n",
       "      <td>4</td>\n",
       "      <td>0.0</td>\n",
       "      <td>0</td>\n",
       "      <td>21.33</td>\n",
       "    </tr>\n",
       "    <tr>\n",
       "      <th>3</th>\n",
       "      <td>0.98</td>\n",
       "      <td>514.5</td>\n",
       "      <td>294.0</td>\n",
       "      <td>110.25</td>\n",
       "      <td>7.0</td>\n",
       "      <td>5</td>\n",
       "      <td>0.0</td>\n",
       "      <td>0</td>\n",
       "      <td>21.33</td>\n",
       "    </tr>\n",
       "    <tr>\n",
       "      <th>4</th>\n",
       "      <td>0.90</td>\n",
       "      <td>563.5</td>\n",
       "      <td>318.5</td>\n",
       "      <td>122.50</td>\n",
       "      <td>7.0</td>\n",
       "      <td>2</td>\n",
       "      <td>0.0</td>\n",
       "      <td>0</td>\n",
       "      <td>28.28</td>\n",
       "    </tr>\n",
       "  </tbody>\n",
       "</table>\n",
       "</div>"
      ],
      "text/plain": [
       "     X1     X2     X3      X4   X5  X6   X7  X8     Y2\n",
       "0  0.98  514.5  294.0  110.25  7.0   2  0.0   0  21.33\n",
       "1  0.98  514.5  294.0  110.25  7.0   3  0.0   0  21.33\n",
       "2  0.98  514.5  294.0  110.25  7.0   4  0.0   0  21.33\n",
       "3  0.98  514.5  294.0  110.25  7.0   5  0.0   0  21.33\n",
       "4  0.90  563.5  318.5  122.50  7.0   2  0.0   0  28.28"
      ]
     },
     "execution_count": 10,
     "metadata": {},
     "output_type": "execute_result"
    }
   ],
   "source": [
    "data.drop(\"Y1\",axis=1,inplace=True)   # We have to calculate for cooling Load, so we drop column for heating Load.\n",
    "data.head()"
   ]
  },
  {
   "cell_type": "raw",
   "metadata": {},
   "source": [
    "Now,there is need of checking whether our attributes contain outliers or not. Because outlier result in a poor fitting and lower predictive modeling performance.\n",
    "So, with the help of boxplot we see the outliers.Outliers i.e the values below 25% and above 75% in plot."
   ]
  },
  {
   "cell_type": "code",
   "execution_count": 11,
   "metadata": {},
   "outputs": [
    {
     "data": {
      "text/plain": [
       "Text(0.5, 1.0, 'Glazing Area Distribution')"
      ]
     },
     "execution_count": 11,
     "metadata": {},
     "output_type": "execute_result"
    },
    {
     "data": {
      "image/png": "[encoded data removed]",
      "text/plain": [
       "<Figure size 1440x1080 with 6 Axes>"
      ]
     },
     "metadata": {
      "needs_background": "light"
     },
     "output_type": "display_data"
    }
   ],
   "source": [
    "plt.figure(figsize = (20, 15))\n",
    "\n",
    "ax = plt.subplot(231)\n",
    "plt.boxplot(data.X1)\n",
    "ax.set_title('Relative compactness')\n",
    "\n",
    "ax = plt.subplot(232)\n",
    "plt.boxplot(data.X2)\n",
    "ax.set_title('Surface Area')\n",
    "\n",
    "ax = plt.subplot(233)\n",
    "plt.boxplot(data.X3)\n",
    "ax.set_title('Wall Area')\n",
    "\n",
    "ax = plt.subplot(234)\n",
    "plt.boxplot(data.X4)\n",
    "ax.set_title('Roof Area')\n",
    "\n",
    "ax = plt.subplot(235)\n",
    "plt.boxplot(data.X5)\n",
    "ax.set_title('Overall Height')\n",
    "\n",
    "ax = plt.subplot(236)\n",
    "plt.boxplot(data.X7)\n",
    "ax.set_title('Glazing Area Distribution')"
   ]
  },
  {
   "cell_type": "raw",
   "metadata": {},
   "source": [
    "So, it is found that there is no outliers present in our data set.Now, we are free to perform sevaral algorithms to check our model. "
   ]
  },
  {
   "cell_type": "raw",
   "metadata": {},
   "source": [
    "#  To just have a look at graphs of the attributees.\n",
    "sns.pairplot(data.iloc[:, :])\n",
    "Here we also draw pair plot , but from pairplot we can't analyse anything."
   ]
  },
  {
   "cell_type": "code",
   "execution_count": 12,
   "metadata": {},
   "outputs": [],
   "source": [
    "# Now we shall split our model into X and Y parts to finally predict the results using several algorithms.\n",
    "\n",
    "X=data[data.columns[:8]]  # It contain all independent attributes\n",
    "Y=data['Y2']  # It contain dependent attribute"
   ]
  },
  {
   "cell_type": "code",
   "execution_count": 13,
   "metadata": {},
   "outputs": [
    {
     "data": {
      "text/plain": [
       "((768, 8), ' ', (768,))"
      ]
     },
     "execution_count": 13,
     "metadata": {},
     "output_type": "execute_result"
    }
   ],
   "source": [
    "X.shape,' ',Y.shape   # as earlier explain our data contain 768 rows and 9 column( One column we drop above.)"
   ]
  },
  {
   "cell_type": "raw",
   "metadata": {},
   "source": [
    "Now  we split data into training and testing set.\n",
    "Separating data into training and testing sets is an important part of evaluating data mining models.\n",
    "Typically, when we separate a data set into a training set and testing set, most of the data is used for training, and a smaller portion of the data is used for testing. \n",
    "Analysis Services randomly samples the data to help ensure that the testing and training sets are similar. By using similar data for training and testing, we can minimize the effects of data discrepancies and better understand the characteristics of the model."
   ]
  },
  {
   "cell_type": "code",
   "execution_count": 17,
   "metadata": {},
   "outputs": [
    {
     "name": "stdout",
     "output_type": "stream",
     "text": [
      "(537, 8)    (231, 8)\n",
      "(537,)    (231,)\n"
     ]
    }
   ],
   "source": [
    "from sklearn.model_selection import train_test_split\n",
    "\n",
    "X_train, X_test, y_train, y_test = train_test_split(X, Y, test_size = 0.3, random_state = 10)\n",
    "\n",
    "print(X_train.shape,\"  \",X_test.shape)\n",
    "print(y_train.shape,\"  \",y_test.shape)"
   ]
  },
  {
   "cell_type": "markdown",
   "metadata": {},
   "source": [
    "# Linear Regression"
   ]
  },
  {
   "cell_type": "raw",
   "metadata": {},
   "source": [
    "Linear Regression is a supervised machine learning algorithm used to predict values within a continuous range.\n",
    "There are two types of linear regression:\n",
    "Simple linear regression which predict attribute on the basis of single dependent attribute and other is Multivariable linear regression on which prediction of dependent attribute based on multiple independent attributes.\n",
    "Here our data contain multiple variable so we go with multivariate linear regression.\n"
   ]
  },
  {
   "cell_type": "raw",
   "metadata": {},
   "source": [
    "Before moving towards regression first we need to check whether our attribute has any corelation with each other or not"
   ]
  },
  {
   "cell_type": "raw",
   "metadata": {},
   "source": [
    "We need to choose variables that we think we’ll be good predictors for the dependent variable — that can be done by checking the correlation(s) between variables, by plotting the data and searching visually for relationship, by conducting preliminary research on what variables are good predictors of y etc."
   ]
  },
  {
   "cell_type": "code",
   "execution_count": 14,
   "metadata": {},
   "outputs": [
    {
     "data": {
      "text/html": [
       "<div>\n",
       "<style scoped>\n",
       "    .dataframe tbody tr th:only-of-type {\n",
       "        vertical-align: middle;\n",
       "    }\n",
       "\n",
       "    .dataframe tbody tr th {\n",
       "        vertical-align: top;\n",
       "    }\n",
       "\n",
       "    .dataframe thead th {\n",
       "        text-align: right;\n",
       "    }\n",
       "</style>\n",
       "<table border=\"1\" class=\"dataframe\">\n",
       "  <thead>\n",
       "    <tr style=\"text-align: right;\">\n",
       "      <th></th>\n",
       "      <th>X1</th>\n",
       "      <th>X2</th>\n",
       "      <th>X3</th>\n",
       "      <th>X4</th>\n",
       "      <th>X5</th>\n",
       "      <th>X6</th>\n",
       "      <th>X7</th>\n",
       "      <th>X8</th>\n",
       "      <th>Y2</th>\n",
       "    </tr>\n",
       "  </thead>\n",
       "  <tbody>\n",
       "    <tr>\n",
       "      <th>0</th>\n",
       "      <td>0.98</td>\n",
       "      <td>514.5</td>\n",
       "      <td>294.0</td>\n",
       "      <td>110.25</td>\n",
       "      <td>7.0</td>\n",
       "      <td>2</td>\n",
       "      <td>0.0</td>\n",
       "      <td>0</td>\n",
       "      <td>21.33</td>\n",
       "    </tr>\n",
       "    <tr>\n",
       "      <th>1</th>\n",
       "      <td>0.98</td>\n",
       "      <td>514.5</td>\n",
       "      <td>294.0</td>\n",
       "      <td>110.25</td>\n",
       "      <td>7.0</td>\n",
       "      <td>3</td>\n",
       "      <td>0.0</td>\n",
       "      <td>0</td>\n",
       "      <td>21.33</td>\n",
       "    </tr>\n",
       "    <tr>\n",
       "      <th>2</th>\n",
       "      <td>0.98</td>\n",
       "      <td>514.5</td>\n",
       "      <td>294.0</td>\n",
       "      <td>110.25</td>\n",
       "      <td>7.0</td>\n",
       "      <td>4</td>\n",
       "      <td>0.0</td>\n",
       "      <td>0</td>\n",
       "      <td>21.33</td>\n",
       "    </tr>\n",
       "    <tr>\n",
       "      <th>3</th>\n",
       "      <td>0.98</td>\n",
       "      <td>514.5</td>\n",
       "      <td>294.0</td>\n",
       "      <td>110.25</td>\n",
       "      <td>7.0</td>\n",
       "      <td>5</td>\n",
       "      <td>0.0</td>\n",
       "      <td>0</td>\n",
       "      <td>21.33</td>\n",
       "    </tr>\n",
       "    <tr>\n",
       "      <th>4</th>\n",
       "      <td>0.90</td>\n",
       "      <td>563.5</td>\n",
       "      <td>318.5</td>\n",
       "      <td>122.50</td>\n",
       "      <td>7.0</td>\n",
       "      <td>2</td>\n",
       "      <td>0.0</td>\n",
       "      <td>0</td>\n",
       "      <td>28.28</td>\n",
       "    </tr>\n",
       "  </tbody>\n",
       "</table>\n",
       "</div>"
      ],
      "text/plain": [
       "     X1     X2     X3      X4   X5  X6   X7  X8     Y2\n",
       "0  0.98  514.5  294.0  110.25  7.0   2  0.0   0  21.33\n",
       "1  0.98  514.5  294.0  110.25  7.0   3  0.0   0  21.33\n",
       "2  0.98  514.5  294.0  110.25  7.0   4  0.0   0  21.33\n",
       "3  0.98  514.5  294.0  110.25  7.0   5  0.0   0  21.33\n",
       "4  0.90  563.5  318.5  122.50  7.0   2  0.0   0  28.28"
      ]
     },
     "execution_count": 14,
     "metadata": {},
     "output_type": "execute_result"
    }
   ],
   "source": [
    "data.head()"
   ]
  },
  {
   "cell_type": "code",
   "execution_count": 15,
   "metadata": {},
   "outputs": [
    {
     "data": {
      "text/html": [
       "<div>\n",
       "<style scoped>\n",
       "    .dataframe tbody tr th:only-of-type {\n",
       "        vertical-align: middle;\n",
       "    }\n",
       "\n",
       "    .dataframe tbody tr th {\n",
       "        vertical-align: top;\n",
       "    }\n",
       "\n",
       "    .dataframe thead th {\n",
       "        text-align: right;\n",
       "    }\n",
       "</style>\n",
       "<table border=\"1\" class=\"dataframe\">\n",
       "  <thead>\n",
       "    <tr style=\"text-align: right;\">\n",
       "      <th></th>\n",
       "      <th>X1</th>\n",
       "      <th>X2</th>\n",
       "      <th>X3</th>\n",
       "      <th>X4</th>\n",
       "      <th>X5</th>\n",
       "      <th>X6</th>\n",
       "      <th>X7</th>\n",
       "      <th>X8</th>\n",
       "      <th>Y2</th>\n",
       "    </tr>\n",
       "  </thead>\n",
       "  <tbody>\n",
       "    <tr>\n",
       "      <th>X1</th>\n",
       "      <td>1.000000e+00</td>\n",
       "      <td>-9.919015e-01</td>\n",
       "      <td>-2.037817e-01</td>\n",
       "      <td>-8.688234e-01</td>\n",
       "      <td>8.277473e-01</td>\n",
       "      <td>4.678592e-17</td>\n",
       "      <td>-2.960552e-15</td>\n",
       "      <td>-7.107006e-16</td>\n",
       "      <td>0.634339</td>\n",
       "    </tr>\n",
       "    <tr>\n",
       "      <th>X2</th>\n",
       "      <td>-9.919015e-01</td>\n",
       "      <td>1.000000e+00</td>\n",
       "      <td>1.955016e-01</td>\n",
       "      <td>8.807195e-01</td>\n",
       "      <td>-8.581477e-01</td>\n",
       "      <td>-3.459372e-17</td>\n",
       "      <td>3.636925e-15</td>\n",
       "      <td>2.438409e-15</td>\n",
       "      <td>-0.672999</td>\n",
       "    </tr>\n",
       "    <tr>\n",
       "      <th>X3</th>\n",
       "      <td>-2.037817e-01</td>\n",
       "      <td>1.955016e-01</td>\n",
       "      <td>1.000000e+00</td>\n",
       "      <td>-2.923165e-01</td>\n",
       "      <td>2.809757e-01</td>\n",
       "      <td>-2.429499e-17</td>\n",
       "      <td>-8.567455e-17</td>\n",
       "      <td>2.067384e-16</td>\n",
       "      <td>0.427117</td>\n",
       "    </tr>\n",
       "    <tr>\n",
       "      <th>X4</th>\n",
       "      <td>-8.688234e-01</td>\n",
       "      <td>8.807195e-01</td>\n",
       "      <td>-2.923165e-01</td>\n",
       "      <td>1.000000e+00</td>\n",
       "      <td>-9.725122e-01</td>\n",
       "      <td>-5.830058e-17</td>\n",
       "      <td>-1.759011e-15</td>\n",
       "      <td>-1.078071e-15</td>\n",
       "      <td>-0.862547</td>\n",
       "    </tr>\n",
       "    <tr>\n",
       "      <th>X5</th>\n",
       "      <td>8.277473e-01</td>\n",
       "      <td>-8.581477e-01</td>\n",
       "      <td>2.809757e-01</td>\n",
       "      <td>-9.725122e-01</td>\n",
       "      <td>1.000000e+00</td>\n",
       "      <td>4.492205e-17</td>\n",
       "      <td>1.489134e-17</td>\n",
       "      <td>-2.920613e-17</td>\n",
       "      <td>0.895785</td>\n",
       "    </tr>\n",
       "    <tr>\n",
       "      <th>X6</th>\n",
       "      <td>4.678592e-17</td>\n",
       "      <td>-3.459372e-17</td>\n",
       "      <td>-2.429499e-17</td>\n",
       "      <td>-5.830058e-17</td>\n",
       "      <td>4.492205e-17</td>\n",
       "      <td>1.000000e+00</td>\n",
       "      <td>-9.406007e-16</td>\n",
       "      <td>-2.549352e-16</td>\n",
       "      <td>0.014290</td>\n",
       "    </tr>\n",
       "    <tr>\n",
       "      <th>X7</th>\n",
       "      <td>-2.960552e-15</td>\n",
       "      <td>3.636925e-15</td>\n",
       "      <td>-8.567455e-17</td>\n",
       "      <td>-1.759011e-15</td>\n",
       "      <td>1.489134e-17</td>\n",
       "      <td>-9.406007e-16</td>\n",
       "      <td>1.000000e+00</td>\n",
       "      <td>2.129642e-01</td>\n",
       "      <td>0.207505</td>\n",
       "    </tr>\n",
       "    <tr>\n",
       "      <th>X8</th>\n",
       "      <td>-7.107006e-16</td>\n",
       "      <td>2.438409e-15</td>\n",
       "      <td>2.067384e-16</td>\n",
       "      <td>-1.078071e-15</td>\n",
       "      <td>-2.920613e-17</td>\n",
       "      <td>-2.549352e-16</td>\n",
       "      <td>2.129642e-01</td>\n",
       "      <td>1.000000e+00</td>\n",
       "      <td>0.050525</td>\n",
       "    </tr>\n",
       "    <tr>\n",
       "      <th>Y2</th>\n",
       "      <td>6.343391e-01</td>\n",
       "      <td>-6.729989e-01</td>\n",
       "      <td>4.271170e-01</td>\n",
       "      <td>-8.625466e-01</td>\n",
       "      <td>8.957852e-01</td>\n",
       "      <td>1.428960e-02</td>\n",
       "      <td>2.075050e-01</td>\n",
       "      <td>5.052512e-02</td>\n",
       "      <td>1.000000</td>\n",
       "    </tr>\n",
       "  </tbody>\n",
       "</table>\n",
       "</div>"
      ],
      "text/plain": [
       "              X1            X2            X3            X4            X5  \\\n",
       "X1  1.000000e+00 -9.919015e-01 -2.037817e-01 -8.688234e-01  8.277473e-01   \n",
       "X2 -9.919015e-01  1.000000e+00  1.955016e-01  8.807195e-01 -8.581477e-01   \n",
       "X3 -2.037817e-01  1.955016e-01  1.000000e+00 -2.923165e-01  2.809757e-01   \n",
       "X4 -8.688234e-01  8.807195e-01 -2.923165e-01  1.000000e+00 -9.725122e-01   \n",
       "X5  8.277473e-01 -8.581477e-01  2.809757e-01 -9.725122e-01  1.000000e+00   \n",
       "X6  4.678592e-17 -3.459372e-17 -2.429499e-17 -5.830058e-17  4.492205e-17   \n",
       "X7 -2.960552e-15  3.636925e-15 -8.567455e-17 -1.759011e-15  1.489134e-17   \n",
       "X8 -7.107006e-16  2.438409e-15  2.067384e-16 -1.078071e-15 -2.920613e-17   \n",
       "Y2  6.343391e-01 -6.729989e-01  4.271170e-01 -8.625466e-01  8.957852e-01   \n",
       "\n",
       "              X6            X7            X8        Y2  \n",
       "X1  4.678592e-17 -2.960552e-15 -7.107006e-16  0.634339  \n",
       "X2 -3.459372e-17  3.636925e-15  2.438409e-15 -0.672999  \n",
       "X3 -2.429499e-17 -8.567455e-17  2.067384e-16  0.427117  \n",
       "X4 -5.830058e-17 -1.759011e-15 -1.078071e-15 -0.862547  \n",
       "X5  4.492205e-17  1.489134e-17 -2.920613e-17  0.895785  \n",
       "X6  1.000000e+00 -9.406007e-16 -2.549352e-16  0.014290  \n",
       "X7 -9.406007e-16  1.000000e+00  2.129642e-01  0.207505  \n",
       "X8 -2.549352e-16  2.129642e-01  1.000000e+00  0.050525  \n",
       "Y2  1.428960e-02  2.075050e-01  5.052512e-02  1.000000  "
      ]
     },
     "execution_count": 15,
     "metadata": {},
     "output_type": "execute_result"
    }
   ],
   "source": [
    "data.corr()  # calculating the corelation to see the relation between each attribute"
   ]
  },
  {
   "cell_type": "code",
   "execution_count": 16,
   "metadata": {
    "scrolled": true
   },
   "outputs": [
    {
     "data": {
      "text/plain": [
       "<AxesSubplot:>"
      ]
     },
     "execution_count": 16,
     "metadata": {},
     "output_type": "execute_result"
    },
    {
     "data": {
      "image/png": "[encoded data removed]",
      "text/plain": [
       "<Figure size 1080x720 with 2 Axes>"
      ]
     },
     "metadata": {
      "needs_background": "light"
     },
     "output_type": "display_data"
    }
   ],
   "source": [
    "plt.subplots(figsize=(15,10))\n",
    "sns.heatmap(data.corr(),annot=True, cmap=\"YlGnBu\",fmt='0.3f')  # Plotting heatmap of correlation"
   ]
  },
  {
   "cell_type": "raw",
   "metadata": {},
   "source": [
    "From the above heat map:\n",
    "we get a high corelation between X2-X4 =0.881, X5-X1=0.828,and X5-Y2=0.896\n"
   ]
  },
  {
   "cell_type": "raw",
   "metadata": {},
   "source": [
    "There are two main ways to perform linear regression in Python — with Statsmodels and scikit-learn.\n",
    "Statsmodels is “a Python module that provides classes and functions for the estimation of many different statistical models, as well as for conducting statistical tests, and statistical data exploration.” "
   ]
  },
  {
   "cell_type": "raw",
   "metadata": {},
   "source": [
    "Here we are going to fit our linear regression model using statsmodel.\n",
    "Our dependent attribute is Y2(Cooling Load). "
   ]
  },
  {
   "cell_type": "code",
   "execution_count": 17,
   "metadata": {},
   "outputs": [],
   "source": [
    "import statsmodels.formula.api as smf # fitting the model\n",
    "\n",
    "model02 = smf.ols('Y2~X1+X2+X3+X4+X5+X6+X7+X8', data = data).fit()"
   ]
  },
  {
   "cell_type": "code",
   "execution_count": 18,
   "metadata": {},
   "outputs": [
    {
     "data": {
      "text/plain": [
       "Intercept    97.245749\n",
       "X1          -70.787707\n",
       "X2           -0.066090\n",
       "X3            0.022528\n",
       "X4           -0.044309\n",
       "X5            4.283843\n",
       "X6            0.121510\n",
       "X7           14.717068\n",
       "X8            0.040697\n",
       "dtype: float64"
      ]
     },
     "execution_count": 18,
     "metadata": {},
     "output_type": "execute_result"
    }
   ],
   "source": [
    "model02.params"
   ]
  },
  {
   "cell_type": "code",
   "execution_count": 19,
   "metadata": {},
   "outputs": [
    {
     "data": {
      "text/html": [
       "<table class=\"simpletable\">\n",
       "<caption>OLS Regression Results</caption>\n",
       "<tr>\n",
       "  <th>Dep. Variable:</th>           <td>Y2</td>        <th>  R-squared:         </th> <td>   0.888</td>\n",
       "</tr>\n",
       "<tr>\n",
       "  <th>Model:</th>                   <td>OLS</td>       <th>  Adj. R-squared:    </th> <td>   0.887</td>\n",
       "</tr>\n",
       "<tr>\n",
       "  <th>Method:</th>             <td>Least Squares</td>  <th>  F-statistic:       </th> <td>   859.1</td>\n",
       "</tr>\n",
       "<tr>\n",
       "  <th>Date:</th>             <td>Fri, 27 Aug 2021</td> <th>  Prob (F-statistic):</th>  <td>  0.00</td> \n",
       "</tr>\n",
       "<tr>\n",
       "  <th>Time:</th>                 <td>19:49:23</td>     <th>  Log-Likelihood:    </th> <td> -1979.3</td>\n",
       "</tr>\n",
       "<tr>\n",
       "  <th>No. Observations:</th>      <td>   768</td>      <th>  AIC:               </th> <td>   3975.</td>\n",
       "</tr>\n",
       "<tr>\n",
       "  <th>Df Residuals:</th>          <td>   760</td>      <th>  BIC:               </th> <td>   4012.</td>\n",
       "</tr>\n",
       "<tr>\n",
       "  <th>Df Model:</th>              <td>     7</td>      <th>                     </th>     <td> </td>   \n",
       "</tr>\n",
       "<tr>\n",
       "  <th>Covariance Type:</th>      <td>nonrobust</td>    <th>                     </th>     <td> </td>   \n",
       "</tr>\n",
       "</table>\n",
       "<table class=\"simpletable\">\n",
       "<tr>\n",
       "      <td></td>         <th>coef</th>     <th>std err</th>      <th>t</th>      <th>P>|t|</th>  <th>[0.025</th>    <th>0.975]</th>  \n",
       "</tr>\n",
       "<tr>\n",
       "  <th>Intercept</th> <td>   97.2457</td> <td>   20.765</td> <td>    4.683</td> <td> 0.000</td> <td>   56.483</td> <td>  138.009</td>\n",
       "</tr>\n",
       "<tr>\n",
       "  <th>X1</th>        <td>  -70.7877</td> <td>   11.225</td> <td>   -6.306</td> <td> 0.000</td> <td>  -92.824</td> <td>  -48.751</td>\n",
       "</tr>\n",
       "<tr>\n",
       "  <th>X2</th>        <td>   -0.0661</td> <td>    0.015</td> <td>   -4.519</td> <td> 0.000</td> <td>   -0.095</td> <td>   -0.037</td>\n",
       "</tr>\n",
       "<tr>\n",
       "  <th>X3</th>        <td>    0.0225</td> <td>    0.004</td> <td>    5.365</td> <td> 0.000</td> <td>    0.014</td> <td>    0.031</td>\n",
       "</tr>\n",
       "<tr>\n",
       "  <th>X4</th>        <td>   -0.0443</td> <td>    0.008</td> <td>   -5.404</td> <td> 0.000</td> <td>   -0.060</td> <td>   -0.028</td>\n",
       "</tr>\n",
       "<tr>\n",
       "  <th>X5</th>        <td>    4.2838</td> <td>    0.369</td> <td>   11.618</td> <td> 0.000</td> <td>    3.560</td> <td>    5.008</td>\n",
       "</tr>\n",
       "<tr>\n",
       "  <th>X6</th>        <td>    0.1215</td> <td>    0.103</td> <td>    1.176</td> <td> 0.240</td> <td>   -0.081</td> <td>    0.324</td>\n",
       "</tr>\n",
       "<tr>\n",
       "  <th>X7</th>        <td>   14.7171</td> <td>    0.888</td> <td>   16.573</td> <td> 0.000</td> <td>   12.974</td> <td>   16.460</td>\n",
       "</tr>\n",
       "<tr>\n",
       "  <th>X8</th>        <td>    0.0407</td> <td>    0.076</td> <td>    0.534</td> <td> 0.594</td> <td>   -0.109</td> <td>    0.190</td>\n",
       "</tr>\n",
       "</table>\n",
       "<table class=\"simpletable\">\n",
       "<tr>\n",
       "  <th>Omnibus:</th>       <td>104.668</td> <th>  Durbin-Watson:     </th> <td>   1.094</td>\n",
       "</tr>\n",
       "<tr>\n",
       "  <th>Prob(Omnibus):</th> <td> 0.000</td>  <th>  Jarque-Bera (JB):  </th> <td> 230.547</td>\n",
       "</tr>\n",
       "<tr>\n",
       "  <th>Skew:</th>          <td> 0.767</td>  <th>  Prob(JB):          </th> <td>8.65e-51</td>\n",
       "</tr>\n",
       "<tr>\n",
       "  <th>Kurtosis:</th>      <td> 5.203</td>  <th>  Cond. No.          </th> <td>1.09e+16</td>\n",
       "</tr>\n",
       "</table><br/><br/>Notes:<br/>[1] Standard Errors assume that the covariance matrix of the errors is correctly specified.<br/>[2] The smallest eigenvalue is 3.81e-24. This might indicate that there are<br/>strong multicollinearity problems or that the design matrix is singular."
      ],
      "text/plain": [
       "<class 'statsmodels.iolib.summary.Summary'>\n",
       "\"\"\"\n",
       "                            OLS Regression Results                            \n",
       "==============================================================================\n",
       "Dep. Variable:                     Y2   R-squared:                       0.888\n",
       "Model:                            OLS   Adj. R-squared:                  0.887\n",
       "Method:                 Least Squares   F-statistic:                     859.1\n",
       "Date:                Fri, 27 Aug 2021   Prob (F-statistic):               0.00\n",
       "Time:                        19:49:23   Log-Likelihood:                -1979.3\n",
       "No. Observations:                 768   AIC:                             3975.\n",
       "Df Residuals:                     760   BIC:                             4012.\n",
       "Df Model:                           7                                         \n",
       "Covariance Type:            nonrobust                                         \n",
       "==============================================================================\n",
       "                 coef    std err          t      P>|t|      [0.025      0.975]\n",
       "------------------------------------------------------------------------------\n",
       "Intercept     97.2457     20.765      4.683      0.000      56.483     138.009\n",
       "X1           -70.7877     11.225     -6.306      0.000     -92.824     -48.751\n",
       "X2            -0.0661      0.015     -4.519      0.000      -0.095      -0.037\n",
       "X3             0.0225      0.004      5.365      0.000       0.014       0.031\n",
       "X4            -0.0443      0.008     -5.404      0.000      -0.060      -0.028\n",
       "X5             4.2838      0.369     11.618      0.000       3.560       5.008\n",
       "X6             0.1215      0.103      1.176      0.240      -0.081       0.324\n",
       "X7            14.7171      0.888     16.573      0.000      12.974      16.460\n",
       "X8             0.0407      0.076      0.534      0.594      -0.109       0.190\n",
       "==============================================================================\n",
       "Omnibus:                      104.668   Durbin-Watson:                   1.094\n",
       "Prob(Omnibus):                  0.000   Jarque-Bera (JB):              230.547\n",
       "Skew:                           0.767   Prob(JB):                     8.65e-51\n",
       "Kurtosis:                       5.203   Cond. No.                     1.09e+16\n",
       "==============================================================================\n",
       "\n",
       "Notes:\n",
       "[1] Standard Errors assume that the covariance matrix of the errors is correctly specified.\n",
       "[2] The smallest eigenvalue is 3.81e-24. This might indicate that there are\n",
       "strong multicollinearity problems or that the design matrix is singular.\n",
       "\"\"\""
      ]
     },
     "execution_count": 19,
     "metadata": {},
     "output_type": "execute_result"
    }
   ],
   "source": [
    "model02.summary()"
   ]
  },
  {
   "cell_type": "raw",
   "metadata": {},
   "source": [
    "OLS stands for Ordinary Least Squares and the method “Least Squares” means that we’re trying to fit a regression line that would minimize the square of distance from the regression line.\n",
    "The R-squared — the percentage of variance our model explains the standard error (is the standard deviation of the sampling distribution of a statistic, most commonly of the mean). The t scores and p-values, for hypothesis test."
   ]
  },
  {
   "cell_type": "raw",
   "metadata": {},
   "source": [
    "We can see here that this model has a R-squared value of 0.888, meaning that this model explains 88.8% of the variance in our dependent variable."
   ]
  },
  {
   "cell_type": "raw",
   "metadata": {},
   "source": [
    "Here we get \"p value\" of Orientation and Glazing Area Distribution greater than 0.05. So, we try to check separate model to get some information."
   ]
  },
  {
   "cell_type": "code",
   "execution_count": 24,
   "metadata": {},
   "outputs": [
    {
     "data": {
      "text/plain": [
       "Intercept    24.162474\n",
       "X6            0.121510\n",
       "dtype: float64"
      ]
     },
     "execution_count": 24,
     "metadata": {},
     "output_type": "execute_result"
    }
   ],
   "source": [
    "#prepare a model based on Orientation\n",
    "model_O=smf.ols('Y2~X6',data=data).fit()\n",
    "model_O.params"
   ]
  },
  {
   "cell_type": "code",
   "execution_count": 25,
   "metadata": {},
   "outputs": [
    {
     "data": {
      "text/html": [
       "<table class=\"simpletable\">\n",
       "<caption>OLS Regression Results</caption>\n",
       "<tr>\n",
       "  <th>Dep. Variable:</th>           <td>Y2</td>        <th>  R-squared:         </th> <td>   0.000</td>\n",
       "</tr>\n",
       "<tr>\n",
       "  <th>Model:</th>                   <td>OLS</td>       <th>  Adj. R-squared:    </th> <td>  -0.001</td>\n",
       "</tr>\n",
       "<tr>\n",
       "  <th>Method:</th>             <td>Least Squares</td>  <th>  F-statistic:       </th> <td>  0.1564</td>\n",
       "</tr>\n",
       "<tr>\n",
       "  <th>Date:</th>             <td>Thu, 12 Aug 2021</td> <th>  Prob (F-statistic):</th>  <td> 0.693</td> \n",
       "</tr>\n",
       "<tr>\n",
       "  <th>Time:</th>                 <td>14:54:20</td>     <th>  Log-Likelihood:    </th> <td> -2819.2</td>\n",
       "</tr>\n",
       "<tr>\n",
       "  <th>No. Observations:</th>      <td>   768</td>      <th>  AIC:               </th> <td>   5642.</td>\n",
       "</tr>\n",
       "<tr>\n",
       "  <th>Df Residuals:</th>          <td>   766</td>      <th>  BIC:               </th> <td>   5652.</td>\n",
       "</tr>\n",
       "<tr>\n",
       "  <th>Df Model:</th>              <td>     1</td>      <th>                     </th>     <td> </td>   \n",
       "</tr>\n",
       "<tr>\n",
       "  <th>Covariance Type:</th>      <td>nonrobust</td>    <th>                     </th>     <td> </td>   \n",
       "</tr>\n",
       "</table>\n",
       "<table class=\"simpletable\">\n",
       "<tr>\n",
       "      <td></td>         <th>coef</th>     <th>std err</th>      <th>t</th>      <th>P>|t|</th>  <th>[0.025</th>    <th>0.975]</th>  \n",
       "</tr>\n",
       "<tr>\n",
       "  <th>Intercept</th> <td>   24.1625</td> <td>    1.129</td> <td>   21.406</td> <td> 0.000</td> <td>   21.947</td> <td>   26.378</td>\n",
       "</tr>\n",
       "<tr>\n",
       "  <th>X6</th>        <td>    0.1215</td> <td>    0.307</td> <td>    0.396</td> <td> 0.693</td> <td>   -0.482</td> <td>    0.725</td>\n",
       "</tr>\n",
       "</table>\n",
       "<table class=\"simpletable\">\n",
       "<tr>\n",
       "  <th>Omnibus:</th>       <td>392.702</td> <th>  Durbin-Watson:     </th> <td>   0.271</td>\n",
       "</tr>\n",
       "<tr>\n",
       "  <th>Prob(Omnibus):</th> <td> 0.000</td>  <th>  Jarque-Bera (JB):  </th> <td>  62.149</td>\n",
       "</tr>\n",
       "<tr>\n",
       "  <th>Skew:</th>          <td> 0.395</td>  <th>  Prob(JB):          </th> <td>3.20e-14</td>\n",
       "</tr>\n",
       "<tr>\n",
       "  <th>Kurtosis:</th>      <td> 1.851</td>  <th>  Cond. No.          </th> <td>    12.9</td>\n",
       "</tr>\n",
       "</table><br/><br/>Notes:<br/>[1] Standard Errors assume that the covariance matrix of the errors is correctly specified."
      ],
      "text/plain": [
       "<class 'statsmodels.iolib.summary.Summary'>\n",
       "\"\"\"\n",
       "                            OLS Regression Results                            \n",
       "==============================================================================\n",
       "Dep. Variable:                     Y2   R-squared:                       0.000\n",
       "Model:                            OLS   Adj. R-squared:                 -0.001\n",
       "Method:                 Least Squares   F-statistic:                    0.1564\n",
       "Date:                Thu, 12 Aug 2021   Prob (F-statistic):              0.693\n",
       "Time:                        14:54:20   Log-Likelihood:                -2819.2\n",
       "No. Observations:                 768   AIC:                             5642.\n",
       "Df Residuals:                     766   BIC:                             5652.\n",
       "Df Model:                           1                                         \n",
       "Covariance Type:            nonrobust                                         \n",
       "==============================================================================\n",
       "                 coef    std err          t      P>|t|      [0.025      0.975]\n",
       "------------------------------------------------------------------------------\n",
       "Intercept     24.1625      1.129     21.406      0.000      21.947      26.378\n",
       "X6             0.1215      0.307      0.396      0.693      -0.482       0.725\n",
       "==============================================================================\n",
       "Omnibus:                      392.702   Durbin-Watson:                   0.271\n",
       "Prob(Omnibus):                  0.000   Jarque-Bera (JB):               62.149\n",
       "Skew:                           0.395   Prob(JB):                     3.20e-14\n",
       "Kurtosis:                       1.851   Cond. No.                         12.9\n",
       "==============================================================================\n",
       "\n",
       "Notes:\n",
       "[1] Standard Errors assume that the covariance matrix of the errors is correctly specified.\n",
       "\"\"\""
      ]
     },
     "execution_count": 25,
     "metadata": {},
     "output_type": "execute_result"
    }
   ],
   "source": [
    "model_O.summary()"
   ]
  },
  {
   "cell_type": "raw",
   "metadata": {},
   "source": [
    "Here, the p-value of X6 is greater than 0.05.So, as we seen earlier X6 have a small correlation ,and it's p value also greater.Then, we don't use X6 in model."
   ]
  },
  {
   "cell_type": "code",
   "execution_count": 26,
   "metadata": {},
   "outputs": [
    {
     "data": {
      "text/html": [
       "<table class=\"simpletable\">\n",
       "<caption>OLS Regression Results</caption>\n",
       "<tr>\n",
       "  <th>Dep. Variable:</th>           <td>Y2</td>        <th>  R-squared:         </th> <td>   0.003</td>\n",
       "</tr>\n",
       "<tr>\n",
       "  <th>Model:</th>                   <td>OLS</td>       <th>  Adj. R-squared:    </th> <td>   0.001</td>\n",
       "</tr>\n",
       "<tr>\n",
       "  <th>Method:</th>             <td>Least Squares</td>  <th>  F-statistic:       </th> <td>   1.960</td>\n",
       "</tr>\n",
       "<tr>\n",
       "  <th>Date:</th>             <td>Thu, 12 Aug 2021</td> <th>  Prob (F-statistic):</th>  <td> 0.162</td> \n",
       "</tr>\n",
       "<tr>\n",
       "  <th>Time:</th>                 <td>14:54:20</td>     <th>  Log-Likelihood:    </th> <td> -2818.3</td>\n",
       "</tr>\n",
       "<tr>\n",
       "  <th>No. Observations:</th>      <td>   768</td>      <th>  AIC:               </th> <td>   5641.</td>\n",
       "</tr>\n",
       "<tr>\n",
       "  <th>Df Residuals:</th>          <td>   766</td>      <th>  BIC:               </th> <td>   5650.</td>\n",
       "</tr>\n",
       "<tr>\n",
       "  <th>Df Model:</th>              <td>     1</td>      <th>                     </th>     <td> </td>   \n",
       "</tr>\n",
       "<tr>\n",
       "  <th>Covariance Type:</th>      <td>nonrobust</td>    <th>                     </th>     <td> </td>   \n",
       "</tr>\n",
       "</table>\n",
       "<table class=\"simpletable\">\n",
       "<tr>\n",
       "      <td></td>         <th>coef</th>     <th>std err</th>      <th>t</th>      <th>P>|t|</th>  <th>[0.025</th>    <th>0.975]</th>  \n",
       "</tr>\n",
       "<tr>\n",
       "  <th>Intercept</th> <td>   23.7161</td> <td>    0.711</td> <td>   33.366</td> <td> 0.000</td> <td>   22.321</td> <td>   25.111</td>\n",
       "</tr>\n",
       "<tr>\n",
       "  <th>X8</th>        <td>    0.3099</td> <td>    0.221</td> <td>    1.400</td> <td> 0.162</td> <td>   -0.125</td> <td>    0.744</td>\n",
       "</tr>\n",
       "</table>\n",
       "<table class=\"simpletable\">\n",
       "<tr>\n",
       "  <th>Omnibus:</th>       <td>391.345</td> <th>  Durbin-Watson:     </th> <td>   0.271</td>\n",
       "</tr>\n",
       "<tr>\n",
       "  <th>Prob(Omnibus):</th> <td> 0.000</td>  <th>  Jarque-Bera (JB):  </th> <td>  62.251</td>\n",
       "</tr>\n",
       "<tr>\n",
       "  <th>Skew:</th>          <td> 0.396</td>  <th>  Prob(JB):          </th> <td>3.04e-14</td>\n",
       "</tr>\n",
       "<tr>\n",
       "  <th>Kurtosis:</th>      <td> 1.852</td>  <th>  Cond. No.          </th> <td>    7.16</td>\n",
       "</tr>\n",
       "</table><br/><br/>Notes:<br/>[1] Standard Errors assume that the covariance matrix of the errors is correctly specified."
      ],
      "text/plain": [
       "<class 'statsmodels.iolib.summary.Summary'>\n",
       "\"\"\"\n",
       "                            OLS Regression Results                            \n",
       "==============================================================================\n",
       "Dep. Variable:                     Y2   R-squared:                       0.003\n",
       "Model:                            OLS   Adj. R-squared:                  0.001\n",
       "Method:                 Least Squares   F-statistic:                     1.960\n",
       "Date:                Thu, 12 Aug 2021   Prob (F-statistic):              0.162\n",
       "Time:                        14:54:20   Log-Likelihood:                -2818.3\n",
       "No. Observations:                 768   AIC:                             5641.\n",
       "Df Residuals:                     766   BIC:                             5650.\n",
       "Df Model:                           1                                         \n",
       "Covariance Type:            nonrobust                                         \n",
       "==============================================================================\n",
       "                 coef    std err          t      P>|t|      [0.025      0.975]\n",
       "------------------------------------------------------------------------------\n",
       "Intercept     23.7161      0.711     33.366      0.000      22.321      25.111\n",
       "X8             0.3099      0.221      1.400      0.162      -0.125       0.744\n",
       "==============================================================================\n",
       "Omnibus:                      391.345   Durbin-Watson:                   0.271\n",
       "Prob(Omnibus):                  0.000   Jarque-Bera (JB):               62.251\n",
       "Skew:                           0.396   Prob(JB):                     3.04e-14\n",
       "Kurtosis:                       1.852   Cond. No.                         7.16\n",
       "==============================================================================\n",
       "\n",
       "Notes:\n",
       "[1] Standard Errors assume that the covariance matrix of the errors is correctly specified.\n",
       "\"\"\""
      ]
     },
     "execution_count": 26,
     "metadata": {},
     "output_type": "execute_result"
    }
   ],
   "source": [
    "#prepare a model based on Glazing Area Distribution\n",
    "model_GD=smf.ols('Y2~X8', data=data).fit()\n",
    "model_GD.summary()"
   ]
  },
  {
   "cell_type": "raw",
   "metadata": {},
   "source": [
    "Here the p-value of X8 is greater then 0.05. So, again due to less colinearity and high p-value, X8 is not use in model."
   ]
  },
  {
   "cell_type": "code",
   "execution_count": 27,
   "metadata": {},
   "outputs": [
    {
     "data": {
      "text/html": [
       "<table class=\"simpletable\">\n",
       "<caption>OLS Regression Results</caption>\n",
       "<tr>\n",
       "  <th>Dep. Variable:</th>           <td>Y2</td>        <th>  R-squared:         </th> <td>   0.003</td>\n",
       "</tr>\n",
       "<tr>\n",
       "  <th>Model:</th>                   <td>OLS</td>       <th>  Adj. R-squared:    </th> <td>   0.000</td>\n",
       "</tr>\n",
       "<tr>\n",
       "  <th>Method:</th>             <td>Least Squares</td>  <th>  F-statistic:       </th> <td>   1.057</td>\n",
       "</tr>\n",
       "<tr>\n",
       "  <th>Date:</th>             <td>Thu, 12 Aug 2021</td> <th>  Prob (F-statistic):</th>  <td> 0.348</td> \n",
       "</tr>\n",
       "<tr>\n",
       "  <th>Time:</th>                 <td>14:54:20</td>     <th>  Log-Likelihood:    </th> <td> -2818.3</td>\n",
       "</tr>\n",
       "<tr>\n",
       "  <th>No. Observations:</th>      <td>   768</td>      <th>  AIC:               </th> <td>   5643.</td>\n",
       "</tr>\n",
       "<tr>\n",
       "  <th>Df Residuals:</th>          <td>   765</td>      <th>  BIC:               </th> <td>   5656.</td>\n",
       "</tr>\n",
       "<tr>\n",
       "  <th>Df Model:</th>              <td>     2</td>      <th>                     </th>     <td> </td>   \n",
       "</tr>\n",
       "<tr>\n",
       "  <th>Covariance Type:</th>      <td>nonrobust</td>    <th>                     </th>     <td> </td>   \n",
       "</tr>\n",
       "</table>\n",
       "<table class=\"simpletable\">\n",
       "<tr>\n",
       "      <td></td>         <th>coef</th>     <th>std err</th>      <th>t</th>      <th>P>|t|</th>  <th>[0.025</th>    <th>0.975]</th>  \n",
       "</tr>\n",
       "<tr>\n",
       "  <th>Intercept</th> <td>   23.2908</td> <td>    1.289</td> <td>   18.075</td> <td> 0.000</td> <td>   20.761</td> <td>   25.820</td>\n",
       "</tr>\n",
       "<tr>\n",
       "  <th>X6</th>        <td>    0.1215</td> <td>    0.307</td> <td>    0.396</td> <td> 0.692</td> <td>   -0.481</td> <td>    0.724</td>\n",
       "</tr>\n",
       "<tr>\n",
       "  <th>X8</th>        <td>    0.3099</td> <td>    0.221</td> <td>    1.399</td> <td> 0.162</td> <td>   -0.125</td> <td>    0.745</td>\n",
       "</tr>\n",
       "</table>\n",
       "<table class=\"simpletable\">\n",
       "<tr>\n",
       "  <th>Omnibus:</th>       <td>393.370</td> <th>  Durbin-Watson:     </th> <td>   0.271</td>\n",
       "</tr>\n",
       "<tr>\n",
       "  <th>Prob(Omnibus):</th> <td> 0.000</td>  <th>  Jarque-Bera (JB):  </th> <td>  62.260</td>\n",
       "</tr>\n",
       "<tr>\n",
       "  <th>Skew:</th>          <td> 0.396</td>  <th>  Prob(JB):          </th> <td>3.02e-14</td>\n",
       "</tr>\n",
       "<tr>\n",
       "  <th>Kurtosis:</th>      <td> 1.851</td>  <th>  Cond. No.          </th> <td>    18.3</td>\n",
       "</tr>\n",
       "</table><br/><br/>Notes:<br/>[1] Standard Errors assume that the covariance matrix of the errors is correctly specified."
      ],
      "text/plain": [
       "<class 'statsmodels.iolib.summary.Summary'>\n",
       "\"\"\"\n",
       "                            OLS Regression Results                            \n",
       "==============================================================================\n",
       "Dep. Variable:                     Y2   R-squared:                       0.003\n",
       "Model:                            OLS   Adj. R-squared:                  0.000\n",
       "Method:                 Least Squares   F-statistic:                     1.057\n",
       "Date:                Thu, 12 Aug 2021   Prob (F-statistic):              0.348\n",
       "Time:                        14:54:20   Log-Likelihood:                -2818.3\n",
       "No. Observations:                 768   AIC:                             5643.\n",
       "Df Residuals:                     765   BIC:                             5656.\n",
       "Df Model:                           2                                         \n",
       "Covariance Type:            nonrobust                                         \n",
       "==============================================================================\n",
       "                 coef    std err          t      P>|t|      [0.025      0.975]\n",
       "------------------------------------------------------------------------------\n",
       "Intercept     23.2908      1.289     18.075      0.000      20.761      25.820\n",
       "X6             0.1215      0.307      0.396      0.692      -0.481       0.724\n",
       "X8             0.3099      0.221      1.399      0.162      -0.125       0.745\n",
       "==============================================================================\n",
       "Omnibus:                      393.370   Durbin-Watson:                   0.271\n",
       "Prob(Omnibus):                  0.000   Jarque-Bera (JB):               62.260\n",
       "Skew:                           0.396   Prob(JB):                     3.02e-14\n",
       "Kurtosis:                       1.851   Cond. No.                         18.3\n",
       "==============================================================================\n",
       "\n",
       "Notes:\n",
       "[1] Standard Errors assume that the covariance matrix of the errors is correctly specified.\n",
       "\"\"\""
      ]
     },
     "execution_count": 27,
     "metadata": {},
     "output_type": "execute_result"
    }
   ],
   "source": [
    "# Finally prepare a model based on Glazing Area Distribution and Orientation\n",
    "model_OG=smf.ols('Y2~X6+X8', data=data).fit()\n",
    "model_OG.summary()"
   ]
  },
  {
   "cell_type": "markdown",
   "metadata": {},
   "source": [
    "Here again there is no difference."
   ]
  },
  {
   "cell_type": "code",
   "execution_count": 28,
   "metadata": {},
   "outputs": [
    {
     "data": {
      "image/png": "[encoded data removed]",
      "text/plain": [
       "<Figure size 432x288 with 1 Axes>"
      ]
     },
     "execution_count": 28,
     "metadata": {},
     "output_type": "execute_result"
    },
    {
     "data": {
      "image/png": "[encoded data removed]",
      "text/plain": [
       "<Figure size 432x288 with 1 Axes>"
      ]
     },
     "metadata": {
      "needs_background": "light"
     },
     "output_type": "display_data"
    }
   ],
   "source": [
    "# Checking whether data has any influential values \n",
    "import statsmodels.api as sm\n",
    "sm.graphics.influence_plot(model02)\n"
   ]
  },
  {
   "cell_type": "code",
   "execution_count": 29,
   "metadata": {},
   "outputs": [
    {
     "name": "stdout",
     "output_type": "stream",
     "text": [
      "                   0           1\n",
      "Intercept  56.482747  138.008752\n",
      "X1        -92.823923  -48.751491\n",
      "X2         -0.094802   -0.037379\n",
      "X3          0.014284    0.030771\n",
      "X4         -0.060405   -0.028213\n",
      "X5          3.559993    5.007694\n",
      "X6         -0.081312    0.324333\n",
      "X7         12.973809   16.460328\n",
      "X8         -0.109041    0.190436\n"
     ]
    }
   ],
   "source": [
    "# Confidence interval\n",
    "print(model02.conf_int(0.05)) # 95% confidnece level"
   ]
  },
  {
   "cell_type": "code",
   "execution_count": 30,
   "metadata": {},
   "outputs": [
    {
     "data": {
      "text/plain": [
       "0      25.838230\n",
       "1      25.959741\n",
       "2      26.081251\n",
       "3      26.202762\n",
       "4      28.271956\n",
       "         ...    \n",
       "763    19.774852\n",
       "764    19.758785\n",
       "765    19.880296\n",
       "766    20.001806\n",
       "767    20.123316\n",
       "Length: 768, dtype: float64"
      ]
     },
     "execution_count": 30,
     "metadata": {},
     "output_type": "execute_result"
    }
   ],
   "source": [
    "pred02=model02.predict(data)  # predicting data\n",
    "pred02"
   ]
  },
  {
   "cell_type": "raw",
   "metadata": {},
   "source": [
    "# Calculating VIF's values of independent variables"
   ]
  },
  {
   "cell_type": "code",
   "execution_count": 31,
   "metadata": {},
   "outputs": [
    {
     "name": "stdout",
     "output_type": "stream",
     "text": [
      "0.9905234876720109    105.52405414452737\n"
     ]
    }
   ],
   "source": [
    "rsq_X1 = smf.ols('X1~X2+X3+X4+X5+X6+X7+X8',data=data).fit().rsquared  # residual square \n",
    "vif_X1 = 1/(1-rsq_X1)\n",
    "print(rsq_X1 , '  ', vif_X1)"
   ]
  },
  {
   "cell_type": "code",
   "execution_count": 32,
   "metadata": {},
   "outputs": [
    {
     "name": "stdout",
     "output_type": "stream",
     "text": [
      "1.0    inf\n"
     ]
    }
   ],
   "source": [
    "rsq_X2 = smf.ols('X2~X1+X3+X4+X5+X6+X7+X8',data=data).fit().rsquared  # residual square \n",
    "vif_X2 = 1/(1-rsq_X2)\n",
    "print(rsq_X2 , '  ', vif_X2)"
   ]
  },
  {
   "cell_type": "code",
   "execution_count": 33,
   "metadata": {},
   "outputs": [
    {
     "name": "stdout",
     "output_type": "stream",
     "text": [
      "1.0    inf\n"
     ]
    }
   ],
   "source": [
    "rsq_X3 = smf.ols('X3~X2+X1+X4+X5+X6+X7+X8',data=data).fit().rsquared  # residual square \n",
    "vif_X3 = 1/(1-rsq_X3)\n",
    "print(rsq_X3 , '  ', vif_X3)"
   ]
  },
  {
   "cell_type": "code",
   "execution_count": 34,
   "metadata": {},
   "outputs": [
    {
     "name": "stdout",
     "output_type": "stream",
     "text": [
      "1.0    inf\n"
     ]
    }
   ],
   "source": [
    "rsq_X4 = smf.ols('X4~X2+X3+X1+X5+X6+X7+X8',data=data).fit().rsquared  # residual square \n",
    "vif_X4 = 1/(1-rsq_X4)\n",
    "print(rsq_X4 , '  ', vif_X4)"
   ]
  },
  {
   "cell_type": "code",
   "execution_count": 35,
   "metadata": {},
   "outputs": [
    {
     "name": "stdout",
     "output_type": "stream",
     "text": [
      "0.9679543406071835    31.20547428099314\n"
     ]
    }
   ],
   "source": [
    "rsq_X5 = smf.ols('X5~X2+X3+X4+X1+X6+X7+X8',data=data).fit().rsquared  # residual square \n",
    "vif_X5 = 1/(1-rsq_X5)\n",
    "print(rsq_X5 , '  ', vif_X5)"
   ]
  },
  {
   "cell_type": "code",
   "execution_count": 36,
   "metadata": {},
   "outputs": [
    {
     "name": "stdout",
     "output_type": "stream",
     "text": [
      "-2.220446049250313e-16    0.9999999999999998\n"
     ]
    }
   ],
   "source": [
    "rsq_X6 = smf.ols('X6~X2+X3+X4+X5+X1+X7+X8',data=data).fit().rsquared  # residual square \n",
    "vif_X6 = 1/(1-rsq_X6)\n",
    "print(rsq_X6 , '  ', vif_X6)"
   ]
  },
  {
   "cell_type": "code",
   "execution_count": 37,
   "metadata": {},
   "outputs": [
    {
     "name": "stdout",
     "output_type": "stream",
     "text": [
      "0.04535375932271746    1.0475084459459463\n"
     ]
    }
   ],
   "source": [
    "rsq_X7 = smf.ols('X7~X2+X3+X4+X5+X6+X1+X8',data=data).fit().rsquared  # residual square \n",
    "vif_X7 = 1/(1-rsq_X7)\n",
    "print(rsq_X7 , '  ', vif_X7)"
   ]
  },
  {
   "cell_type": "code",
   "execution_count": 38,
   "metadata": {},
   "outputs": [
    {
     "name": "stdout",
     "output_type": "stream",
     "text": [
      "0.045353759322717346    1.047508445945946\n"
     ]
    }
   ],
   "source": [
    "rsq_X8 = smf.ols('X8~X2+X3+X4+X5+X6+X7+X1',data=data).fit().rsquared  # residual square \n",
    "vif_X8 = 1/(1-rsq_X8)\n",
    "print(rsq_X8 , '  ', vif_X8)"
   ]
  },
  {
   "cell_type": "code",
   "execution_count": 39,
   "metadata": {},
   "outputs": [
    {
     "data": {
      "text/html": [
       "<div>\n",
       "<style scoped>\n",
       "    .dataframe tbody tr th:only-of-type {\n",
       "        vertical-align: middle;\n",
       "    }\n",
       "\n",
       "    .dataframe tbody tr th {\n",
       "        vertical-align: top;\n",
       "    }\n",
       "\n",
       "    .dataframe thead th {\n",
       "        text-align: right;\n",
       "    }\n",
       "</style>\n",
       "<table border=\"1\" class=\"dataframe\">\n",
       "  <thead>\n",
       "    <tr style=\"text-align: right;\">\n",
       "      <th></th>\n",
       "      <th>Variables</th>\n",
       "      <th>VIF</th>\n",
       "    </tr>\n",
       "  </thead>\n",
       "  <tbody>\n",
       "    <tr>\n",
       "      <th>0</th>\n",
       "      <td>X1</td>\n",
       "      <td>105.524054</td>\n",
       "    </tr>\n",
       "    <tr>\n",
       "      <th>1</th>\n",
       "      <td>X2</td>\n",
       "      <td>inf</td>\n",
       "    </tr>\n",
       "    <tr>\n",
       "      <th>2</th>\n",
       "      <td>X3</td>\n",
       "      <td>inf</td>\n",
       "    </tr>\n",
       "    <tr>\n",
       "      <th>3</th>\n",
       "      <td>X4</td>\n",
       "      <td>inf</td>\n",
       "    </tr>\n",
       "    <tr>\n",
       "      <th>4</th>\n",
       "      <td>X5</td>\n",
       "      <td>31.205474</td>\n",
       "    </tr>\n",
       "    <tr>\n",
       "      <th>5</th>\n",
       "      <td>X6</td>\n",
       "      <td>1.000000</td>\n",
       "    </tr>\n",
       "    <tr>\n",
       "      <th>6</th>\n",
       "      <td>X7</td>\n",
       "      <td>1.047508</td>\n",
       "    </tr>\n",
       "    <tr>\n",
       "      <th>7</th>\n",
       "      <td>X8</td>\n",
       "      <td>1.047508</td>\n",
       "    </tr>\n",
       "  </tbody>\n",
       "</table>\n",
       "</div>"
      ],
      "text/plain": [
       "  Variables         VIF\n",
       "0        X1  105.524054\n",
       "1        X2         inf\n",
       "2        X3         inf\n",
       "3        X4         inf\n",
       "4        X5   31.205474\n",
       "5        X6    1.000000\n",
       "6        X7    1.047508\n",
       "7        X8    1.047508"
      ]
     },
     "execution_count": 39,
     "metadata": {},
     "output_type": "execute_result"
    }
   ],
   "source": [
    "# Storing vif values in a data frame\n",
    "d1 = {'Variables':['X1','X2','X3','X4','X5','X6','X7','X8'],'VIF':[vif_X1,vif_X2,vif_X3,vif_X4,vif_X5,vif_X6,vif_X7,vif_X8]}\n",
    "Vif_frame = pd.DataFrame(d1)  \n",
    "Vif_frame"
   ]
  },
  {
   "cell_type": "raw",
   "metadata": {},
   "source": [
    "Here we get infinite VIF values so it shows that X2,X3,X4 has high corelation. Also, X1, X5 and X7 has some corelation ."
   ]
  },
  {
   "cell_type": "raw",
   "metadata": {},
   "source": [
    "Finally we decided to drop the X6 and X8 cloumns and fit the model for regression."
   ]
  },
  {
   "cell_type": "code",
   "execution_count": 40,
   "metadata": {},
   "outputs": [
    {
     "data": {
      "text/html": [
       "<table class=\"simpletable\">\n",
       "<caption>OLS Regression Results</caption>\n",
       "<tr>\n",
       "  <th>Dep. Variable:</th>           <td>Y2</td>        <th>  R-squared:         </th> <td>   0.888</td>\n",
       "</tr>\n",
       "<tr>\n",
       "  <th>Model:</th>                   <td>OLS</td>       <th>  Adj. R-squared:    </th> <td>   0.887</td>\n",
       "</tr>\n",
       "<tr>\n",
       "  <th>Method:</th>             <td>Least Squares</td>  <th>  F-statistic:       </th> <td>   1203.</td>\n",
       "</tr>\n",
       "<tr>\n",
       "  <th>Date:</th>             <td>Thu, 12 Aug 2021</td> <th>  Prob (F-statistic):</th>  <td>  0.00</td> \n",
       "</tr>\n",
       "<tr>\n",
       "  <th>Time:</th>                 <td>14:54:26</td>     <th>  Log-Likelihood:    </th> <td> -1980.2</td>\n",
       "</tr>\n",
       "<tr>\n",
       "  <th>No. Observations:</th>      <td>   768</td>      <th>  AIC:               </th> <td>   3972.</td>\n",
       "</tr>\n",
       "<tr>\n",
       "  <th>Df Residuals:</th>          <td>   762</td>      <th>  BIC:               </th> <td>   4000.</td>\n",
       "</tr>\n",
       "<tr>\n",
       "  <th>Df Model:</th>              <td>     5</td>      <th>                     </th>     <td> </td>   \n",
       "</tr>\n",
       "<tr>\n",
       "  <th>Covariance Type:</th>      <td>nonrobust</td>    <th>                     </th>     <td> </td>   \n",
       "</tr>\n",
       "</table>\n",
       "<table class=\"simpletable\">\n",
       "<tr>\n",
       "      <td></td>         <th>coef</th>     <th>std err</th>      <th>t</th>      <th>P>|t|</th>  <th>[0.025</th>    <th>0.975]</th>  \n",
       "</tr>\n",
       "<tr>\n",
       "  <th>Intercept</th> <td>   97.7618</td> <td>   20.756</td> <td>    4.710</td> <td> 0.000</td> <td>   57.015</td> <td>  138.508</td>\n",
       "</tr>\n",
       "<tr>\n",
       "  <th>X1</th>        <td>  -70.7877</td> <td>   11.223</td> <td>   -6.307</td> <td> 0.000</td> <td>  -92.819</td> <td>  -48.756</td>\n",
       "</tr>\n",
       "<tr>\n",
       "  <th>X2</th>        <td>   -0.0661</td> <td>    0.015</td> <td>   -4.520</td> <td> 0.000</td> <td>   -0.095</td> <td>   -0.037</td>\n",
       "</tr>\n",
       "<tr>\n",
       "  <th>X3</th>        <td>    0.0225</td> <td>    0.004</td> <td>    5.366</td> <td> 0.000</td> <td>    0.014</td> <td>    0.031</td>\n",
       "</tr>\n",
       "<tr>\n",
       "  <th>X4</th>        <td>   -0.0443</td> <td>    0.008</td> <td>   -5.405</td> <td> 0.000</td> <td>   -0.060</td> <td>   -0.028</td>\n",
       "</tr>\n",
       "<tr>\n",
       "  <th>X5</th>        <td>    4.2838</td> <td>    0.369</td> <td>   11.620</td> <td> 0.000</td> <td>    3.560</td> <td>    5.008</td>\n",
       "</tr>\n",
       "<tr>\n",
       "  <th>X7</th>        <td>   14.8180</td> <td>    0.867</td> <td>   17.082</td> <td> 0.000</td> <td>   13.115</td> <td>   16.521</td>\n",
       "</tr>\n",
       "</table>\n",
       "<table class=\"simpletable\">\n",
       "<tr>\n",
       "  <th>Omnibus:</th>       <td>104.896</td> <th>  Durbin-Watson:     </th> <td>   1.095</td>\n",
       "</tr>\n",
       "<tr>\n",
       "  <th>Prob(Omnibus):</th> <td> 0.000</td>  <th>  Jarque-Bera (JB):  </th> <td> 232.225</td>\n",
       "</tr>\n",
       "<tr>\n",
       "  <th>Skew:</th>          <td> 0.766</td>  <th>  Prob(JB):          </th> <td>3.74e-51</td>\n",
       "</tr>\n",
       "<tr>\n",
       "  <th>Kurtosis:</th>      <td> 5.215</td>  <th>  Cond. No.          </th> <td>1.06e+16</td>\n",
       "</tr>\n",
       "</table><br/><br/>Notes:<br/>[1] Standard Errors assume that the covariance matrix of the errors is correctly specified.<br/>[2] The smallest eigenvalue is 4.07e-24. This might indicate that there are<br/>strong multicollinearity problems or that the design matrix is singular."
      ],
      "text/plain": [
       "<class 'statsmodels.iolib.summary.Summary'>\n",
       "\"\"\"\n",
       "                            OLS Regression Results                            \n",
       "==============================================================================\n",
       "Dep. Variable:                     Y2   R-squared:                       0.888\n",
       "Model:                            OLS   Adj. R-squared:                  0.887\n",
       "Method:                 Least Squares   F-statistic:                     1203.\n",
       "Date:                Thu, 12 Aug 2021   Prob (F-statistic):               0.00\n",
       "Time:                        14:54:26   Log-Likelihood:                -1980.2\n",
       "No. Observations:                 768   AIC:                             3972.\n",
       "Df Residuals:                     762   BIC:                             4000.\n",
       "Df Model:                           5                                         \n",
       "Covariance Type:            nonrobust                                         \n",
       "==============================================================================\n",
       "                 coef    std err          t      P>|t|      [0.025      0.975]\n",
       "------------------------------------------------------------------------------\n",
       "Intercept     97.7618     20.756      4.710      0.000      57.015     138.508\n",
       "X1           -70.7877     11.223     -6.307      0.000     -92.819     -48.756\n",
       "X2            -0.0661      0.015     -4.520      0.000      -0.095      -0.037\n",
       "X3             0.0225      0.004      5.366      0.000       0.014       0.031\n",
       "X4            -0.0443      0.008     -5.405      0.000      -0.060      -0.028\n",
       "X5             4.2838      0.369     11.620      0.000       3.560       5.008\n",
       "X7            14.8180      0.867     17.082      0.000      13.115      16.521\n",
       "==============================================================================\n",
       "Omnibus:                      104.896   Durbin-Watson:                   1.095\n",
       "Prob(Omnibus):                  0.000   Jarque-Bera (JB):              232.225\n",
       "Skew:                           0.766   Prob(JB):                     3.74e-51\n",
       "Kurtosis:                       5.215   Cond. No.                     1.06e+16\n",
       "==============================================================================\n",
       "\n",
       "Notes:\n",
       "[1] Standard Errors assume that the covariance matrix of the errors is correctly specified.\n",
       "[2] The smallest eigenvalue is 4.07e-24. This might indicate that there are\n",
       "strong multicollinearity problems or that the design matrix is singular.\n",
       "\"\"\""
      ]
     },
     "execution_count": 40,
     "metadata": {},
     "output_type": "execute_result"
    }
   ],
   "source": [
    "#WE drop the X6 and X8 column as it's p value exceds\n",
    "model03=smf.ols('Y2~X1+X2+X3+X4+X5+X7',data=data).fit()\n",
    "model03.summary()"
   ]
  },
  {
   "cell_type": "raw",
   "metadata": {},
   "source": [
    "From above model we get R-squared value 0.888. Which is similar to previous model , because the column we drop has no high relation to decide the depndent variable."
   ]
  },
  {
   "cell_type": "code",
   "execution_count": 41,
   "metadata": {},
   "outputs": [
    {
     "data": {
      "text/plain": [
       "0      26.111308\n",
       "1      26.111308\n",
       "2      26.111308\n",
       "3      26.111308\n",
       "4      28.545034\n",
       "         ...    \n",
       "763    19.520273\n",
       "764    19.868738\n",
       "765    19.868738\n",
       "766    19.868738\n",
       "767    19.868738\n",
       "Length: 768, dtype: float64"
      ]
     },
     "execution_count": 41,
     "metadata": {},
     "output_type": "execute_result"
    }
   ],
   "source": [
    "pred03=model03.predict(data) # predicting the model to check model strength\n",
    "pred03"
   ]
  },
  {
   "cell_type": "code",
   "execution_count": 42,
   "metadata": {},
   "outputs": [
    {
     "data": {
      "image/png": "[encoded data removed]",
      "text/plain": [
       "<Figure size 432x288 with 7 Axes>"
      ]
     },
     "execution_count": 42,
     "metadata": {},
     "output_type": "execute_result"
    },
    {
     "data": {
      "image/png": "[encoded data removed]",
      "text/plain": [
       "<Figure size 432x288 with 7 Axes>"
      ]
     },
     "metadata": {
      "needs_background": "light"
     },
     "output_type": "display_data"
    }
   ],
   "source": [
    "# added variable plot for the  model03\n",
    "sm.graphics.plot_partregress_grid(model03)"
   ]
  },
  {
   "cell_type": "code",
   "execution_count": 43,
   "metadata": {},
   "outputs": [
    {
     "data": {
      "text/plain": [
       "Text(0, 0.5, 'Predicted_values')"
      ]
     },
     "execution_count": 43,
     "metadata": {},
     "output_type": "execute_result"
    },
    {
     "data": {
      "image/png": "[encoded data removed]",
      "text/plain": [
       "<Figure size 432x288 with 1 Axes>"
      ]
     },
     "metadata": {
      "needs_background": "light"
     },
     "output_type": "display_data"
    }
   ],
   "source": [
    "# plot a scatter plot\n",
    "plt.scatter(data.Y2,pred03,c=\"r\");plt.xlabel(\"Actual_values\");plt.ylabel(\"Predicted_values\")"
   ]
  },
  {
   "cell_type": "code",
   "execution_count": 44,
   "metadata": {},
   "outputs": [],
   "source": [
    "m,b=np.polyfit(data.Y2,pred03,1)"
   ]
  },
  {
   "cell_type": "code",
   "execution_count": 45,
   "metadata": {},
   "outputs": [
    {
     "data": {
      "text/plain": [
       "[<matplotlib.lines.Line2D at 0x236dcac7b88>]"
      ]
     },
     "execution_count": 45,
     "metadata": {},
     "output_type": "execute_result"
    },
    {
     "data": {
      "image/png": "[encoded data removed]",
      "text/plain": [
       "<Figure size 432x288 with 1 Axes>"
      ]
     },
     "metadata": {
      "needs_background": "light"
     },
     "output_type": "display_data"
    }
   ],
   "source": [
    "plt.scatter(data.Y2,pred03,c=\"r\");plt.xlabel(\"Actual_values\");plt.ylabel(\"Predicted_values\") ;plt.plot(data.Y2,m*data.Y2+b)"
   ]
  },
  {
   "cell_type": "raw",
   "metadata": {},
   "source": [
    "In the above plot red dots represent the values and straight line represents regression line i.e \"line of best fit”\n"
   ]
  },
  {
   "cell_type": "raw",
   "metadata": {},
   "source": [
    "To check validation of our regression models, we must use residual plots to visually confirm the validity of your model."
   ]
  },
  {
   "cell_type": "raw",
   "metadata": {},
   "source": [
    "A residual is a measure of how far away a point is vertically from the regression line. Simply, it is the error between a predicted value and the observed actual value.\n",
    "        Residual= Y-(m*X+c)\n",
    "\n",
    "A typical residual plot has the residual values on the Y-axis and the independent variable on the x-axis. \n",
    "Characteristics of Good Residual Plots:\n",
    "1.It has a high density of points close to the origin and a low density of points away from the origin\n",
    "2.It is symmetric about the origin"
   ]
  },
  {
   "cell_type": "code",
   "execution_count": 46,
   "metadata": {},
   "outputs": [
    {
     "data": {
      "text/plain": [
       "Text(0, 0.5, 'residuals')"
      ]
     },
     "execution_count": 46,
     "metadata": {},
     "output_type": "execute_result"
    },
    {
     "data": {
      "image/png": "[encoded data removed]",
      "text/plain": [
       "<Figure size 432x288 with 1 Axes>"
      ]
     },
     "metadata": {
      "needs_background": "light"
     },
     "output_type": "display_data"
    }
   ],
   "source": [
    "#residual value vs Predicted values\n",
    "plt.scatter(pred03,model03.resid_pearson,c=\"r\"),plt.axhline(y=0,color='blue');plt.xlabel(\"Predicted_values\");plt.ylabel(\"residuals\")"
   ]
  },
  {
   "cell_type": "raw",
   "metadata": {},
   "source": [
    "From the above plot we conclude that our model fits good about regression line. Yes, there is some points far from regression line, but still it is good model."
   ]
  },
  {
   "cell_type": "code",
   "execution_count": 47,
   "metadata": {},
   "outputs": [
    {
     "data": {
      "text/plain": [
       "(array([ 14.,  33.,  61., 210., 253., 120.,  40.,   7.,  12.,  18.]),\n",
       " array([-2.72584278, -2.09940333, -1.47296388, -0.84652444, -0.22008499,\n",
       "         0.40635446,  1.03279391,  1.65923336,  2.28567281,  2.91211226,\n",
       "         3.5385517 ]),\n",
       " <BarContainer object of 10 artists>)"
      ]
     },
     "execution_count": 47,
     "metadata": {},
     "output_type": "execute_result"
    },
    {
     "data": {
      "image/png": "[encoded data removed]",
      "text/plain": [
       "<Figure size 432x288 with 1 Axes>"
      ]
     },
     "metadata": {
      "needs_background": "light"
     },
     "output_type": "display_data"
    }
   ],
   "source": [
    "########    Normality plot for residuals ######\n",
    "# histogram\n",
    "plt.hist(model03.resid_pearson) # Checking the standardized residuals are normally distributed"
   ]
  },
  {
   "cell_type": "raw",
   "metadata": {},
   "source": [
    "From residual plot we seen that there is some points far from regression line, Soo, to check that we use \"Root mean square error\" "
   ]
  },
  {
   "cell_type": "raw",
   "metadata": {},
   "source": [
    "Root Mean Square Error (RMSE) is the standard deviation of the residuals (prediction errors). Residuals are a measure of how far from the regression line data points are, RMSE is a measure of how spread out these residuals are. \n",
    "In other words, it tells us how concentrated the data is around the line of best fit. "
   ]
  },
  {
   "cell_type": "code",
   "execution_count": 20,
   "metadata": {},
   "outputs": [
    {
     "data": {
      "image/png": "[encoded data removed]",
      "text/plain": [
       "<IPython.core.display.Image object>"
      ]
     },
     "execution_count": 20,
     "metadata": {},
     "output_type": "execute_result"
    }
   ],
   "source": [
    "from IPython.display import Image\n",
    "Image(\"root-mean-square-error.png\")"
   ]
  },
  {
   "cell_type": "markdown",
   "metadata": {},
   "source": [
    "Where:\n",
    "Σ = summation (“add up”)\n",
    "(zfi – Zoi)2 = differences, squared\n",
    "N = sample size.\n",
    "\n",
    "The simple steps to calculate RMSE is\n",
    "1.Squaring the residuals.\n",
    "2.Finding the average of the residuals.\n",
    "3.Taking the square root of the result.\n",
    "\n",
    "The smaller the RMSE, the better the model fits your data."
   ]
  },
  {
   "cell_type": "code",
   "execution_count": 49,
   "metadata": {},
   "outputs": [
    {
     "data": {
      "text/plain": [
       "3.187968984897448"
      ]
     },
     "execution_count": 49,
     "metadata": {},
     "output_type": "execute_result"
    }
   ],
   "source": [
    "data_resid=pred03-data.Y2\n",
    "rmse_LR=np.sqrt(np.mean(data_resid*data_resid))\n",
    "rmse_LR  # RMSE for data"
   ]
  },
  {
   "cell_type": "raw",
   "metadata": {},
   "source": [
    "To check how our data fitted to regression line we have to calculate R2 score. It is also known as the coefficient of multiple determination for multiple regression.\n",
    "R-squared = Explained variation / Total variation\n",
    "\n",
    "The higher the R-squared, the better the model fits your data."
   ]
  },
  {
   "cell_type": "code",
   "execution_count": 50,
   "metadata": {},
   "outputs": [
    {
     "data": {
      "text/plain": [
       "0.8875573328171108"
      ]
     },
     "execution_count": 50,
     "metadata": {},
     "output_type": "execute_result"
    }
   ],
   "source": [
    "from sklearn.metrics import r2_score\n",
    "R2_LR=np.mean(r2_score(Y,pred03))  # Calculating R2 score for data\n",
    "R2_LR"
   ]
  },
  {
   "cell_type": "raw",
   "metadata": {},
   "source": [
    "Here, we get that 88% our model fitted perfectly."
   ]
  },
  {
   "cell_type": "code",
   "execution_count": 51,
   "metadata": {},
   "outputs": [
    {
     "data": {
      "text/plain": [
       "((537, 9), '  ', (231, 9))"
      ]
     },
     "execution_count": 51,
     "metadata": {},
     "output_type": "execute_result"
    }
   ],
   "source": [
    "# Splitting the data into train and test data \n",
    "\n",
    "data_train,data_test  = train_test_split(data,test_size = 0.3,random_state=22) # 30% size\n",
    "\n",
    "data_train.shape,'  ',data_test.shape"
   ]
  },
  {
   "cell_type": "code",
   "execution_count": 52,
   "metadata": {},
   "outputs": [],
   "source": [
    "# preparing the model on train data \n",
    "\n",
    "model_train = smf.ols(\"Y2~X1+X2+X3+X4+X5+X7\",data=data_train).fit()\n",
    "\n",
    "# train_data prediction\n",
    "train_pred = model_train.predict(data_train)"
   ]
  },
  {
   "cell_type": "code",
   "execution_count": 53,
   "metadata": {},
   "outputs": [
    {
     "data": {
      "text/plain": [
       "88    -4.267207\n",
       "602   -0.377172\n",
       "235   -4.377207\n",
       "565    1.129973\n",
       "548    0.856727\n",
       "         ...   \n",
       "491   -1.492995\n",
       "502    2.462715\n",
       "358    0.912715\n",
       "356    1.322715\n",
       "132   -0.128050\n",
       "Length: 537, dtype: float64"
      ]
     },
     "execution_count": 53,
     "metadata": {},
     "output_type": "execute_result"
    }
   ],
   "source": [
    "# train residual values \n",
    "train_resid  = train_pred - data_train.Y2\n",
    "train_resid"
   ]
  },
  {
   "cell_type": "code",
   "execution_count": 54,
   "metadata": {},
   "outputs": [
    {
     "data": {
      "text/plain": [
       "3.2771617445015138"
      ]
     },
     "execution_count": 54,
     "metadata": {},
     "output_type": "execute_result"
    }
   ],
   "source": [
    "# RMSE value for train data \n",
    "train_rmse = np.sqrt(np.mean(train_resid*train_resid))\n",
    "train_rmse"
   ]
  },
  {
   "cell_type": "code",
   "execution_count": 55,
   "metadata": {},
   "outputs": [
    {
     "data": {
      "text/plain": [
       "2.9453156569492003"
      ]
     },
     "execution_count": 55,
     "metadata": {},
     "output_type": "execute_result"
    }
   ],
   "source": [
    "# preparing the model on testing data \n",
    "\n",
    "model_test = smf.ols(\"Y2~X1+X2+X3+X4+X5+X7\",data=data_test).fit()\n",
    "\n",
    "# test_data prediction\n",
    "test_pred = model_test.predict(data_test)\n",
    "# test residual values \n",
    "test_resid  = test_pred - data_test.Y2\n",
    "# RMSE value for test data \n",
    "test_rmse = np.sqrt(np.mean(test_resid*test_resid))\n",
    "test_rmse\n"
   ]
  },
  {
   "cell_type": "raw",
   "metadata": {},
   "source": [
    "From Multivariate linear regression we get a good fitted model. But there is need of checking other to get more accuracy. So, we try another model i.e Decision Tree."
   ]
  },
  {
   "cell_type": "raw",
   "metadata": {},
   "source": [
    "Decision Tree is a decision-making tool that uses a flowchart-like tree structure or is a model of decisions and all of their possible results, including outcomes, input costs and utility.\n",
    "Here we are going to use Decision tree Regression.\n",
    "Decision tree regression observes features of an object and trains a model in the structure of a tree to predict data in the future to produce meaningful continuous output.\n",
    "link:https://www.geeksforgeeks.org"
   ]
  },
  {
   "cell_type": "markdown",
   "metadata": {},
   "source": [
    "# Decision Tree"
   ]
  },
  {
   "cell_type": "code",
   "execution_count": 56,
   "metadata": {},
   "outputs": [
    {
     "name": "stdout",
     "output_type": "stream",
     "text": [
      "0.9703091270070984\n"
     ]
    }
   ],
   "source": [
    "from sklearn.tree import DecisionTreeRegressor\n",
    "dt_model = DecisionTreeRegressor(random_state=23)\n",
    "dt_model.fit(X_train, y_train)\n",
    "y_pred1 = dt_model.predict(X_test)\n",
    "R2_dt = np.mean(r2_score(y_test, y_pred1))\n",
    "\n",
    "print(R2_dt)"
   ]
  },
  {
   "cell_type": "code",
   "execution_count": 57,
   "metadata": {},
   "outputs": [
    {
     "data": {
      "text/plain": [
       "1.6493758494171944"
      ]
     },
     "execution_count": 57,
     "metadata": {},
     "output_type": "execute_result"
    }
   ],
   "source": [
    "from sklearn.metrics import mean_squared_error\n",
    "\n",
    "from math import sqrt\n",
    "rmse_dt = sqrt(mean_squared_error(y_test, y_pred1))\n",
    "\n",
    "rmse_dt"
   ]
  },
  {
   "cell_type": "raw",
   "metadata": {},
   "source": [
    "From Decision Tree Regression we get R2 value 97% so,it is good enough. "
   ]
  },
  {
   "cell_type": "raw",
   "metadata": {},
   "source": [
    "We try another regression algorithm i.e Gradient Boosting\n",
    "Gradient Boosting is a type of Advance Ensemble Technique.\n",
    "GB uses the boosting technique, combining a number of weak learners to form a strong learner. Regression trees used as a base learner, each subsequent tree in series is built on the errors calculated by the previous tree."
   ]
  },
  {
   "cell_type": "markdown",
   "metadata": {},
   "source": [
    "# Gradient Boosting "
   ]
  },
  {
   "cell_type": "code",
   "execution_count": 58,
   "metadata": {},
   "outputs": [
    {
     "data": {
      "text/plain": [
       "0.9778057189307927"
      ]
     },
     "execution_count": 58,
     "metadata": {},
     "output_type": "execute_result"
    }
   ],
   "source": [
    "from sklearn.ensemble import GradientBoostingRegressor\n",
    "GB_model= GradientBoostingRegressor()\n",
    "GB_model.fit(X_train, y_train)\n",
    "GB_model.score(X_test,y_test)"
   ]
  },
  {
   "cell_type": "code",
   "execution_count": 59,
   "metadata": {},
   "outputs": [
    {
     "data": {
      "text/plain": [
       "0.9778057189307927"
      ]
     },
     "execution_count": 59,
     "metadata": {},
     "output_type": "execute_result"
    }
   ],
   "source": [
    "y_pred4 = GB_model.predict(X_test)\n",
    "R2_GB = np.mean(r2_score(y_test, y_pred4))\n",
    "R2_GB"
   ]
  },
  {
   "cell_type": "code",
   "execution_count": 60,
   "metadata": {},
   "outputs": [
    {
     "data": {
      "text/plain": [
       "1.4260300866395208"
      ]
     },
     "execution_count": 60,
     "metadata": {},
     "output_type": "execute_result"
    }
   ],
   "source": [
    "rmse_GB = sqrt(mean_squared_error(y_test, y_pred4))\n",
    "\n",
    "rmse_GB"
   ]
  },
  {
   "cell_type": "raw",
   "metadata": {},
   "source": [
    "In Gradient Boosting we get 97.78% R-squared value."
   ]
  },
  {
   "cell_type": "markdown",
   "metadata": {},
   "source": [
    "# Random Forest"
   ]
  },
  {
   "cell_type": "raw",
   "metadata": {},
   "source": [
    "Now , we are going to use Random Forest regression. "
   ]
  },
  {
   "cell_type": "raw",
   "metadata": {},
   "source": [
    "Random forest operates by constructing a multitude of decision trees at training time and outputting the class that is the mode of the classes (classification) or mean prediction (regression) of the individual trees.\n",
    "A random forest is a meta-estimator (i.e. it combines the result of multiple predictions) which aggregates many decision trees, with some helpful modifications:\n",
    "1. The number of features that can be split on at each node is limited to some percentage of the total (which is known as the hyperparameter). This ensures that the ensemble model does not rely too heavily on any individual feature, and makes fair use of all potentially predictive features.\n",
    "2. Each tree draws a random sample from the original data set when generating its splits, adding a further element of randomness that prevents overfitting.\n",
    "(https://towardsdatascience.com)\n",
    "So, let's start by importing library from sklearn."
   ]
  },
  {
   "cell_type": "code",
   "execution_count": 61,
   "metadata": {},
   "outputs": [
    {
     "data": {
      "text/plain": [
       "0.9712465332977752"
      ]
     },
     "execution_count": 61,
     "metadata": {},
     "output_type": "execute_result"
    }
   ],
   "source": [
    "from sklearn.ensemble import RandomForestRegressor\n",
    "rf_model = RandomForestRegressor(random_state=123)\n",
    "rf_model.fit(X_train, y_train)\n",
    "y_pred3 = rf_model.predict(X_test)\n",
    "R2_rf = np.mean(r2_score(y_test, y_pred3))\n",
    "R2_rf"
   ]
  },
  {
   "cell_type": "code",
   "execution_count": 62,
   "metadata": {},
   "outputs": [
    {
     "data": {
      "text/plain": [
       "1.6231298114728112"
      ]
     },
     "execution_count": 62,
     "metadata": {},
     "output_type": "execute_result"
    }
   ],
   "source": [
    "rmse_rf = sqrt(mean_squared_error(y_test, y_pred3))\n",
    "\n",
    "rmse_rf"
   ]
  },
  {
   "cell_type": "raw",
   "metadata": {},
   "source": [
    "Here in Random forests we get 96.5% r-squared value."
   ]
  },
  {
   "cell_type": "markdown",
   "metadata": {},
   "source": [
    "After doing Random forest Regression we try to compute with Extra Tree Regression which is similar to the Random Forest."
   ]
  },
  {
   "cell_type": "markdown",
   "metadata": {},
   "source": [
    "# Extra tree"
   ]
  },
  {
   "cell_type": "raw",
   "metadata": {},
   "source": [
    "An extra-trees regressor implements a meta estimator that fits a number of randomized decision trees (a.k.a. extra-trees) on various sub-samples of the dataset and uses averaging to improve the predictive accuracy and control over-fitting.\n",
    "(https://towardsdatascience.com)"
   ]
  },
  {
   "cell_type": "code",
   "execution_count": 63,
   "metadata": {},
   "outputs": [
    {
     "data": {
      "text/plain": [
       "0.967534053861643"
      ]
     },
     "execution_count": 63,
     "metadata": {},
     "output_type": "execute_result"
    }
   ],
   "source": [
    "from sklearn.ensemble import ExtraTreesRegressor\n",
    "et_model = ExtraTreesRegressor(random_state=123)\n",
    "et_model.fit(X_train, y_train)\n",
    "y_pred2 = et_model.predict(X_test)\n",
    "R2_et = np.mean(r2_score(y_test, y_pred2))\n",
    "R2_et"
   ]
  },
  {
   "cell_type": "code",
   "execution_count": 64,
   "metadata": {},
   "outputs": [
    {
     "data": {
      "text/plain": [
       "1.724734217381348"
      ]
     },
     "execution_count": 64,
     "metadata": {},
     "output_type": "execute_result"
    }
   ],
   "source": [
    "rmse_et = sqrt(mean_squared_error(y_test, y_pred2))\n",
    "\n",
    "rmse_et"
   ]
  },
  {
   "cell_type": "raw",
   "metadata": {},
   "source": [
    "Here we get 96.45% r-squared value."
   ]
  },
  {
   "cell_type": "raw",
   "metadata": {},
   "source": [
    "So, we move towards an another algorithm i.e XG Boosting"
   ]
  },
  {
   "cell_type": "markdown",
   "metadata": {},
   "source": [
    "# XG Boosting"
   ]
  },
  {
   "cell_type": "raw",
   "metadata": {},
   "source": [
    "XGBoost (extreme Gradient Boosting) is an advanced implementation of the gradient boosting algorithm.\n",
    "XGBoost has proved to be a highly effective ML algorithm, extensively used in machine learning competitions and hackathons. XGBoost has high predictive power and is almost 10 times faster than the other gradient boosting techniques."
   ]
  },
  {
   "cell_type": "code",
   "execution_count": 65,
   "metadata": {},
   "outputs": [
    {
     "data": {
      "text/plain": [
       "0.9915741144198376"
      ]
     },
     "execution_count": 65,
     "metadata": {},
     "output_type": "execute_result"
    }
   ],
   "source": [
    "import xgboost as xgb\n",
    "model=xgb.XGBRegressor()\n",
    "model.fit(X_train, y_train)\n",
    "model.score(X_test,y_test)"
   ]
  },
  {
   "cell_type": "code",
   "execution_count": 66,
   "metadata": {},
   "outputs": [
    {
     "data": {
      "text/plain": [
       "0.967534053861643"
      ]
     },
     "execution_count": 66,
     "metadata": {},
     "output_type": "execute_result"
    }
   ],
   "source": [
    "y_pred5 = et_model.predict(X_test)\n",
    "R2_XGB = np.mean(r2_score(y_test, y_pred5))\n",
    "R2_XGB"
   ]
  },
  {
   "cell_type": "code",
   "execution_count": 67,
   "metadata": {},
   "outputs": [
    {
     "data": {
      "text/plain": [
       "1.724734217381348"
      ]
     },
     "execution_count": 67,
     "metadata": {},
     "output_type": "execute_result"
    }
   ],
   "source": [
    "rmse_XGB = sqrt(mean_squared_error(y_test, y_pred5))\n",
    "\n",
    "rmse_XGB"
   ]
  },
  {
   "cell_type": "raw",
   "metadata": {},
   "source": [
    "Here we get 96.46% r-squared value."
   ]
  },
  {
   "cell_type": "markdown",
   "metadata": {},
   "source": [
    "# Support Vector Regressor"
   ]
  },
  {
   "cell_type": "raw",
   "metadata": {},
   "source": [
    "Support  Vector Regressor decide a decision boundary at ‘a’ distance from the original hyperplane such that data points closest to the hyperplane or the support vectors are within that boundary line.\n",
    "Let's start by importing libraries"
   ]
  },
  {
   "cell_type": "code",
   "execution_count": 68,
   "metadata": {},
   "outputs": [
    {
     "data": {
      "text/plain": [
       "0.7171113714777373"
      ]
     },
     "execution_count": 68,
     "metadata": {},
     "output_type": "execute_result"
    }
   ],
   "source": [
    "from sklearn.svm import SVR\n",
    "model_svr=SVR().fit(X_train,y_train)\n",
    "model_svr.score(X_test,y_test)"
   ]
  },
  {
   "cell_type": "code",
   "execution_count": 69,
   "metadata": {},
   "outputs": [
    {
     "data": {
      "text/plain": [
       "0.7171113714777373"
      ]
     },
     "execution_count": 69,
     "metadata": {},
     "output_type": "execute_result"
    }
   ],
   "source": [
    "y_pred7 = model_svr.predict(X_test)\n",
    "R2_svr = np.mean(r2_score(y_test, y_pred7))\n",
    "R2_svr"
   ]
  },
  {
   "cell_type": "code",
   "execution_count": 70,
   "metadata": {},
   "outputs": [
    {
     "data": {
      "text/plain": [
       "5.091149998721817"
      ]
     },
     "execution_count": 70,
     "metadata": {},
     "output_type": "execute_result"
    }
   ],
   "source": [
    "rmse_svr = sqrt(mean_squared_error(y_test, y_pred7))\n",
    "\n",
    "rmse_svr"
   ]
  },
  {
   "cell_type": "code",
   "execution_count": null,
   "metadata": {},
   "outputs": [],
   "source": []
  },
  {
   "cell_type": "raw",
   "metadata": {},
   "source": [
    "Finally we check how much accuracy we get by performing several algorithms.\n",
    "To do this ,we build a dataframe named \"models\", and put all our previous models.\n",
    "Let's see which is more accurate and best fitted."
   ]
  },
  {
   "cell_type": "code",
   "execution_count": 71,
   "metadata": {},
   "outputs": [],
   "source": [
    "models= pd.DataFrame({ \n",
    "\"Model\" : [\"Linear Regression\",\"Decision Tree\",\"Extra Tree\",\"Random Forest\",\"Gradient Boosting\",\"XG Boosting\",\"Support Vector Regressor\"],\n",
    "\"R2 Score\" : [R2_LR,R2_dt,R2_et,R2_rf,R2_GB,R2_XGB,R2_svr],\n",
    "\"RMSE Value\" : [rmse_LR,rmse_dt,rmse_et,rmse_rf,rmse_GB,rmse_XGB,rmse_svr]\n",
    "\n",
    "})"
   ]
  },
  {
   "cell_type": "code",
   "execution_count": 72,
   "metadata": {},
   "outputs": [
    {
     "data": {
      "text/html": [
       "<div>\n",
       "<style scoped>\n",
       "    .dataframe tbody tr th:only-of-type {\n",
       "        vertical-align: middle;\n",
       "    }\n",
       "\n",
       "    .dataframe tbody tr th {\n",
       "        vertical-align: top;\n",
       "    }\n",
       "\n",
       "    .dataframe thead th {\n",
       "        text-align: right;\n",
       "    }\n",
       "</style>\n",
       "<table border=\"1\" class=\"dataframe\">\n",
       "  <thead>\n",
       "    <tr style=\"text-align: right;\">\n",
       "      <th></th>\n",
       "      <th>Model</th>\n",
       "      <th>R2 Score</th>\n",
       "      <th>RMSE Value</th>\n",
       "    </tr>\n",
       "  </thead>\n",
       "  <tbody>\n",
       "    <tr>\n",
       "      <th>0</th>\n",
       "      <td>Linear Regression</td>\n",
       "      <td>0.887557</td>\n",
       "      <td>3.187969</td>\n",
       "    </tr>\n",
       "    <tr>\n",
       "      <th>1</th>\n",
       "      <td>Decision Tree</td>\n",
       "      <td>0.970309</td>\n",
       "      <td>1.649376</td>\n",
       "    </tr>\n",
       "    <tr>\n",
       "      <th>2</th>\n",
       "      <td>Extra Tree</td>\n",
       "      <td>0.967534</td>\n",
       "      <td>1.724734</td>\n",
       "    </tr>\n",
       "    <tr>\n",
       "      <th>3</th>\n",
       "      <td>Random Forest</td>\n",
       "      <td>0.971247</td>\n",
       "      <td>1.623130</td>\n",
       "    </tr>\n",
       "    <tr>\n",
       "      <th>4</th>\n",
       "      <td>Gradient Boosting</td>\n",
       "      <td>0.977806</td>\n",
       "      <td>1.426030</td>\n",
       "    </tr>\n",
       "    <tr>\n",
       "      <th>5</th>\n",
       "      <td>XG Boosting</td>\n",
       "      <td>0.967534</td>\n",
       "      <td>1.724734</td>\n",
       "    </tr>\n",
       "    <tr>\n",
       "      <th>6</th>\n",
       "      <td>Support Vector Regressor</td>\n",
       "      <td>0.717111</td>\n",
       "      <td>5.091150</td>\n",
       "    </tr>\n",
       "  </tbody>\n",
       "</table>\n",
       "</div>"
      ],
      "text/plain": [
       "                      Model  R2 Score  RMSE Value\n",
       "0         Linear Regression  0.887557    3.187969\n",
       "1             Decision Tree  0.970309    1.649376\n",
       "2                Extra Tree  0.967534    1.724734\n",
       "3             Random Forest  0.971247    1.623130\n",
       "4         Gradient Boosting  0.977806    1.426030\n",
       "5               XG Boosting  0.967534    1.724734\n",
       "6  Support Vector Regressor  0.717111    5.091150"
      ]
     },
     "execution_count": 72,
     "metadata": {},
     "output_type": "execute_result"
    }
   ],
   "source": [
    "models"
   ]
  },
  {
   "cell_type": "code",
   "execution_count": 73,
   "metadata": {},
   "outputs": [
    {
     "data": {
      "text/html": [
       "<div>\n",
       "<style scoped>\n",
       "    .dataframe tbody tr th:only-of-type {\n",
       "        vertical-align: middle;\n",
       "    }\n",
       "\n",
       "    .dataframe tbody tr th {\n",
       "        vertical-align: top;\n",
       "    }\n",
       "\n",
       "    .dataframe thead th {\n",
       "        text-align: right;\n",
       "    }\n",
       "</style>\n",
       "<table border=\"1\" class=\"dataframe\">\n",
       "  <thead>\n",
       "    <tr style=\"text-align: right;\">\n",
       "      <th></th>\n",
       "      <th>Model</th>\n",
       "      <th>R2 Score</th>\n",
       "      <th>RMSE Value</th>\n",
       "    </tr>\n",
       "  </thead>\n",
       "  <tbody>\n",
       "    <tr>\n",
       "      <th>6</th>\n",
       "      <td>Support Vector Regressor</td>\n",
       "      <td>0.717111</td>\n",
       "      <td>5.091150</td>\n",
       "    </tr>\n",
       "    <tr>\n",
       "      <th>0</th>\n",
       "      <td>Linear Regression</td>\n",
       "      <td>0.887557</td>\n",
       "      <td>3.187969</td>\n",
       "    </tr>\n",
       "    <tr>\n",
       "      <th>2</th>\n",
       "      <td>Extra Tree</td>\n",
       "      <td>0.967534</td>\n",
       "      <td>1.724734</td>\n",
       "    </tr>\n",
       "    <tr>\n",
       "      <th>5</th>\n",
       "      <td>XG Boosting</td>\n",
       "      <td>0.967534</td>\n",
       "      <td>1.724734</td>\n",
       "    </tr>\n",
       "    <tr>\n",
       "      <th>1</th>\n",
       "      <td>Decision Tree</td>\n",
       "      <td>0.970309</td>\n",
       "      <td>1.649376</td>\n",
       "    </tr>\n",
       "    <tr>\n",
       "      <th>3</th>\n",
       "      <td>Random Forest</td>\n",
       "      <td>0.971247</td>\n",
       "      <td>1.623130</td>\n",
       "    </tr>\n",
       "    <tr>\n",
       "      <th>4</th>\n",
       "      <td>Gradient Boosting</td>\n",
       "      <td>0.977806</td>\n",
       "      <td>1.426030</td>\n",
       "    </tr>\n",
       "  </tbody>\n",
       "</table>\n",
       "</div>"
      ],
      "text/plain": [
       "                      Model  R2 Score  RMSE Value\n",
       "6  Support Vector Regressor  0.717111    5.091150\n",
       "0         Linear Regression  0.887557    3.187969\n",
       "2                Extra Tree  0.967534    1.724734\n",
       "5               XG Boosting  0.967534    1.724734\n",
       "1             Decision Tree  0.970309    1.649376\n",
       "3             Random Forest  0.971247    1.623130\n",
       "4         Gradient Boosting  0.977806    1.426030"
      ]
     },
     "execution_count": 73,
     "metadata": {},
     "output_type": "execute_result"
    }
   ],
   "source": [
    "models.sort_values(by=\"R2 Score\")"
   ]
  },
  {
   "cell_type": "raw",
   "metadata": {},
   "source": [
    "So, if we are going to check through R-squared Value score then, Gradient Boosting is best.\n",
    "Because high value of R2 score there is good model fitted."
   ]
  },
  {
   "cell_type": "code",
   "execution_count": 74,
   "metadata": {},
   "outputs": [
    {
     "data": {
      "text/html": [
       "<div>\n",
       "<style scoped>\n",
       "    .dataframe tbody tr th:only-of-type {\n",
       "        vertical-align: middle;\n",
       "    }\n",
       "\n",
       "    .dataframe tbody tr th {\n",
       "        vertical-align: top;\n",
       "    }\n",
       "\n",
       "    .dataframe thead th {\n",
       "        text-align: right;\n",
       "    }\n",
       "</style>\n",
       "<table border=\"1\" class=\"dataframe\">\n",
       "  <thead>\n",
       "    <tr style=\"text-align: right;\">\n",
       "      <th></th>\n",
       "      <th>Model</th>\n",
       "      <th>R2 Score</th>\n",
       "      <th>RMSE Value</th>\n",
       "    </tr>\n",
       "  </thead>\n",
       "  <tbody>\n",
       "    <tr>\n",
       "      <th>4</th>\n",
       "      <td>Gradient Boosting</td>\n",
       "      <td>0.977806</td>\n",
       "      <td>1.426030</td>\n",
       "    </tr>\n",
       "    <tr>\n",
       "      <th>3</th>\n",
       "      <td>Random Forest</td>\n",
       "      <td>0.971247</td>\n",
       "      <td>1.623130</td>\n",
       "    </tr>\n",
       "    <tr>\n",
       "      <th>1</th>\n",
       "      <td>Decision Tree</td>\n",
       "      <td>0.970309</td>\n",
       "      <td>1.649376</td>\n",
       "    </tr>\n",
       "    <tr>\n",
       "      <th>2</th>\n",
       "      <td>Extra Tree</td>\n",
       "      <td>0.967534</td>\n",
       "      <td>1.724734</td>\n",
       "    </tr>\n",
       "    <tr>\n",
       "      <th>5</th>\n",
       "      <td>XG Boosting</td>\n",
       "      <td>0.967534</td>\n",
       "      <td>1.724734</td>\n",
       "    </tr>\n",
       "    <tr>\n",
       "      <th>0</th>\n",
       "      <td>Linear Regression</td>\n",
       "      <td>0.887557</td>\n",
       "      <td>3.187969</td>\n",
       "    </tr>\n",
       "    <tr>\n",
       "      <th>6</th>\n",
       "      <td>Support Vector Regressor</td>\n",
       "      <td>0.717111</td>\n",
       "      <td>5.091150</td>\n",
       "    </tr>\n",
       "  </tbody>\n",
       "</table>\n",
       "</div>"
      ],
      "text/plain": [
       "                      Model  R2 Score  RMSE Value\n",
       "4         Gradient Boosting  0.977806    1.426030\n",
       "3             Random Forest  0.971247    1.623130\n",
       "1             Decision Tree  0.970309    1.649376\n",
       "2                Extra Tree  0.967534    1.724734\n",
       "5               XG Boosting  0.967534    1.724734\n",
       "0         Linear Regression  0.887557    3.187969\n",
       "6  Support Vector Regressor  0.717111    5.091150"
      ]
     },
     "execution_count": 74,
     "metadata": {},
     "output_type": "execute_result"
    }
   ],
   "source": [
    "models.sort_values(by=\"RMSE Value\")"
   ]
  },
  {
   "cell_type": "raw",
   "metadata": {},
   "source": [
    "So, if we are going to check through root mean square error then, Gradient Boosting is best.\n",
    "Because less value of RMSE there is good model fitted."
   ]
  },
  {
   "cell_type": "code",
   "execution_count": null,
   "metadata": {},
   "outputs": [],
   "source": []
  },
  {
   "cell_type": "markdown",
   "metadata": {},
   "source": [
    "# For Heating Load"
   ]
  },
  {
   "cell_type": "raw",
   "metadata": {},
   "source": [
    "We perform various algorithms to calculate Cooling Load.\n",
    "This all same thing we are going to do for calculating Heating Load.\n",
    "So, let's start by importing libararies."
   ]
  },
  {
   "cell_type": "code",
   "execution_count": 75,
   "metadata": {},
   "outputs": [],
   "source": [
    "data = pd.read_excel(\"ENB2012_data.xlsx\")  # LOad  data"
   ]
  },
  {
   "cell_type": "code",
   "execution_count": 76,
   "metadata": {},
   "outputs": [
    {
     "data": {
      "text/html": [
       "<div>\n",
       "<style scoped>\n",
       "    .dataframe tbody tr th:only-of-type {\n",
       "        vertical-align: middle;\n",
       "    }\n",
       "\n",
       "    .dataframe tbody tr th {\n",
       "        vertical-align: top;\n",
       "    }\n",
       "\n",
       "    .dataframe thead th {\n",
       "        text-align: right;\n",
       "    }\n",
       "</style>\n",
       "<table border=\"1\" class=\"dataframe\">\n",
       "  <thead>\n",
       "    <tr style=\"text-align: right;\">\n",
       "      <th></th>\n",
       "      <th>X1</th>\n",
       "      <th>X2</th>\n",
       "      <th>X3</th>\n",
       "      <th>X4</th>\n",
       "      <th>X5</th>\n",
       "      <th>X6</th>\n",
       "      <th>X7</th>\n",
       "      <th>X8</th>\n",
       "      <th>Y1</th>\n",
       "      <th>Y2</th>\n",
       "      <th>Unnamed: 10</th>\n",
       "      <th>Unnamed: 11</th>\n",
       "    </tr>\n",
       "  </thead>\n",
       "  <tbody>\n",
       "    <tr>\n",
       "      <th>0</th>\n",
       "      <td>0.98</td>\n",
       "      <td>514.5</td>\n",
       "      <td>294.0</td>\n",
       "      <td>110.25</td>\n",
       "      <td>7.0</td>\n",
       "      <td>2</td>\n",
       "      <td>0.0</td>\n",
       "      <td>0</td>\n",
       "      <td>15.55</td>\n",
       "      <td>21.33</td>\n",
       "      <td>NaN</td>\n",
       "      <td>NaN</td>\n",
       "    </tr>\n",
       "    <tr>\n",
       "      <th>1</th>\n",
       "      <td>0.98</td>\n",
       "      <td>514.5</td>\n",
       "      <td>294.0</td>\n",
       "      <td>110.25</td>\n",
       "      <td>7.0</td>\n",
       "      <td>3</td>\n",
       "      <td>0.0</td>\n",
       "      <td>0</td>\n",
       "      <td>15.55</td>\n",
       "      <td>21.33</td>\n",
       "      <td>NaN</td>\n",
       "      <td>NaN</td>\n",
       "    </tr>\n",
       "    <tr>\n",
       "      <th>2</th>\n",
       "      <td>0.98</td>\n",
       "      <td>514.5</td>\n",
       "      <td>294.0</td>\n",
       "      <td>110.25</td>\n",
       "      <td>7.0</td>\n",
       "      <td>4</td>\n",
       "      <td>0.0</td>\n",
       "      <td>0</td>\n",
       "      <td>15.55</td>\n",
       "      <td>21.33</td>\n",
       "      <td>NaN</td>\n",
       "      <td>NaN</td>\n",
       "    </tr>\n",
       "    <tr>\n",
       "      <th>3</th>\n",
       "      <td>0.98</td>\n",
       "      <td>514.5</td>\n",
       "      <td>294.0</td>\n",
       "      <td>110.25</td>\n",
       "      <td>7.0</td>\n",
       "      <td>5</td>\n",
       "      <td>0.0</td>\n",
       "      <td>0</td>\n",
       "      <td>15.55</td>\n",
       "      <td>21.33</td>\n",
       "      <td>NaN</td>\n",
       "      <td>NaN</td>\n",
       "    </tr>\n",
       "    <tr>\n",
       "      <th>4</th>\n",
       "      <td>0.90</td>\n",
       "      <td>563.5</td>\n",
       "      <td>318.5</td>\n",
       "      <td>122.50</td>\n",
       "      <td>7.0</td>\n",
       "      <td>2</td>\n",
       "      <td>0.0</td>\n",
       "      <td>0</td>\n",
       "      <td>20.84</td>\n",
       "      <td>28.28</td>\n",
       "      <td>NaN</td>\n",
       "      <td>NaN</td>\n",
       "    </tr>\n",
       "  </tbody>\n",
       "</table>\n",
       "</div>"
      ],
      "text/plain": [
       "     X1     X2     X3      X4   X5  X6   X7  X8     Y1     Y2  Unnamed: 10  \\\n",
       "0  0.98  514.5  294.0  110.25  7.0   2  0.0   0  15.55  21.33          NaN   \n",
       "1  0.98  514.5  294.0  110.25  7.0   3  0.0   0  15.55  21.33          NaN   \n",
       "2  0.98  514.5  294.0  110.25  7.0   4  0.0   0  15.55  21.33          NaN   \n",
       "3  0.98  514.5  294.0  110.25  7.0   5  0.0   0  15.55  21.33          NaN   \n",
       "4  0.90  563.5  318.5  122.50  7.0   2  0.0   0  20.84  28.28          NaN   \n",
       "\n",
       "   Unnamed: 11  \n",
       "0          NaN  \n",
       "1          NaN  \n",
       "2          NaN  \n",
       "3          NaN  \n",
       "4          NaN  "
      ]
     },
     "execution_count": 76,
     "metadata": {},
     "output_type": "execute_result"
    }
   ],
   "source": [
    "data.head()"
   ]
  },
  {
   "cell_type": "code",
   "execution_count": 77,
   "metadata": {},
   "outputs": [
    {
     "data": {
      "text/html": [
       "<div>\n",
       "<style scoped>\n",
       "    .dataframe tbody tr th:only-of-type {\n",
       "        vertical-align: middle;\n",
       "    }\n",
       "\n",
       "    .dataframe tbody tr th {\n",
       "        vertical-align: top;\n",
       "    }\n",
       "\n",
       "    .dataframe thead th {\n",
       "        text-align: right;\n",
       "    }\n",
       "</style>\n",
       "<table border=\"1\" class=\"dataframe\">\n",
       "  <thead>\n",
       "    <tr style=\"text-align: right;\">\n",
       "      <th></th>\n",
       "      <th>X1</th>\n",
       "      <th>X2</th>\n",
       "      <th>X3</th>\n",
       "      <th>X4</th>\n",
       "      <th>X5</th>\n",
       "      <th>X6</th>\n",
       "      <th>X7</th>\n",
       "      <th>X8</th>\n",
       "      <th>Y1</th>\n",
       "      <th>Unnamed: 10</th>\n",
       "      <th>Unnamed: 11</th>\n",
       "    </tr>\n",
       "  </thead>\n",
       "  <tbody>\n",
       "    <tr>\n",
       "      <th>0</th>\n",
       "      <td>0.98</td>\n",
       "      <td>514.5</td>\n",
       "      <td>294.0</td>\n",
       "      <td>110.25</td>\n",
       "      <td>7.0</td>\n",
       "      <td>2</td>\n",
       "      <td>0.0</td>\n",
       "      <td>0</td>\n",
       "      <td>15.55</td>\n",
       "      <td>NaN</td>\n",
       "      <td>NaN</td>\n",
       "    </tr>\n",
       "    <tr>\n",
       "      <th>1</th>\n",
       "      <td>0.98</td>\n",
       "      <td>514.5</td>\n",
       "      <td>294.0</td>\n",
       "      <td>110.25</td>\n",
       "      <td>7.0</td>\n",
       "      <td>3</td>\n",
       "      <td>0.0</td>\n",
       "      <td>0</td>\n",
       "      <td>15.55</td>\n",
       "      <td>NaN</td>\n",
       "      <td>NaN</td>\n",
       "    </tr>\n",
       "    <tr>\n",
       "      <th>2</th>\n",
       "      <td>0.98</td>\n",
       "      <td>514.5</td>\n",
       "      <td>294.0</td>\n",
       "      <td>110.25</td>\n",
       "      <td>7.0</td>\n",
       "      <td>4</td>\n",
       "      <td>0.0</td>\n",
       "      <td>0</td>\n",
       "      <td>15.55</td>\n",
       "      <td>NaN</td>\n",
       "      <td>NaN</td>\n",
       "    </tr>\n",
       "    <tr>\n",
       "      <th>3</th>\n",
       "      <td>0.98</td>\n",
       "      <td>514.5</td>\n",
       "      <td>294.0</td>\n",
       "      <td>110.25</td>\n",
       "      <td>7.0</td>\n",
       "      <td>5</td>\n",
       "      <td>0.0</td>\n",
       "      <td>0</td>\n",
       "      <td>15.55</td>\n",
       "      <td>NaN</td>\n",
       "      <td>NaN</td>\n",
       "    </tr>\n",
       "    <tr>\n",
       "      <th>4</th>\n",
       "      <td>0.90</td>\n",
       "      <td>563.5</td>\n",
       "      <td>318.5</td>\n",
       "      <td>122.50</td>\n",
       "      <td>7.0</td>\n",
       "      <td>2</td>\n",
       "      <td>0.0</td>\n",
       "      <td>0</td>\n",
       "      <td>20.84</td>\n",
       "      <td>NaN</td>\n",
       "      <td>NaN</td>\n",
       "    </tr>\n",
       "  </tbody>\n",
       "</table>\n",
       "</div>"
      ],
      "text/plain": [
       "     X1     X2     X3      X4   X5  X6   X7  X8     Y1  Unnamed: 10  \\\n",
       "0  0.98  514.5  294.0  110.25  7.0   2  0.0   0  15.55          NaN   \n",
       "1  0.98  514.5  294.0  110.25  7.0   3  0.0   0  15.55          NaN   \n",
       "2  0.98  514.5  294.0  110.25  7.0   4  0.0   0  15.55          NaN   \n",
       "3  0.98  514.5  294.0  110.25  7.0   5  0.0   0  15.55          NaN   \n",
       "4  0.90  563.5  318.5  122.50  7.0   2  0.0   0  20.84          NaN   \n",
       "\n",
       "   Unnamed: 11  \n",
       "0          NaN  \n",
       "1          NaN  \n",
       "2          NaN  \n",
       "3          NaN  \n",
       "4          NaN  "
      ]
     },
     "execution_count": 77,
     "metadata": {},
     "output_type": "execute_result"
    }
   ],
   "source": [
    "data.drop(\"Y2\",axis=1,inplace=True) # Here we drop y2 column because we have to calculate for Y1(Heating Load).\n",
    "data.head()"
   ]
  },
  {
   "cell_type": "code",
   "execution_count": 78,
   "metadata": {},
   "outputs": [],
   "source": [
    "# Now we split our model into X and Y parts to finally predict the results using several algorithms.\n",
    "\n",
    "X=data[data.columns[:8]]  \n",
    "Y=data['Y1']   #Dependent attribute of heating load"
   ]
  },
  {
   "cell_type": "code",
   "execution_count": 79,
   "metadata": {},
   "outputs": [
    {
     "data": {
      "text/plain": [
       "((768, 8), ' ', (768,))"
      ]
     },
     "execution_count": 79,
     "metadata": {},
     "output_type": "execute_result"
    }
   ],
   "source": [
    "X.shape,' ',Y.shape"
   ]
  },
  {
   "cell_type": "code",
   "execution_count": 80,
   "metadata": {},
   "outputs": [
    {
     "name": "stdout",
     "output_type": "stream",
     "text": [
      "(537, 8)    (231, 8)\n",
      "(537,)    (231,)\n"
     ]
    }
   ],
   "source": [
    "from sklearn.model_selection import train_test_split\n",
    "\n",
    "X_train, X_test, y_train, y_test = train_test_split(X, Y, test_size = 0.3, random_state = 10)\n",
    "\n",
    "print(X_train.shape,\"  \",X_test.shape)\n",
    "print(y_train.shape,\"  \",y_test.shape)"
   ]
  },
  {
   "cell_type": "code",
   "execution_count": 81,
   "metadata": {},
   "outputs": [
    {
     "data": {
      "text/html": [
       "<div>\n",
       "<style scoped>\n",
       "    .dataframe tbody tr th:only-of-type {\n",
       "        vertical-align: middle;\n",
       "    }\n",
       "\n",
       "    .dataframe tbody tr th {\n",
       "        vertical-align: top;\n",
       "    }\n",
       "\n",
       "    .dataframe thead th {\n",
       "        text-align: right;\n",
       "    }\n",
       "</style>\n",
       "<table border=\"1\" class=\"dataframe\">\n",
       "  <thead>\n",
       "    <tr style=\"text-align: right;\">\n",
       "      <th></th>\n",
       "      <th>X1</th>\n",
       "      <th>X2</th>\n",
       "      <th>X3</th>\n",
       "      <th>X4</th>\n",
       "      <th>X5</th>\n",
       "      <th>X6</th>\n",
       "      <th>X7</th>\n",
       "      <th>X8</th>\n",
       "      <th>Y1</th>\n",
       "      <th>Unnamed: 10</th>\n",
       "      <th>Unnamed: 11</th>\n",
       "    </tr>\n",
       "  </thead>\n",
       "  <tbody>\n",
       "    <tr>\n",
       "      <th>X1</th>\n",
       "      <td>1.000000e+00</td>\n",
       "      <td>-9.919015e-01</td>\n",
       "      <td>-2.037817e-01</td>\n",
       "      <td>-8.688234e-01</td>\n",
       "      <td>8.277473e-01</td>\n",
       "      <td>4.678592e-17</td>\n",
       "      <td>-2.960552e-15</td>\n",
       "      <td>-7.107006e-16</td>\n",
       "      <td>0.622272</td>\n",
       "      <td>NaN</td>\n",
       "      <td>NaN</td>\n",
       "    </tr>\n",
       "    <tr>\n",
       "      <th>X2</th>\n",
       "      <td>-9.919015e-01</td>\n",
       "      <td>1.000000e+00</td>\n",
       "      <td>1.955016e-01</td>\n",
       "      <td>8.807195e-01</td>\n",
       "      <td>-8.581477e-01</td>\n",
       "      <td>-3.459372e-17</td>\n",
       "      <td>3.636925e-15</td>\n",
       "      <td>2.438409e-15</td>\n",
       "      <td>-0.658120</td>\n",
       "      <td>NaN</td>\n",
       "      <td>NaN</td>\n",
       "    </tr>\n",
       "    <tr>\n",
       "      <th>X3</th>\n",
       "      <td>-2.037817e-01</td>\n",
       "      <td>1.955016e-01</td>\n",
       "      <td>1.000000e+00</td>\n",
       "      <td>-2.923165e-01</td>\n",
       "      <td>2.809757e-01</td>\n",
       "      <td>-2.429499e-17</td>\n",
       "      <td>-8.567455e-17</td>\n",
       "      <td>2.067384e-16</td>\n",
       "      <td>0.455671</td>\n",
       "      <td>NaN</td>\n",
       "      <td>NaN</td>\n",
       "    </tr>\n",
       "    <tr>\n",
       "      <th>X4</th>\n",
       "      <td>-8.688234e-01</td>\n",
       "      <td>8.807195e-01</td>\n",
       "      <td>-2.923165e-01</td>\n",
       "      <td>1.000000e+00</td>\n",
       "      <td>-9.725122e-01</td>\n",
       "      <td>-5.830058e-17</td>\n",
       "      <td>-1.759011e-15</td>\n",
       "      <td>-1.078071e-15</td>\n",
       "      <td>-0.861828</td>\n",
       "      <td>NaN</td>\n",
       "      <td>NaN</td>\n",
       "    </tr>\n",
       "    <tr>\n",
       "      <th>X5</th>\n",
       "      <td>8.277473e-01</td>\n",
       "      <td>-8.581477e-01</td>\n",
       "      <td>2.809757e-01</td>\n",
       "      <td>-9.725122e-01</td>\n",
       "      <td>1.000000e+00</td>\n",
       "      <td>4.492205e-17</td>\n",
       "      <td>1.489134e-17</td>\n",
       "      <td>-2.920613e-17</td>\n",
       "      <td>0.889430</td>\n",
       "      <td>NaN</td>\n",
       "      <td>NaN</td>\n",
       "    </tr>\n",
       "    <tr>\n",
       "      <th>X6</th>\n",
       "      <td>4.678592e-17</td>\n",
       "      <td>-3.459372e-17</td>\n",
       "      <td>-2.429499e-17</td>\n",
       "      <td>-5.830058e-17</td>\n",
       "      <td>4.492205e-17</td>\n",
       "      <td>1.000000e+00</td>\n",
       "      <td>-9.406007e-16</td>\n",
       "      <td>-2.549352e-16</td>\n",
       "      <td>-0.002587</td>\n",
       "      <td>NaN</td>\n",
       "      <td>NaN</td>\n",
       "    </tr>\n",
       "    <tr>\n",
       "      <th>X7</th>\n",
       "      <td>-2.960552e-15</td>\n",
       "      <td>3.636925e-15</td>\n",
       "      <td>-8.567455e-17</td>\n",
       "      <td>-1.759011e-15</td>\n",
       "      <td>1.489134e-17</td>\n",
       "      <td>-9.406007e-16</td>\n",
       "      <td>1.000000e+00</td>\n",
       "      <td>2.129642e-01</td>\n",
       "      <td>0.269842</td>\n",
       "      <td>NaN</td>\n",
       "      <td>NaN</td>\n",
       "    </tr>\n",
       "    <tr>\n",
       "      <th>X8</th>\n",
       "      <td>-7.107006e-16</td>\n",
       "      <td>2.438409e-15</td>\n",
       "      <td>2.067384e-16</td>\n",
       "      <td>-1.078071e-15</td>\n",
       "      <td>-2.920613e-17</td>\n",
       "      <td>-2.549352e-16</td>\n",
       "      <td>2.129642e-01</td>\n",
       "      <td>1.000000e+00</td>\n",
       "      <td>0.087368</td>\n",
       "      <td>NaN</td>\n",
       "      <td>NaN</td>\n",
       "    </tr>\n",
       "    <tr>\n",
       "      <th>Y1</th>\n",
       "      <td>6.222719e-01</td>\n",
       "      <td>-6.581199e-01</td>\n",
       "      <td>4.556714e-01</td>\n",
       "      <td>-8.618281e-01</td>\n",
       "      <td>8.894305e-01</td>\n",
       "      <td>-2.586763e-03</td>\n",
       "      <td>2.698417e-01</td>\n",
       "      <td>8.736846e-02</td>\n",
       "      <td>1.000000</td>\n",
       "      <td>NaN</td>\n",
       "      <td>NaN</td>\n",
       "    </tr>\n",
       "    <tr>\n",
       "      <th>Unnamed: 10</th>\n",
       "      <td>NaN</td>\n",
       "      <td>NaN</td>\n",
       "      <td>NaN</td>\n",
       "      <td>NaN</td>\n",
       "      <td>NaN</td>\n",
       "      <td>NaN</td>\n",
       "      <td>NaN</td>\n",
       "      <td>NaN</td>\n",
       "      <td>NaN</td>\n",
       "      <td>NaN</td>\n",
       "      <td>NaN</td>\n",
       "    </tr>\n",
       "    <tr>\n",
       "      <th>Unnamed: 11</th>\n",
       "      <td>NaN</td>\n",
       "      <td>NaN</td>\n",
       "      <td>NaN</td>\n",
       "      <td>NaN</td>\n",
       "      <td>NaN</td>\n",
       "      <td>NaN</td>\n",
       "      <td>NaN</td>\n",
       "      <td>NaN</td>\n",
       "      <td>NaN</td>\n",
       "      <td>NaN</td>\n",
       "      <td>NaN</td>\n",
       "    </tr>\n",
       "  </tbody>\n",
       "</table>\n",
       "</div>"
      ],
      "text/plain": [
       "                       X1            X2            X3            X4  \\\n",
       "X1           1.000000e+00 -9.919015e-01 -2.037817e-01 -8.688234e-01   \n",
       "X2          -9.919015e-01  1.000000e+00  1.955016e-01  8.807195e-01   \n",
       "X3          -2.037817e-01  1.955016e-01  1.000000e+00 -2.923165e-01   \n",
       "X4          -8.688234e-01  8.807195e-01 -2.923165e-01  1.000000e+00   \n",
       "X5           8.277473e-01 -8.581477e-01  2.809757e-01 -9.725122e-01   \n",
       "X6           4.678592e-17 -3.459372e-17 -2.429499e-17 -5.830058e-17   \n",
       "X7          -2.960552e-15  3.636925e-15 -8.567455e-17 -1.759011e-15   \n",
       "X8          -7.107006e-16  2.438409e-15  2.067384e-16 -1.078071e-15   \n",
       "Y1           6.222719e-01 -6.581199e-01  4.556714e-01 -8.618281e-01   \n",
       "Unnamed: 10           NaN           NaN           NaN           NaN   \n",
       "Unnamed: 11           NaN           NaN           NaN           NaN   \n",
       "\n",
       "                       X5            X6            X7            X8        Y1  \\\n",
       "X1           8.277473e-01  4.678592e-17 -2.960552e-15 -7.107006e-16  0.622272   \n",
       "X2          -8.581477e-01 -3.459372e-17  3.636925e-15  2.438409e-15 -0.658120   \n",
       "X3           2.809757e-01 -2.429499e-17 -8.567455e-17  2.067384e-16  0.455671   \n",
       "X4          -9.725122e-01 -5.830058e-17 -1.759011e-15 -1.078071e-15 -0.861828   \n",
       "X5           1.000000e+00  4.492205e-17  1.489134e-17 -2.920613e-17  0.889430   \n",
       "X6           4.492205e-17  1.000000e+00 -9.406007e-16 -2.549352e-16 -0.002587   \n",
       "X7           1.489134e-17 -9.406007e-16  1.000000e+00  2.129642e-01  0.269842   \n",
       "X8          -2.920613e-17 -2.549352e-16  2.129642e-01  1.000000e+00  0.087368   \n",
       "Y1           8.894305e-01 -2.586763e-03  2.698417e-01  8.736846e-02  1.000000   \n",
       "Unnamed: 10           NaN           NaN           NaN           NaN       NaN   \n",
       "Unnamed: 11           NaN           NaN           NaN           NaN       NaN   \n",
       "\n",
       "             Unnamed: 10  Unnamed: 11  \n",
       "X1                   NaN          NaN  \n",
       "X2                   NaN          NaN  \n",
       "X3                   NaN          NaN  \n",
       "X4                   NaN          NaN  \n",
       "X5                   NaN          NaN  \n",
       "X6                   NaN          NaN  \n",
       "X7                   NaN          NaN  \n",
       "X8                   NaN          NaN  \n",
       "Y1                   NaN          NaN  \n",
       "Unnamed: 10          NaN          NaN  \n",
       "Unnamed: 11          NaN          NaN  "
      ]
     },
     "execution_count": 81,
     "metadata": {},
     "output_type": "execute_result"
    }
   ],
   "source": [
    "data.corr()   #Calculating co-relation"
   ]
  },
  {
   "cell_type": "code",
   "execution_count": 82,
   "metadata": {},
   "outputs": [
    {
     "data": {
      "text/plain": [
       "<AxesSubplot:>"
      ]
     },
     "execution_count": 82,
     "metadata": {},
     "output_type": "execute_result"
    },
    {
     "data": {
      "image/png": "[encoded data removed]",
      "text/plain": [
       "<Figure size 1440x1296 with 2 Axes>"
      ]
     },
     "metadata": {
      "needs_background": "light"
     },
     "output_type": "display_data"
    }
   ],
   "source": [
    "plt.subplots(figsize=(20,18))\n",
    "sns.heatmap(data.corr(),annot=True, cmap=\"YlGnBu\",fmt='0.3f')"
   ]
  },
  {
   "cell_type": "raw",
   "metadata": {},
   "source": [
    "Here we get high corelation between X5-Y1=0.889, X5-X1=0.828, X2-X4=0.881.\n",
    "So, this attributes are highly corelated."
   ]
  },
  {
   "cell_type": "code",
   "execution_count": 83,
   "metadata": {},
   "outputs": [],
   "source": [
    "import statsmodels.formula.api as smf # fitting regression model\n",
    "\n",
    "model02 = smf.ols('Y1~X1+X2+X3+X4+X5+X6+X7+X8', data = data).fit()"
   ]
  },
  {
   "cell_type": "code",
   "execution_count": 84,
   "metadata": {},
   "outputs": [
    {
     "data": {
      "text/plain": [
       "Intercept    84.013418\n",
       "X1          -64.773432\n",
       "X2           -0.062606\n",
       "X3            0.036129\n",
       "X4           -0.049368\n",
       "X5            4.169954\n",
       "X6           -0.023330\n",
       "X7           19.932736\n",
       "X8            0.203777\n",
       "dtype: float64"
      ]
     },
     "execution_count": 84,
     "metadata": {},
     "output_type": "execute_result"
    }
   ],
   "source": [
    "model02.params"
   ]
  },
  {
   "cell_type": "code",
   "execution_count": 85,
   "metadata": {},
   "outputs": [
    {
     "data": {
      "text/html": [
       "<table class=\"simpletable\">\n",
       "<caption>OLS Regression Results</caption>\n",
       "<tr>\n",
       "  <th>Dep. Variable:</th>           <td>Y1</td>        <th>  R-squared:         </th> <td>   0.916</td>\n",
       "</tr>\n",
       "<tr>\n",
       "  <th>Model:</th>                   <td>OLS</td>       <th>  Adj. R-squared:    </th> <td>   0.915</td>\n",
       "</tr>\n",
       "<tr>\n",
       "  <th>Method:</th>             <td>Least Squares</td>  <th>  F-statistic:       </th> <td>   1187.</td>\n",
       "</tr>\n",
       "<tr>\n",
       "  <th>Date:</th>             <td>Thu, 12 Aug 2021</td> <th>  Prob (F-statistic):</th>  <td>  0.00</td> \n",
       "</tr>\n",
       "<tr>\n",
       "  <th>Time:</th>                 <td>14:54:39</td>     <th>  Log-Likelihood:    </th> <td> -1912.5</td>\n",
       "</tr>\n",
       "<tr>\n",
       "  <th>No. Observations:</th>      <td>   768</td>      <th>  AIC:               </th> <td>   3841.</td>\n",
       "</tr>\n",
       "<tr>\n",
       "  <th>Df Residuals:</th>          <td>   760</td>      <th>  BIC:               </th> <td>   3878.</td>\n",
       "</tr>\n",
       "<tr>\n",
       "  <th>Df Model:</th>              <td>     7</td>      <th>                     </th>     <td> </td>   \n",
       "</tr>\n",
       "<tr>\n",
       "  <th>Covariance Type:</th>      <td>nonrobust</td>    <th>                     </th>     <td> </td>   \n",
       "</tr>\n",
       "</table>\n",
       "<table class=\"simpletable\">\n",
       "<tr>\n",
       "      <td></td>         <th>coef</th>     <th>std err</th>      <th>t</th>      <th>P>|t|</th>  <th>[0.025</th>    <th>0.975]</th>  \n",
       "</tr>\n",
       "<tr>\n",
       "  <th>Intercept</th> <td>   84.0134</td> <td>   19.034</td> <td>    4.414</td> <td> 0.000</td> <td>   46.649</td> <td>  121.378</td>\n",
       "</tr>\n",
       "<tr>\n",
       "  <th>X1</th>        <td>  -64.7734</td> <td>   10.289</td> <td>   -6.295</td> <td> 0.000</td> <td>  -84.973</td> <td>  -44.574</td>\n",
       "</tr>\n",
       "<tr>\n",
       "  <th>X2</th>        <td>   -0.0626</td> <td>    0.013</td> <td>   -4.670</td> <td> 0.000</td> <td>   -0.089</td> <td>   -0.036</td>\n",
       "</tr>\n",
       "<tr>\n",
       "  <th>X3</th>        <td>    0.0361</td> <td>    0.004</td> <td>    9.386</td> <td> 0.000</td> <td>    0.029</td> <td>    0.044</td>\n",
       "</tr>\n",
       "<tr>\n",
       "  <th>X4</th>        <td>   -0.0494</td> <td>    0.008</td> <td>   -6.569</td> <td> 0.000</td> <td>   -0.064</td> <td>   -0.035</td>\n",
       "</tr>\n",
       "<tr>\n",
       "  <th>X5</th>        <td>    4.1700</td> <td>    0.338</td> <td>   12.338</td> <td> 0.000</td> <td>    3.506</td> <td>    4.833</td>\n",
       "</tr>\n",
       "<tr>\n",
       "  <th>X6</th>        <td>   -0.0233</td> <td>    0.095</td> <td>   -0.246</td> <td> 0.805</td> <td>   -0.209</td> <td>    0.163</td>\n",
       "</tr>\n",
       "<tr>\n",
       "  <th>X7</th>        <td>   19.9327</td> <td>    0.814</td> <td>   24.488</td> <td> 0.000</td> <td>   18.335</td> <td>   21.531</td>\n",
       "</tr>\n",
       "<tr>\n",
       "  <th>X8</th>        <td>    0.2038</td> <td>    0.070</td> <td>    2.915</td> <td> 0.004</td> <td>    0.067</td> <td>    0.341</td>\n",
       "</tr>\n",
       "</table>\n",
       "<table class=\"simpletable\">\n",
       "<tr>\n",
       "  <th>Omnibus:</th>       <td>18.647</td> <th>  Durbin-Watson:     </th> <td>   0.654</td>\n",
       "</tr>\n",
       "<tr>\n",
       "  <th>Prob(Omnibus):</th> <td> 0.000</td> <th>  Jarque-Bera (JB):  </th> <td>  37.707</td>\n",
       "</tr>\n",
       "<tr>\n",
       "  <th>Skew:</th>          <td> 0.044</td> <th>  Prob(JB):          </th> <td>6.49e-09</td>\n",
       "</tr>\n",
       "<tr>\n",
       "  <th>Kurtosis:</th>      <td> 4.082</td> <th>  Cond. No.          </th> <td>1.09e+16</td>\n",
       "</tr>\n",
       "</table><br/><br/>Notes:<br/>[1] Standard Errors assume that the covariance matrix of the errors is correctly specified.<br/>[2] The smallest eigenvalue is 3.81e-24. This might indicate that there are<br/>strong multicollinearity problems or that the design matrix is singular."
      ],
      "text/plain": [
       "<class 'statsmodels.iolib.summary.Summary'>\n",
       "\"\"\"\n",
       "                            OLS Regression Results                            \n",
       "==============================================================================\n",
       "Dep. Variable:                     Y1   R-squared:                       0.916\n",
       "Model:                            OLS   Adj. R-squared:                  0.915\n",
       "Method:                 Least Squares   F-statistic:                     1187.\n",
       "Date:                Thu, 12 Aug 2021   Prob (F-statistic):               0.00\n",
       "Time:                        14:54:39   Log-Likelihood:                -1912.5\n",
       "No. Observations:                 768   AIC:                             3841.\n",
       "Df Residuals:                     760   BIC:                             3878.\n",
       "Df Model:                           7                                         \n",
       "Covariance Type:            nonrobust                                         \n",
       "==============================================================================\n",
       "                 coef    std err          t      P>|t|      [0.025      0.975]\n",
       "------------------------------------------------------------------------------\n",
       "Intercept     84.0134     19.034      4.414      0.000      46.649     121.378\n",
       "X1           -64.7734     10.289     -6.295      0.000     -84.973     -44.574\n",
       "X2            -0.0626      0.013     -4.670      0.000      -0.089      -0.036\n",
       "X3             0.0361      0.004      9.386      0.000       0.029       0.044\n",
       "X4            -0.0494      0.008     -6.569      0.000      -0.064      -0.035\n",
       "X5             4.1700      0.338     12.338      0.000       3.506       4.833\n",
       "X6            -0.0233      0.095     -0.246      0.805      -0.209       0.163\n",
       "X7            19.9327      0.814     24.488      0.000      18.335      21.531\n",
       "X8             0.2038      0.070      2.915      0.004       0.067       0.341\n",
       "==============================================================================\n",
       "Omnibus:                       18.647   Durbin-Watson:                   0.654\n",
       "Prob(Omnibus):                  0.000   Jarque-Bera (JB):               37.707\n",
       "Skew:                           0.044   Prob(JB):                     6.49e-09\n",
       "Kurtosis:                       4.082   Cond. No.                     1.09e+16\n",
       "==============================================================================\n",
       "\n",
       "Notes:\n",
       "[1] Standard Errors assume that the covariance matrix of the errors is correctly specified.\n",
       "[2] The smallest eigenvalue is 3.81e-24. This might indicate that there are\n",
       "strong multicollinearity problems or that the design matrix is singular.\n",
       "\"\"\""
      ]
     },
     "execution_count": 85,
     "metadata": {},
     "output_type": "execute_result"
    }
   ],
   "source": [
    "model02.summary()"
   ]
  },
  {
   "cell_type": "raw",
   "metadata": {},
   "source": [
    "As we seen  p-value of X6 is greater than 0.05. \n",
    "We  also seen that there is no high corlation of X6, so we easily drop it. "
   ]
  },
  {
   "cell_type": "code",
   "execution_count": 86,
   "metadata": {},
   "outputs": [
    {
     "data": {
      "text/html": [
       "<table class=\"simpletable\">\n",
       "<caption>OLS Regression Results</caption>\n",
       "<tr>\n",
       "  <th>Dep. Variable:</th>           <td>Y1</td>        <th>  R-squared:         </th> <td>   0.916</td>\n",
       "</tr>\n",
       "<tr>\n",
       "  <th>Model:</th>                   <td>OLS</td>       <th>  Adj. R-squared:    </th> <td>   0.916</td>\n",
       "</tr>\n",
       "<tr>\n",
       "  <th>Method:</th>             <td>Least Squares</td>  <th>  F-statistic:       </th> <td>   1387.</td>\n",
       "</tr>\n",
       "<tr>\n",
       "  <th>Date:</th>             <td>Thu, 12 Aug 2021</td> <th>  Prob (F-statistic):</th>  <td>  0.00</td> \n",
       "</tr>\n",
       "<tr>\n",
       "  <th>Time:</th>                 <td>14:54:39</td>     <th>  Log-Likelihood:    </th> <td> -1912.5</td>\n",
       "</tr>\n",
       "<tr>\n",
       "  <th>No. Observations:</th>      <td>   768</td>      <th>  AIC:               </th> <td>   3839.</td>\n",
       "</tr>\n",
       "<tr>\n",
       "  <th>Df Residuals:</th>          <td>   761</td>      <th>  BIC:               </th> <td>   3871.</td>\n",
       "</tr>\n",
       "<tr>\n",
       "  <th>Df Model:</th>              <td>     6</td>      <th>                     </th>     <td> </td>   \n",
       "</tr>\n",
       "<tr>\n",
       "  <th>Covariance Type:</th>      <td>nonrobust</td>    <th>                     </th>     <td> </td>   \n",
       "</tr>\n",
       "</table>\n",
       "<table class=\"simpletable\">\n",
       "<tr>\n",
       "      <td></td>         <th>coef</th>     <th>std err</th>      <th>t</th>      <th>P>|t|</th>  <th>[0.025</th>    <th>0.975]</th>  \n",
       "</tr>\n",
       "<tr>\n",
       "  <th>Intercept</th> <td>   83.9318</td> <td>   19.019</td> <td>    4.413</td> <td> 0.000</td> <td>   46.596</td> <td>  121.268</td>\n",
       "</tr>\n",
       "<tr>\n",
       "  <th>X1</th>        <td>  -64.7734</td> <td>   10.283</td> <td>   -6.299</td> <td> 0.000</td> <td>  -84.960</td> <td>  -44.587</td>\n",
       "</tr>\n",
       "<tr>\n",
       "  <th>X2</th>        <td>   -0.0626</td> <td>    0.013</td> <td>   -4.673</td> <td> 0.000</td> <td>   -0.089</td> <td>   -0.036</td>\n",
       "</tr>\n",
       "<tr>\n",
       "  <th>X3</th>        <td>    0.0361</td> <td>    0.004</td> <td>    9.392</td> <td> 0.000</td> <td>    0.029</td> <td>    0.044</td>\n",
       "</tr>\n",
       "<tr>\n",
       "  <th>X4</th>        <td>   -0.0494</td> <td>    0.008</td> <td>   -6.573</td> <td> 0.000</td> <td>   -0.064</td> <td>   -0.035</td>\n",
       "</tr>\n",
       "<tr>\n",
       "  <th>X5</th>        <td>    4.1700</td> <td>    0.338</td> <td>   12.345</td> <td> 0.000</td> <td>    3.507</td> <td>    4.833</td>\n",
       "</tr>\n",
       "<tr>\n",
       "  <th>X7</th>        <td>   19.9327</td> <td>    0.813</td> <td>   24.503</td> <td> 0.000</td> <td>   18.336</td> <td>   21.530</td>\n",
       "</tr>\n",
       "<tr>\n",
       "  <th>X8</th>        <td>    0.2038</td> <td>    0.070</td> <td>    2.916</td> <td> 0.004</td> <td>    0.067</td> <td>    0.341</td>\n",
       "</tr>\n",
       "</table>\n",
       "<table class=\"simpletable\">\n",
       "<tr>\n",
       "  <th>Omnibus:</th>       <td>18.654</td> <th>  Durbin-Watson:     </th> <td>   0.654</td>\n",
       "</tr>\n",
       "<tr>\n",
       "  <th>Prob(Omnibus):</th> <td> 0.000</td> <th>  Jarque-Bera (JB):  </th> <td>  37.739</td>\n",
       "</tr>\n",
       "<tr>\n",
       "  <th>Skew:</th>          <td> 0.044</td> <th>  Prob(JB):          </th> <td>6.38e-09</td>\n",
       "</tr>\n",
       "<tr>\n",
       "  <th>Kurtosis:</th>      <td> 4.082</td> <th>  Cond. No.          </th> <td>1.09e+16</td>\n",
       "</tr>\n",
       "</table><br/><br/>Notes:<br/>[1] Standard Errors assume that the covariance matrix of the errors is correctly specified.<br/>[2] The smallest eigenvalue is 3.81e-24. This might indicate that there are<br/>strong multicollinearity problems or that the design matrix is singular."
      ],
      "text/plain": [
       "<class 'statsmodels.iolib.summary.Summary'>\n",
       "\"\"\"\n",
       "                            OLS Regression Results                            \n",
       "==============================================================================\n",
       "Dep. Variable:                     Y1   R-squared:                       0.916\n",
       "Model:                            OLS   Adj. R-squared:                  0.916\n",
       "Method:                 Least Squares   F-statistic:                     1387.\n",
       "Date:                Thu, 12 Aug 2021   Prob (F-statistic):               0.00\n",
       "Time:                        14:54:39   Log-Likelihood:                -1912.5\n",
       "No. Observations:                 768   AIC:                             3839.\n",
       "Df Residuals:                     761   BIC:                             3871.\n",
       "Df Model:                           6                                         \n",
       "Covariance Type:            nonrobust                                         \n",
       "==============================================================================\n",
       "                 coef    std err          t      P>|t|      [0.025      0.975]\n",
       "------------------------------------------------------------------------------\n",
       "Intercept     83.9318     19.019      4.413      0.000      46.596     121.268\n",
       "X1           -64.7734     10.283     -6.299      0.000     -84.960     -44.587\n",
       "X2            -0.0626      0.013     -4.673      0.000      -0.089      -0.036\n",
       "X3             0.0361      0.004      9.392      0.000       0.029       0.044\n",
       "X4            -0.0494      0.008     -6.573      0.000      -0.064      -0.035\n",
       "X5             4.1700      0.338     12.345      0.000       3.507       4.833\n",
       "X7            19.9327      0.813     24.503      0.000      18.336      21.530\n",
       "X8             0.2038      0.070      2.916      0.004       0.067       0.341\n",
       "==============================================================================\n",
       "Omnibus:                       18.654   Durbin-Watson:                   0.654\n",
       "Prob(Omnibus):                  0.000   Jarque-Bera (JB):               37.739\n",
       "Skew:                           0.044   Prob(JB):                     6.38e-09\n",
       "Kurtosis:                       4.082   Cond. No.                     1.09e+16\n",
       "==============================================================================\n",
       "\n",
       "Notes:\n",
       "[1] Standard Errors assume that the covariance matrix of the errors is correctly specified.\n",
       "[2] The smallest eigenvalue is 3.81e-24. This might indicate that there are\n",
       "strong multicollinearity problems or that the design matrix is singular.\n",
       "\"\"\""
      ]
     },
     "execution_count": 86,
     "metadata": {},
     "output_type": "execute_result"
    }
   ],
   "source": [
    "model03=smf.ols('Y1~X1+X2+X3+X4+X5+X7+X8',data=data).fit()  # fitting the model by droping X6\n",
    "model03.summary()"
   ]
  },
  {
   "cell_type": "raw",
   "metadata": {},
   "source": [
    "Here we get r-squared value 0.916 and model fit perfectly."
   ]
  },
  {
   "cell_type": "code",
   "execution_count": 87,
   "metadata": {},
   "outputs": [
    {
     "data": {
      "text/plain": [
       "0      22.612183\n",
       "1      22.612183\n",
       "2      22.612183\n",
       "3      22.612183\n",
       "4      25.006803\n",
       "         ...    \n",
       "763    18.487654\n",
       "764    19.134457\n",
       "765    19.134457\n",
       "766    19.134457\n",
       "767    19.134457\n",
       "Length: 768, dtype: float64"
      ]
     },
     "execution_count": 87,
     "metadata": {},
     "output_type": "execute_result"
    }
   ],
   "source": [
    "pred03=model03.predict(data)  #predicting \n",
    "pred03"
   ]
  },
  {
   "cell_type": "code",
   "execution_count": 88,
   "metadata": {},
   "outputs": [
    {
     "data": {
      "image/png": "[encoded data removed]",
      "text/plain": [
       "<Figure size 432x288 with 8 Axes>"
      ]
     },
     "execution_count": 88,
     "metadata": {},
     "output_type": "execute_result"
    },
    {
     "data": {
      "image/png": "[encoded data removed]",
      "text/plain": [
       "<Figure size 432x288 with 8 Axes>"
      ]
     },
     "metadata": {
      "needs_background": "light"
     },
     "output_type": "display_data"
    }
   ],
   "source": [
    "# added variable plot for the  model03\n",
    "sm.graphics.plot_partregress_grid(model03)"
   ]
  },
  {
   "cell_type": "code",
   "execution_count": 89,
   "metadata": {},
   "outputs": [
    {
     "data": {
      "text/plain": [
       "Text(0, 0.5, 'predicted_values')"
      ]
     },
     "execution_count": 89,
     "metadata": {},
     "output_type": "execute_result"
    },
    {
     "data": {
      "image/png": "[encoded data removed]",
      "text/plain": [
       "<Figure size 432x288 with 1 Axes>"
      ]
     },
     "metadata": {
      "needs_background": "light"
     },
     "output_type": "display_data"
    }
   ],
   "source": [
    "# Observed values VS Predicted values\n",
    "plt.scatter(data.Y1,pred03,c=\"r\");plt.xlabel(\"observed_values\");plt.ylabel(\"predicted_values\")"
   ]
  },
  {
   "cell_type": "code",
   "execution_count": 90,
   "metadata": {},
   "outputs": [],
   "source": [
    "m,b=np.polyfit(data.Y1,pred03,1)"
   ]
  },
  {
   "cell_type": "code",
   "execution_count": 91,
   "metadata": {},
   "outputs": [
    {
     "data": {
      "text/plain": [
       "[<matplotlib.lines.Line2D at 0x236e62ba248>]"
      ]
     },
     "execution_count": 91,
     "metadata": {},
     "output_type": "execute_result"
    },
    {
     "data": {
      "image/png": "[encoded data removed]",
      "text/plain": [
       "<Figure size 432x288 with 1 Axes>"
      ]
     },
     "metadata": {
      "needs_background": "light"
     },
     "output_type": "display_data"
    }
   ],
   "source": [
    "plt.scatter(data.Y1,pred03,c=\"r\");plt.xlabel(\"observed_values\");plt.ylabel(\"predicted_values\");plt.plot(data.Y1,m*data.Y1+b)"
   ]
  },
  {
   "cell_type": "code",
   "execution_count": 92,
   "metadata": {},
   "outputs": [
    {
     "data": {
      "text/plain": [
       "Text(0, 0.5, 'residuals')"
      ]
     },
     "execution_count": 92,
     "metadata": {},
     "output_type": "execute_result"
    },
    {
     "data": {
      "image/png": "[encoded data removed]",
      "text/plain": [
       "<Figure size 432x288 with 1 Axes>"
      ]
     },
     "metadata": {
      "needs_background": "light"
     },
     "output_type": "display_data"
    }
   ],
   "source": [
    "#residual value vs predicted values\n",
    "plt.scatter(pred03,model03.resid_pearson,c=\"r\"),plt.axhline(y=0,color='blue');plt.xlabel(\"predicted_values\");plt.ylabel(\"residuals\")"
   ]
  },
  {
   "cell_type": "code",
   "execution_count": 93,
   "metadata": {},
   "outputs": [
    {
     "data": {
      "text/plain": [
       "(array([  4.,  14.,  43.,  27., 134., 271., 167.,  48.,  17.,  43.]),\n",
       " array([-3.38669225, -2.78487227, -2.1830523 , -1.58123232, -0.97941235,\n",
       "        -0.37759237,  0.2242276 ,  0.82604758,  1.42786755,  2.02968753,\n",
       "         2.6315075 ]),\n",
       " <BarContainer object of 10 artists>)"
      ]
     },
     "execution_count": 93,
     "metadata": {},
     "output_type": "execute_result"
    },
    {
     "data": {
      "image/png": "[encoded data removed]",
      "text/plain": [
       "<Figure size 432x288 with 1 Axes>"
      ]
     },
     "metadata": {
      "needs_background": "light"
     },
     "output_type": "display_data"
    }
   ],
   "source": [
    "########    Normality plot for residuals ######\n",
    "# histogram\n",
    "plt.hist(model03.resid_pearson) # Checking the standardized residuals are normally distributed"
   ]
  },
  {
   "cell_type": "code",
   "execution_count": 94,
   "metadata": {},
   "outputs": [
    {
     "data": {
      "text/plain": [
       "((537, 11), '  ', (231, 11))"
      ]
     },
     "execution_count": 94,
     "metadata": {},
     "output_type": "execute_result"
    }
   ],
   "source": [
    "# Splitting the data into train and test data \n",
    "\n",
    "data_train,data_test  = train_test_split(data,test_size = 0.3,random_state=22) # 30% size\n",
    "\n",
    "data_train.shape,'  ',data_test.shape"
   ]
  },
  {
   "cell_type": "code",
   "execution_count": 95,
   "metadata": {},
   "outputs": [],
   "source": [
    "# preparing the model on train data \n",
    "\n",
    "model_train = smf.ols(\"Y1~X1+X2+X3+X4+X5+X7+X8\",data=data_train).fit()\n",
    "\n",
    "# train_data prediction\n",
    "train_pred = model_train.predict(data_train)"
   ]
  },
  {
   "cell_type": "code",
   "execution_count": 96,
   "metadata": {},
   "outputs": [],
   "source": [
    "# train residual values \n",
    "train_resid  = train_pred - data_train.Y1"
   ]
  },
  {
   "cell_type": "code",
   "execution_count": 97,
   "metadata": {},
   "outputs": [
    {
     "data": {
      "text/plain": [
       "2.914656888178613"
      ]
     },
     "execution_count": 97,
     "metadata": {},
     "output_type": "execute_result"
    }
   ],
   "source": [
    "# RMSE value for train data \n",
    "train_rmse = np.sqrt(np.mean(train_resid*train_resid))\n",
    "train_rmse"
   ]
  },
  {
   "cell_type": "code",
   "execution_count": 98,
   "metadata": {},
   "outputs": [
    {
     "data": {
      "text/plain": [
       "2.9126621739432546"
      ]
     },
     "execution_count": 98,
     "metadata": {},
     "output_type": "execute_result"
    }
   ],
   "source": [
    "# preparing the model on testing data \n",
    "\n",
    "model_test = smf.ols(\"Y1~X1+X2+X3+X4+X5+X7+X8\",data=data_test).fit()\n",
    "\n",
    "# test_data prediction\n",
    "test_pred = model_test.predict(data_test)\n",
    "# test residual values \n",
    "test_resid  = test_pred - data_test.Y1\n",
    "# RMSE value for test data \n",
    "test_rmse = np.sqrt(np.mean(test_resid*test_resid))\n",
    "test_rmse\n"
   ]
  },
  {
   "cell_type": "code",
   "execution_count": 99,
   "metadata": {},
   "outputs": [
    {
     "data": {
      "text/plain": [
       "2.9191119812454103"
      ]
     },
     "execution_count": 99,
     "metadata": {},
     "output_type": "execute_result"
    }
   ],
   "source": [
    "data_resid=pred03-data.Y1\n",
    "rmse_LR=np.sqrt(np.mean(data_resid*data_resid))\n",
    "rmse_LR  #RMSE for data"
   ]
  },
  {
   "cell_type": "code",
   "execution_count": 100,
   "metadata": {},
   "outputs": [
    {
     "data": {
      "text/plain": [
       "0.9161954736036447"
      ]
     },
     "execution_count": 100,
     "metadata": {},
     "output_type": "execute_result"
    }
   ],
   "source": [
    "R2_LR = np.mean(r2_score(Y, pred03))\n",
    "R2_LR"
   ]
  },
  {
   "cell_type": "markdown",
   "metadata": {},
   "source": [
    "# Decision Tree"
   ]
  },
  {
   "cell_type": "code",
   "execution_count": 101,
   "metadata": {},
   "outputs": [
    {
     "data": {
      "text/plain": [
       "0.9963290097667226"
      ]
     },
     "execution_count": 101,
     "metadata": {},
     "output_type": "execute_result"
    }
   ],
   "source": [
    "#Import decision tree regressor\n",
    "from sklearn.tree import DecisionTreeRegressor\n",
    "dt_model = DecisionTreeRegressor(random_state=123)\n",
    "dt_model.fit(X_train, y_train)\n",
    "y_pred1 = dt_model.predict(X_test)\n",
    "R2_dt = np.mean(r2_score(y_test, y_pred1))\n",
    "R2_dt"
   ]
  },
  {
   "cell_type": "code",
   "execution_count": 102,
   "metadata": {},
   "outputs": [
    {
     "data": {
      "text/plain": [
       "0.6120109355897045"
      ]
     },
     "execution_count": 102,
     "metadata": {},
     "output_type": "execute_result"
    }
   ],
   "source": [
    "from sklearn.metrics import mean_squared_error\n",
    "from math import sqrt\n",
    "\n",
    "rmse_dt = sqrt(mean_squared_error(y_test, y_pred1))\n",
    "\n",
    "rmse_dt"
   ]
  },
  {
   "cell_type": "markdown",
   "metadata": {},
   "source": [
    "# Random Forest"
   ]
  },
  {
   "cell_type": "code",
   "execution_count": 103,
   "metadata": {},
   "outputs": [
    {
     "data": {
      "text/plain": [
       "0.9971364766435782"
      ]
     },
     "execution_count": 103,
     "metadata": {},
     "output_type": "execute_result"
    }
   ],
   "source": [
    "from sklearn.ensemble import RandomForestRegressor\n",
    "rf_model = RandomForestRegressor(random_state=123)\n",
    "rf_model.fit(X_train, y_train)\n",
    "y_pred3 = rf_model.predict(X_test)\n",
    "R2_rf = np.mean(r2_score(y_test, y_pred3))\n",
    "R2_rf"
   ]
  },
  {
   "cell_type": "code",
   "execution_count": 104,
   "metadata": {},
   "outputs": [
    {
     "data": {
      "text/plain": [
       "0.5405276724658071"
      ]
     },
     "execution_count": 104,
     "metadata": {},
     "output_type": "execute_result"
    }
   ],
   "source": [
    "rmse_rf = sqrt(mean_squared_error(y_test, y_pred3))\n",
    "\n",
    "rmse_rf"
   ]
  },
  {
   "cell_type": "markdown",
   "metadata": {},
   "source": [
    "# Extra tree"
   ]
  },
  {
   "cell_type": "code",
   "execution_count": 105,
   "metadata": {},
   "outputs": [
    {
     "data": {
      "text/plain": [
       "0.9971596975938257"
      ]
     },
     "execution_count": 105,
     "metadata": {},
     "output_type": "execute_result"
    }
   ],
   "source": [
    "from sklearn.ensemble import ExtraTreesRegressor\n",
    "et_model = ExtraTreesRegressor(random_state=123)\n",
    "et_model.fit(X_train, y_train)\n",
    "y_pred2 = et_model.predict(X_test)\n",
    "R2_et = np.mean(r2_score(y_test, y_pred2))\n",
    "R2_et"
   ]
  },
  {
   "cell_type": "code",
   "execution_count": 106,
   "metadata": {},
   "outputs": [
    {
     "data": {
      "text/plain": [
       "0.5383315814641906"
      ]
     },
     "execution_count": 106,
     "metadata": {},
     "output_type": "execute_result"
    }
   ],
   "source": [
    "rmse_et = sqrt(mean_squared_error(y_test, y_pred2))\n",
    "\n",
    "rmse_et"
   ]
  },
  {
   "cell_type": "markdown",
   "metadata": {},
   "source": [
    "# Gradient Boosting"
   ]
  },
  {
   "cell_type": "code",
   "execution_count": 107,
   "metadata": {},
   "outputs": [
    {
     "data": {
      "text/plain": [
       "0.9971947679940186"
      ]
     },
     "execution_count": 107,
     "metadata": {},
     "output_type": "execute_result"
    }
   ],
   "source": [
    "from sklearn.ensemble import GradientBoostingRegressor\n",
    "GB_model= GradientBoostingRegressor()\n",
    "GB_model.fit(X_train, y_train)\n",
    "GB_model.score(X_test,y_test)"
   ]
  },
  {
   "cell_type": "code",
   "execution_count": 108,
   "metadata": {},
   "outputs": [
    {
     "data": {
      "text/plain": [
       "0.9971947679940186"
      ]
     },
     "execution_count": 108,
     "metadata": {},
     "output_type": "execute_result"
    }
   ],
   "source": [
    "y_pred4 = GB_model.predict(X_test)\n",
    "R2_GB = np.mean(r2_score(y_test, y_pred4))\n",
    "R2_GB"
   ]
  },
  {
   "cell_type": "code",
   "execution_count": 109,
   "metadata": {},
   "outputs": [
    {
     "data": {
      "text/plain": [
       "0.5349977560180595"
      ]
     },
     "execution_count": 109,
     "metadata": {},
     "output_type": "execute_result"
    }
   ],
   "source": [
    "rmse_GB = sqrt(mean_squared_error(y_test, y_pred4))\n",
    "\n",
    "rmse_GB"
   ]
  },
  {
   "cell_type": "markdown",
   "metadata": {},
   "source": [
    "# XG Boosting"
   ]
  },
  {
   "cell_type": "code",
   "execution_count": 110,
   "metadata": {},
   "outputs": [
    {
     "data": {
      "text/plain": [
       "0.998557897608579"
      ]
     },
     "execution_count": 110,
     "metadata": {},
     "output_type": "execute_result"
    }
   ],
   "source": [
    "import xgboost as xgb\n",
    "model=xgb.XGBRegressor()\n",
    "model.fit(X_train, y_train)\n",
    "model.score(X_test,y_test)\n"
   ]
  },
  {
   "cell_type": "code",
   "execution_count": 111,
   "metadata": {},
   "outputs": [
    {
     "data": {
      "text/plain": [
       "0.9971596975938257"
      ]
     },
     "execution_count": 111,
     "metadata": {},
     "output_type": "execute_result"
    }
   ],
   "source": [
    "y_pred5 = et_model.predict(X_test)\n",
    "R2_XGB = np.mean(r2_score(y_test, y_pred5))\n",
    "R2_XGB"
   ]
  },
  {
   "cell_type": "code",
   "execution_count": 112,
   "metadata": {},
   "outputs": [
    {
     "data": {
      "text/plain": [
       "0.5383315814641906"
      ]
     },
     "execution_count": 112,
     "metadata": {},
     "output_type": "execute_result"
    }
   ],
   "source": [
    "rmse_XGB = sqrt(mean_squared_error(y_test, y_pred5))\n",
    "\n",
    "rmse_XGB"
   ]
  },
  {
   "cell_type": "markdown",
   "metadata": {},
   "source": [
    "# Support Vector Regressor"
   ]
  },
  {
   "cell_type": "code",
   "execution_count": 113,
   "metadata": {},
   "outputs": [
    {
     "data": {
      "text/plain": [
       "0.7094799336186826"
      ]
     },
     "execution_count": 113,
     "metadata": {},
     "output_type": "execute_result"
    }
   ],
   "source": [
    "from sklearn.svm import SVR\n",
    "model_svr=SVR().fit(X_train,y_train)\n",
    "model_svr.score(X_test,y_test)"
   ]
  },
  {
   "cell_type": "code",
   "execution_count": 114,
   "metadata": {},
   "outputs": [
    {
     "data": {
      "text/plain": [
       "0.7094799336186826"
      ]
     },
     "execution_count": 114,
     "metadata": {},
     "output_type": "execute_result"
    }
   ],
   "source": [
    "y_pred7 = model_svr.predict(X_test)\n",
    "R2_svr = np.mean(r2_score(y_test, y_pred7))\n",
    "R2_svr"
   ]
  },
  {
   "cell_type": "code",
   "execution_count": 115,
   "metadata": {},
   "outputs": [
    {
     "data": {
      "text/plain": [
       "5.444470326412361"
      ]
     },
     "execution_count": 115,
     "metadata": {},
     "output_type": "execute_result"
    }
   ],
   "source": [
    "rmse_svr = sqrt(mean_squared_error(y_test, y_pred7))\n",
    "\n",
    "rmse_svr"
   ]
  },
  {
   "cell_type": "code",
   "execution_count": 116,
   "metadata": {},
   "outputs": [],
   "source": [
    "models_2= pd.DataFrame({ \n",
    "\"Model\" : [\"Linear Regression\",\"Decision Tree\",\"Extra Tree\",\"Random Forest\",\"Gradient Boosting\",\"XG Boosting\"],\n",
    "\"R2 Score\" : [R2_LR,R2_dt,R2_et,R2_rf,R2_GB,R2_XGB],\n",
    "\"RMSE Value\" : [rmse_LR,rmse_dt,rmse_et,rmse_rf,rmse_GB,R2_XGB]\n",
    "\n",
    "})"
   ]
  },
  {
   "cell_type": "code",
   "execution_count": 117,
   "metadata": {},
   "outputs": [
    {
     "data": {
      "text/html": [
       "<div>\n",
       "<style scoped>\n",
       "    .dataframe tbody tr th:only-of-type {\n",
       "        vertical-align: middle;\n",
       "    }\n",
       "\n",
       "    .dataframe tbody tr th {\n",
       "        vertical-align: top;\n",
       "    }\n",
       "\n",
       "    .dataframe thead th {\n",
       "        text-align: right;\n",
       "    }\n",
       "</style>\n",
       "<table border=\"1\" class=\"dataframe\">\n",
       "  <thead>\n",
       "    <tr style=\"text-align: right;\">\n",
       "      <th></th>\n",
       "      <th>Model</th>\n",
       "      <th>R2 Score</th>\n",
       "      <th>RMSE Value</th>\n",
       "    </tr>\n",
       "  </thead>\n",
       "  <tbody>\n",
       "    <tr>\n",
       "      <th>0</th>\n",
       "      <td>Linear Regression</td>\n",
       "      <td>0.916195</td>\n",
       "      <td>2.919112</td>\n",
       "    </tr>\n",
       "    <tr>\n",
       "      <th>1</th>\n",
       "      <td>Decision Tree</td>\n",
       "      <td>0.996329</td>\n",
       "      <td>0.612011</td>\n",
       "    </tr>\n",
       "    <tr>\n",
       "      <th>2</th>\n",
       "      <td>Extra Tree</td>\n",
       "      <td>0.997160</td>\n",
       "      <td>0.538332</td>\n",
       "    </tr>\n",
       "    <tr>\n",
       "      <th>3</th>\n",
       "      <td>Random Forest</td>\n",
       "      <td>0.997136</td>\n",
       "      <td>0.540528</td>\n",
       "    </tr>\n",
       "    <tr>\n",
       "      <th>4</th>\n",
       "      <td>Gradient Boosting</td>\n",
       "      <td>0.997195</td>\n",
       "      <td>0.534998</td>\n",
       "    </tr>\n",
       "    <tr>\n",
       "      <th>5</th>\n",
       "      <td>XG Boosting</td>\n",
       "      <td>0.997160</td>\n",
       "      <td>0.997160</td>\n",
       "    </tr>\n",
       "  </tbody>\n",
       "</table>\n",
       "</div>"
      ],
      "text/plain": [
       "               Model  R2 Score  RMSE Value\n",
       "0  Linear Regression  0.916195    2.919112\n",
       "1      Decision Tree  0.996329    0.612011\n",
       "2         Extra Tree  0.997160    0.538332\n",
       "3      Random Forest  0.997136    0.540528\n",
       "4  Gradient Boosting  0.997195    0.534998\n",
       "5        XG Boosting  0.997160    0.997160"
      ]
     },
     "execution_count": 117,
     "metadata": {},
     "output_type": "execute_result"
    }
   ],
   "source": [
    "models_2"
   ]
  },
  {
   "cell_type": "code",
   "execution_count": 118,
   "metadata": {},
   "outputs": [
    {
     "data": {
      "text/html": [
       "<div>\n",
       "<style scoped>\n",
       "    .dataframe tbody tr th:only-of-type {\n",
       "        vertical-align: middle;\n",
       "    }\n",
       "\n",
       "    .dataframe tbody tr th {\n",
       "        vertical-align: top;\n",
       "    }\n",
       "\n",
       "    .dataframe thead th {\n",
       "        text-align: right;\n",
       "    }\n",
       "</style>\n",
       "<table border=\"1\" class=\"dataframe\">\n",
       "  <thead>\n",
       "    <tr style=\"text-align: right;\">\n",
       "      <th></th>\n",
       "      <th>Model</th>\n",
       "      <th>R2 Score</th>\n",
       "      <th>RMSE Value</th>\n",
       "    </tr>\n",
       "  </thead>\n",
       "  <tbody>\n",
       "    <tr>\n",
       "      <th>0</th>\n",
       "      <td>Linear Regression</td>\n",
       "      <td>0.916195</td>\n",
       "      <td>2.919112</td>\n",
       "    </tr>\n",
       "    <tr>\n",
       "      <th>1</th>\n",
       "      <td>Decision Tree</td>\n",
       "      <td>0.996329</td>\n",
       "      <td>0.612011</td>\n",
       "    </tr>\n",
       "    <tr>\n",
       "      <th>3</th>\n",
       "      <td>Random Forest</td>\n",
       "      <td>0.997136</td>\n",
       "      <td>0.540528</td>\n",
       "    </tr>\n",
       "    <tr>\n",
       "      <th>2</th>\n",
       "      <td>Extra Tree</td>\n",
       "      <td>0.997160</td>\n",
       "      <td>0.538332</td>\n",
       "    </tr>\n",
       "    <tr>\n",
       "      <th>5</th>\n",
       "      <td>XG Boosting</td>\n",
       "      <td>0.997160</td>\n",
       "      <td>0.997160</td>\n",
       "    </tr>\n",
       "    <tr>\n",
       "      <th>4</th>\n",
       "      <td>Gradient Boosting</td>\n",
       "      <td>0.997195</td>\n",
       "      <td>0.534998</td>\n",
       "    </tr>\n",
       "  </tbody>\n",
       "</table>\n",
       "</div>"
      ],
      "text/plain": [
       "               Model  R2 Score  RMSE Value\n",
       "0  Linear Regression  0.916195    2.919112\n",
       "1      Decision Tree  0.996329    0.612011\n",
       "3      Random Forest  0.997136    0.540528\n",
       "2         Extra Tree  0.997160    0.538332\n",
       "5        XG Boosting  0.997160    0.997160\n",
       "4  Gradient Boosting  0.997195    0.534998"
      ]
     },
     "execution_count": 118,
     "metadata": {},
     "output_type": "execute_result"
    }
   ],
   "source": [
    "models_2.sort_values(by=\"R2 Score\")"
   ]
  },
  {
   "cell_type": "code",
   "execution_count": 119,
   "metadata": {},
   "outputs": [
    {
     "data": {
      "text/html": [
       "<div>\n",
       "<style scoped>\n",
       "    .dataframe tbody tr th:only-of-type {\n",
       "        vertical-align: middle;\n",
       "    }\n",
       "\n",
       "    .dataframe tbody tr th {\n",
       "        vertical-align: top;\n",
       "    }\n",
       "\n",
       "    .dataframe thead th {\n",
       "        text-align: right;\n",
       "    }\n",
       "</style>\n",
       "<table border=\"1\" class=\"dataframe\">\n",
       "  <thead>\n",
       "    <tr style=\"text-align: right;\">\n",
       "      <th></th>\n",
       "      <th>Model</th>\n",
       "      <th>R2 Score</th>\n",
       "      <th>RMSE Value</th>\n",
       "    </tr>\n",
       "  </thead>\n",
       "  <tbody>\n",
       "    <tr>\n",
       "      <th>4</th>\n",
       "      <td>Gradient Boosting</td>\n",
       "      <td>0.997195</td>\n",
       "      <td>0.534998</td>\n",
       "    </tr>\n",
       "    <tr>\n",
       "      <th>2</th>\n",
       "      <td>Extra Tree</td>\n",
       "      <td>0.997160</td>\n",
       "      <td>0.538332</td>\n",
       "    </tr>\n",
       "    <tr>\n",
       "      <th>3</th>\n",
       "      <td>Random Forest</td>\n",
       "      <td>0.997136</td>\n",
       "      <td>0.540528</td>\n",
       "    </tr>\n",
       "    <tr>\n",
       "      <th>1</th>\n",
       "      <td>Decision Tree</td>\n",
       "      <td>0.996329</td>\n",
       "      <td>0.612011</td>\n",
       "    </tr>\n",
       "    <tr>\n",
       "      <th>5</th>\n",
       "      <td>XG Boosting</td>\n",
       "      <td>0.997160</td>\n",
       "      <td>0.997160</td>\n",
       "    </tr>\n",
       "    <tr>\n",
       "      <th>0</th>\n",
       "      <td>Linear Regression</td>\n",
       "      <td>0.916195</td>\n",
       "      <td>2.919112</td>\n",
       "    </tr>\n",
       "  </tbody>\n",
       "</table>\n",
       "</div>"
      ],
      "text/plain": [
       "               Model  R2 Score  RMSE Value\n",
       "4  Gradient Boosting  0.997195    0.534998\n",
       "2         Extra Tree  0.997160    0.538332\n",
       "3      Random Forest  0.997136    0.540528\n",
       "1      Decision Tree  0.996329    0.612011\n",
       "5        XG Boosting  0.997160    0.997160\n",
       "0  Linear Regression  0.916195    2.919112"
      ]
     },
     "execution_count": 119,
     "metadata": {},
     "output_type": "execute_result"
    }
   ],
   "source": [
    "models_2.sort_values(by=\"RMSE Value\")"
   ]
  },
  {
   "cell_type": "raw",
   "metadata": {},
   "source": [
    "For Heating load , we get Random forest as a best model as its r-square value is 99% and small root mean square error. "
   ]
  },
  {
   "cell_type": "markdown",
   "metadata": {},
   "source": [
    "# Regression using Sklearn"
   ]
  },
  {
   "cell_type": "markdown",
   "metadata": {},
   "source": [
    "We are now try to perform regression of this two dependent attribute i.e cooling load and heating load in one model"
   ]
  },
  {
   "cell_type": "raw",
   "metadata": {},
   "source": [
    "Here we are going to desplay an another method of regression i.e by using Sklearn. "
   ]
  },
  {
   "cell_type": "code",
   "execution_count": 120,
   "metadata": {},
   "outputs": [],
   "source": [
    "data1=pd.read_excel(\"ENB2012_data.xlsx\")"
   ]
  },
  {
   "cell_type": "code",
   "execution_count": 121,
   "metadata": {},
   "outputs": [
    {
     "data": {
      "text/html": [
       "<div>\n",
       "<style scoped>\n",
       "    .dataframe tbody tr th:only-of-type {\n",
       "        vertical-align: middle;\n",
       "    }\n",
       "\n",
       "    .dataframe tbody tr th {\n",
       "        vertical-align: top;\n",
       "    }\n",
       "\n",
       "    .dataframe thead th {\n",
       "        text-align: right;\n",
       "    }\n",
       "</style>\n",
       "<table border=\"1\" class=\"dataframe\">\n",
       "  <thead>\n",
       "    <tr style=\"text-align: right;\">\n",
       "      <th></th>\n",
       "      <th>X1</th>\n",
       "      <th>X2</th>\n",
       "      <th>X3</th>\n",
       "      <th>X4</th>\n",
       "      <th>X5</th>\n",
       "      <th>X6</th>\n",
       "      <th>X7</th>\n",
       "      <th>X8</th>\n",
       "      <th>Y1</th>\n",
       "      <th>Y2</th>\n",
       "      <th>Unnamed: 10</th>\n",
       "      <th>Unnamed: 11</th>\n",
       "    </tr>\n",
       "  </thead>\n",
       "  <tbody>\n",
       "    <tr>\n",
       "      <th>0</th>\n",
       "      <td>0.98</td>\n",
       "      <td>514.5</td>\n",
       "      <td>294.0</td>\n",
       "      <td>110.25</td>\n",
       "      <td>7.0</td>\n",
       "      <td>2</td>\n",
       "      <td>0.0</td>\n",
       "      <td>0</td>\n",
       "      <td>15.55</td>\n",
       "      <td>21.33</td>\n",
       "      <td>NaN</td>\n",
       "      <td>NaN</td>\n",
       "    </tr>\n",
       "    <tr>\n",
       "      <th>1</th>\n",
       "      <td>0.98</td>\n",
       "      <td>514.5</td>\n",
       "      <td>294.0</td>\n",
       "      <td>110.25</td>\n",
       "      <td>7.0</td>\n",
       "      <td>3</td>\n",
       "      <td>0.0</td>\n",
       "      <td>0</td>\n",
       "      <td>15.55</td>\n",
       "      <td>21.33</td>\n",
       "      <td>NaN</td>\n",
       "      <td>NaN</td>\n",
       "    </tr>\n",
       "    <tr>\n",
       "      <th>2</th>\n",
       "      <td>0.98</td>\n",
       "      <td>514.5</td>\n",
       "      <td>294.0</td>\n",
       "      <td>110.25</td>\n",
       "      <td>7.0</td>\n",
       "      <td>4</td>\n",
       "      <td>0.0</td>\n",
       "      <td>0</td>\n",
       "      <td>15.55</td>\n",
       "      <td>21.33</td>\n",
       "      <td>NaN</td>\n",
       "      <td>NaN</td>\n",
       "    </tr>\n",
       "    <tr>\n",
       "      <th>3</th>\n",
       "      <td>0.98</td>\n",
       "      <td>514.5</td>\n",
       "      <td>294.0</td>\n",
       "      <td>110.25</td>\n",
       "      <td>7.0</td>\n",
       "      <td>5</td>\n",
       "      <td>0.0</td>\n",
       "      <td>0</td>\n",
       "      <td>15.55</td>\n",
       "      <td>21.33</td>\n",
       "      <td>NaN</td>\n",
       "      <td>NaN</td>\n",
       "    </tr>\n",
       "    <tr>\n",
       "      <th>4</th>\n",
       "      <td>0.90</td>\n",
       "      <td>563.5</td>\n",
       "      <td>318.5</td>\n",
       "      <td>122.50</td>\n",
       "      <td>7.0</td>\n",
       "      <td>2</td>\n",
       "      <td>0.0</td>\n",
       "      <td>0</td>\n",
       "      <td>20.84</td>\n",
       "      <td>28.28</td>\n",
       "      <td>NaN</td>\n",
       "      <td>NaN</td>\n",
       "    </tr>\n",
       "  </tbody>\n",
       "</table>\n",
       "</div>"
      ],
      "text/plain": [
       "     X1     X2     X3      X4   X5  X6   X7  X8     Y1     Y2  Unnamed: 10  \\\n",
       "0  0.98  514.5  294.0  110.25  7.0   2  0.0   0  15.55  21.33          NaN   \n",
       "1  0.98  514.5  294.0  110.25  7.0   3  0.0   0  15.55  21.33          NaN   \n",
       "2  0.98  514.5  294.0  110.25  7.0   4  0.0   0  15.55  21.33          NaN   \n",
       "3  0.98  514.5  294.0  110.25  7.0   5  0.0   0  15.55  21.33          NaN   \n",
       "4  0.90  563.5  318.5  122.50  7.0   2  0.0   0  20.84  28.28          NaN   \n",
       "\n",
       "   Unnamed: 11  \n",
       "0          NaN  \n",
       "1          NaN  \n",
       "2          NaN  \n",
       "3          NaN  \n",
       "4          NaN  "
      ]
     },
     "execution_count": 121,
     "metadata": {},
     "output_type": "execute_result"
    }
   ],
   "source": [
    "data1.head()"
   ]
  },
  {
   "cell_type": "code",
   "execution_count": 124,
   "metadata": {},
   "outputs": [],
   "source": [
    "data1=data1.drop(['Unnamed: 10','Unnamed: 11'], axis=1)"
   ]
  },
  {
   "cell_type": "code",
   "execution_count": 125,
   "metadata": {},
   "outputs": [
    {
     "data": {
      "text/plain": [
       "((768, 8), ' ', (768, 2))"
      ]
     },
     "execution_count": 125,
     "metadata": {},
     "output_type": "execute_result"
    }
   ],
   "source": [
    "X=data1[data1.columns[:8]] \n",
    "Y=data1[data1.columns[8:]]  # Here we placed two attributes\n",
    "X.shape,\" \",Y.shape"
   ]
  },
  {
   "cell_type": "code",
   "execution_count": 126,
   "metadata": {},
   "outputs": [
    {
     "data": {
      "text/plain": [
       "LinearRegression()"
      ]
     },
     "execution_count": 126,
     "metadata": {},
     "output_type": "execute_result"
    }
   ],
   "source": [
    "from sklearn.linear_model import LinearRegression  # fitting model\n",
    "model01=LinearRegression().fit(X,Y)\n",
    "model01"
   ]
  },
  {
   "cell_type": "code",
   "execution_count": 127,
   "metadata": {},
   "outputs": [
    {
     "data": {
      "text/plain": [
       "array([[22.64757481, 25.83896961],\n",
       "       [22.62424045, 25.96045437],\n",
       "       [22.60090609, 26.08193912],\n",
       "       ...,\n",
       "       [19.14574378, 19.87803268],\n",
       "       [19.12240942, 19.99951743],\n",
       "       [19.09907505, 20.12100219]])"
      ]
     },
     "execution_count": 127,
     "metadata": {},
     "output_type": "execute_result"
    }
   ],
   "source": [
    "pred01=model01.predict(X)   # predicting\n",
    "pred01"
   ]
  },
  {
   "cell_type": "code",
   "execution_count": 128,
   "metadata": {},
   "outputs": [
    {
     "data": {
      "text/html": [
       "<div>\n",
       "<style scoped>\n",
       "    .dataframe tbody tr th:only-of-type {\n",
       "        vertical-align: middle;\n",
       "    }\n",
       "\n",
       "    .dataframe tbody tr th {\n",
       "        vertical-align: top;\n",
       "    }\n",
       "\n",
       "    .dataframe thead th {\n",
       "        text-align: right;\n",
       "    }\n",
       "</style>\n",
       "<table border=\"1\" class=\"dataframe\">\n",
       "  <thead>\n",
       "    <tr style=\"text-align: right;\">\n",
       "      <th></th>\n",
       "      <th>Y1</th>\n",
       "      <th>Y2</th>\n",
       "    </tr>\n",
       "  </thead>\n",
       "  <tbody>\n",
       "    <tr>\n",
       "      <th>0</th>\n",
       "      <td>15.55</td>\n",
       "      <td>21.33</td>\n",
       "    </tr>\n",
       "    <tr>\n",
       "      <th>1</th>\n",
       "      <td>15.55</td>\n",
       "      <td>21.33</td>\n",
       "    </tr>\n",
       "    <tr>\n",
       "      <th>2</th>\n",
       "      <td>15.55</td>\n",
       "      <td>21.33</td>\n",
       "    </tr>\n",
       "    <tr>\n",
       "      <th>3</th>\n",
       "      <td>15.55</td>\n",
       "      <td>21.33</td>\n",
       "    </tr>\n",
       "    <tr>\n",
       "      <th>4</th>\n",
       "      <td>20.84</td>\n",
       "      <td>28.28</td>\n",
       "    </tr>\n",
       "    <tr>\n",
       "      <th>...</th>\n",
       "      <td>...</td>\n",
       "      <td>...</td>\n",
       "    </tr>\n",
       "    <tr>\n",
       "      <th>763</th>\n",
       "      <td>17.88</td>\n",
       "      <td>21.40</td>\n",
       "    </tr>\n",
       "    <tr>\n",
       "      <th>764</th>\n",
       "      <td>16.54</td>\n",
       "      <td>16.88</td>\n",
       "    </tr>\n",
       "    <tr>\n",
       "      <th>765</th>\n",
       "      <td>16.44</td>\n",
       "      <td>17.11</td>\n",
       "    </tr>\n",
       "    <tr>\n",
       "      <th>766</th>\n",
       "      <td>16.48</td>\n",
       "      <td>16.61</td>\n",
       "    </tr>\n",
       "    <tr>\n",
       "      <th>767</th>\n",
       "      <td>16.64</td>\n",
       "      <td>16.03</td>\n",
       "    </tr>\n",
       "  </tbody>\n",
       "</table>\n",
       "<p>768 rows × 2 columns</p>\n",
       "</div>"
      ],
      "text/plain": [
       "        Y1     Y2\n",
       "0    15.55  21.33\n",
       "1    15.55  21.33\n",
       "2    15.55  21.33\n",
       "3    15.55  21.33\n",
       "4    20.84  28.28\n",
       "..     ...    ...\n",
       "763  17.88  21.40\n",
       "764  16.54  16.88\n",
       "765  16.44  17.11\n",
       "766  16.48  16.61\n",
       "767  16.64  16.03\n",
       "\n",
       "[768 rows x 2 columns]"
      ]
     },
     "execution_count": 128,
     "metadata": {},
     "output_type": "execute_result"
    }
   ],
   "source": [
    "Y"
   ]
  },
  {
   "cell_type": "code",
   "execution_count": 129,
   "metadata": {},
   "outputs": [
    {
     "data": {
      "text/plain": [
       "array([22.64757481, 22.62424045, 22.60090609, 22.57757172, 25.0421485 ,\n",
       "       25.01881414, 24.99547978, 24.97214541, 24.00463572, 23.98130136,\n",
       "       23.957967  , 23.93463263, 25.94677439, 25.92344003, 25.90010567,\n",
       "       25.87677131, 27.24120799, 27.21787363, 27.19453926, 27.1712049 ,\n",
       "       31.51565924, 31.49232488, 31.46899052, 31.44565616,  5.64804403,\n",
       "        5.62470967,  5.6013753 ,  5.57804094,  6.94247762,  6.91914326,\n",
       "        6.8958089 ,  6.87247454,  7.588962  ,  7.56562764,  7.54229327,\n",
       "        7.51895891,  8.88388387,  8.86054951,  8.83721515,  8.81388079,\n",
       "        9.53061239,  9.50727803,  9.48394366,  9.4606093 , 10.17709676,\n",
       "       10.1537624 , 10.13042804, 10.10709368, 24.84462589, 24.82129152,\n",
       "       24.79795716, 24.7746228 , 27.23919957, 27.21586521, 27.19253085,\n",
       "       27.16919649, 26.20168679, 26.17835243, 26.15501807, 26.13168371,\n",
       "       28.14382547, 28.1204911 , 28.09715674, 28.07382238, 29.43825906,\n",
       "       29.4149247 , 29.39159033, 29.36825597, 33.71271032, 33.68937595,\n",
       "       33.66604159, 33.64270723,  7.8450951 ,  7.82176074,  7.79842638,\n",
       "        7.77509201,  9.1395287 ,  9.11619433,  9.09285997,  9.06952561,\n",
       "        9.78601307,  9.76267871,  9.73934435,  9.71600998, 11.08093495,\n",
       "       11.05760058, 11.03426622, 11.01093186, 11.72766346, 11.7043291 ,\n",
       "       11.68099474, 11.65766037, 12.37414784, 12.35081347, 12.32747911,\n",
       "       12.30414475, 25.04840297, 25.02506861, 25.00173425, 24.97839989,\n",
       "       27.44297666, 27.4196423 , 27.39630794, 27.37297357, 26.40546388,\n",
       "       26.38212952, 26.35879516, 26.33546079, 28.34760255, 28.32426819,\n",
       "       28.30093383, 28.27759947, 29.64203615, 29.61870179, 29.59536742,\n",
       "       29.57203306, 33.9164874 , 33.89315304, 33.86981868, 33.84648432,\n",
       "        8.04887219,  8.02553783,  8.00220347,  7.9788691 ,  9.34330578,\n",
       "        9.31997142,  9.29663706,  9.2733027 ,  9.98979016,  9.9664558 ,\n",
       "        9.94312143,  9.91978707, 11.28471203, 11.26137767, 11.23804331,\n",
       "       11.21470895, 11.93144055, 11.90810619, 11.88477182, 11.86143746,\n",
       "       12.57792492, 12.55459056, 12.5312562 , 12.50792184, 25.25218006,\n",
       "       25.2288457 , 25.20551134, 25.18217697, 27.64675375, 27.62341939,\n",
       "       27.60008502, 27.57675066, 26.60924097, 26.58590661, 26.56257225,\n",
       "       26.53923788, 28.55137964, 28.52804528, 28.50471092, 28.48137655,\n",
       "       29.84581324, 29.82247887, 29.79914451, 29.77581015, 34.12026449,\n",
       "       34.09693013, 34.07359577, 34.0502614 ,  8.25264928,  8.22931492,\n",
       "        8.20598055,  8.18264619,  9.54708287,  9.52374851,  9.50041415,\n",
       "        9.47707978, 10.19356725, 10.17023288, 10.14689852, 10.12356416,\n",
       "       11.48848912, 11.46515476, 11.4418204 , 11.41848603, 12.13521764,\n",
       "       12.11188328, 12.08854891, 12.06521455, 12.78170201, 12.75836765,\n",
       "       12.73503329, 12.71169893, 25.45595715, 25.43262279, 25.40928842,\n",
       "       25.38595406, 27.85053084, 27.82719648, 27.80386211, 27.78052775,\n",
       "       26.81301806, 26.7896837 , 26.76634933, 26.74301497, 28.75515673,\n",
       "       28.73182237, 28.70848801, 28.68515364, 30.04959032, 30.02625596,\n",
       "       30.0029216 , 29.97958724, 34.32404158, 34.30070722, 34.27737286,\n",
       "       34.25403849,  8.45642637,  8.433092  ,  8.40975764,  8.38642328,\n",
       "        9.75085996,  9.7275256 ,  9.70419124,  9.68085687, 10.39734434,\n",
       "       10.37400997, 10.35067561, 10.32734125, 11.69226621, 11.66893185,\n",
       "       11.64559749, 11.62226312, 12.33899473, 12.31566036, 12.292326  ,\n",
       "       12.26899164, 12.9854791 , 12.96214474, 12.93881038, 12.91547601,\n",
       "       25.65973424, 25.63639988, 25.61306551, 25.58973115, 28.05430793,\n",
       "       28.03097356, 28.0076392 , 27.98430484, 27.01679515, 26.99346078,\n",
       "       26.97012642, 26.94679206, 28.95893382, 28.93559946, 28.91226509,\n",
       "       28.88893073, 30.25336741, 30.23003305, 30.20669869, 30.18336432,\n",
       "       34.52781867, 34.50448431, 34.48114994, 34.45781558,  8.66020346,\n",
       "        8.63686909,  8.61353473,  8.59020037,  9.95463705,  9.93130269,\n",
       "        9.90796832,  9.88463396, 10.60112142, 10.57778706, 10.5544527 ,\n",
       "       10.53111834, 11.8960433 , 11.87270894, 11.84937457, 11.82604021,\n",
       "       12.54277181, 12.51943745, 12.49610309, 12.47276873, 13.18925619,\n",
       "       13.16592183, 13.14258746, 13.1192531 , 27.83453686, 27.8112025 ,\n",
       "       27.78786814, 27.76453377, 30.22911055, 30.20577619, 30.18244182,\n",
       "       30.15910746, 29.19159777, 29.16826341, 29.14492905, 29.12159468,\n",
       "       31.13373644, 31.11040208, 31.08706772, 31.06373335, 32.42817004,\n",
       "       32.40483567, 32.38150131, 32.35816695, 36.70262129, 36.67928693,\n",
       "       36.65595257, 36.6326182 , 10.83500608, 10.81167172, 10.78833735,\n",
       "       10.76500299, 12.12943967, 12.10610531, 12.08277095, 12.05943658,\n",
       "       12.77592405, 12.75258968, 12.72925532, 12.70592096, 14.07084592,\n",
       "       14.04751156, 14.0241772 , 14.00084283, 14.71757444, 14.69424008,\n",
       "       14.67090571, 14.64757135, 15.36405881, 15.34072445, 15.31739009,\n",
       "       15.29405572, 28.03831395, 28.01497959, 27.99164522, 27.96831086,\n",
       "       30.43288764, 30.40955328, 30.38621891, 30.36288455, 29.39537486,\n",
       "       29.3720405 , 29.34870613, 29.32537177, 31.33751353, 31.31417917,\n",
       "       31.29084481, 31.26751044, 32.63194712, 32.60861276, 32.5852784 ,\n",
       "       32.56194404, 36.90639838, 36.88306402, 36.85972966, 36.83639529,\n",
       "       11.03878317, 11.0154488 , 10.99211444, 10.96878008, 12.33321676,\n",
       "       12.3098824 , 12.28654804, 12.26321367, 12.97970114, 12.95636677,\n",
       "       12.93303241, 12.90969805, 14.27462301, 14.25128865, 14.22795429,\n",
       "       14.20461992, 14.92135153, 14.89801716, 14.8746828 , 14.85134844,\n",
       "       15.5678359 , 15.54450154, 15.52116718, 15.49783281, 28.24209104,\n",
       "       28.21875668, 28.19542231, 28.17208795, 30.63666473, 30.61333036,\n",
       "       30.589996  , 30.56666164, 29.59915195, 29.57581758, 29.55248322,\n",
       "       29.52914886, 31.54129062, 31.51795626, 31.49462189, 31.47128753,\n",
       "       32.83572421, 32.81238985, 32.78905549, 32.76572112, 37.11017547,\n",
       "       37.08684111, 37.06350674, 37.04017238, 11.24256026, 11.21922589,\n",
       "       11.19589153, 11.17255717, 12.53699385, 12.51365949, 12.49032512,\n",
       "       12.46699076, 13.18347822, 13.16014386, 13.1368095 , 13.11347514,\n",
       "       14.4784001 , 14.45506574, 14.43173137, 14.40839701, 15.12512861,\n",
       "       15.10179425, 15.07845989, 15.05512553, 15.77161299, 15.74827863,\n",
       "       15.72494426, 15.7016099 , 28.44586813, 28.42253376, 28.3991994 ,\n",
       "       28.37586504, 30.84044181, 30.81710745, 30.79377309, 30.77043873,\n",
       "       29.80292904, 29.77959467, 29.75626031, 29.73292595, 31.74506771,\n",
       "       31.72173334, 31.69839898, 31.67506462, 33.0395013 , 33.01616694,\n",
       "       32.99283258, 32.96949821, 37.31395256, 37.29061819, 37.26728383,\n",
       "       37.24394947, 11.44633734, 11.42300298, 11.39966862, 11.37633426,\n",
       "       12.74077094, 12.71743657, 12.69410221, 12.67076785, 13.38725531,\n",
       "       13.36392095, 13.34058659, 13.31725222, 14.68217719, 14.65884282,\n",
       "       14.63550846, 14.6121741 , 15.3289057 , 15.30557134, 15.28223698,\n",
       "       15.25890261, 15.97539008, 15.95205572, 15.92872135, 15.90538699,\n",
       "       28.64964521, 28.62631085, 28.60297649, 28.57964213, 31.0442189 ,\n",
       "       31.02088454, 30.99755018, 30.97421581, 30.00670612, 29.98337176,\n",
       "       29.9600374 , 29.93670304, 31.9488448 , 31.92551043, 31.90217607,\n",
       "       31.87884171, 33.24327839, 33.21994403, 33.19660966, 33.1732753 ,\n",
       "       37.51772965, 37.49439528, 37.47106092, 37.44772656, 11.65011443,\n",
       "       11.62678007, 11.60344571, 11.58011134, 12.94454803, 12.92121366,\n",
       "       12.8978793 , 12.87454494, 13.5910324 , 13.56769804, 13.54436367,\n",
       "       13.52102931, 14.88595428, 14.86261991, 14.83928555, 14.81595119,\n",
       "       15.53268279, 15.50934843, 15.48601407, 15.4626797 , 16.17916717,\n",
       "       16.1558328 , 16.13249844, 16.10916408, 30.82444784, 30.80111348,\n",
       "       30.77777911, 30.75444475, 33.21902153, 33.19568716, 33.1723528 ,\n",
       "       33.14901844, 32.18150875, 32.15817438, 32.13484002, 32.11150566,\n",
       "       34.12364742, 34.10031306, 34.07697869, 34.05364433, 35.41808101,\n",
       "       35.39474665, 35.37141229, 35.34807792, 39.69253227, 39.66919791,\n",
       "       39.64586354, 39.62252918, 13.82491705, 13.80158269, 13.77824833,\n",
       "       13.75491397, 15.11935065, 15.09601629, 15.07268192, 15.04934756,\n",
       "       15.76583502, 15.74250066, 15.7191663 , 15.69583194, 17.0607569 ,\n",
       "       17.03742254, 17.01408817, 16.99075381, 17.70748541, 17.68415105,\n",
       "       17.66081669, 17.63748233, 18.35396979, 18.33063543, 18.30730106,\n",
       "       18.2839667 , 31.02822493, 31.00489056, 30.9815562 , 30.95822184,\n",
       "       33.42279861, 33.39946425, 33.37612989, 33.35279553, 32.38528584,\n",
       "       32.36195147, 32.33861711, 32.31528275, 34.32742451, 34.30409014,\n",
       "       34.28075578, 34.25742142, 35.6218581 , 35.59852374, 35.57518938,\n",
       "       35.55185501, 39.89630936, 39.87297499, 39.84964063, 39.82630627,\n",
       "       14.02869414, 14.00535978, 13.98202542, 13.95869106, 15.32312774,\n",
       "       15.29979337, 15.27645901, 15.25312465, 15.96961211, 15.94627775,\n",
       "       15.92294339, 15.89960902, 17.26453399, 17.24119962, 17.21786526,\n",
       "       17.1945309 , 17.9112625 , 17.88792814, 17.86459378, 17.84125941,\n",
       "       18.55774688, 18.53441251, 18.51107815, 18.48774379, 31.23200201,\n",
       "       31.20866765, 31.18533329, 31.16199893, 33.6265757 , 33.60324134,\n",
       "       33.57990698, 33.55657261, 32.58906292, 32.56572856, 32.5423942 ,\n",
       "       32.51905984, 34.5312016 , 34.50786723, 34.48453287, 34.46119851,\n",
       "       35.82563519, 35.80230083, 35.77896646, 35.7556321 , 40.10008645,\n",
       "       40.07675208, 40.05341772, 40.03008336, 14.23247123, 14.20913687,\n",
       "       14.18580251, 14.16246814, 15.52690483, 15.50357046, 15.4802361 ,\n",
       "       15.45690174, 16.1733892 , 16.15005484, 16.12672047, 16.10338611,\n",
       "       17.46831108, 17.44497671, 17.42164235, 17.39830799, 18.11503959,\n",
       "       18.09170523, 18.06837087, 18.0450365 , 18.76152397, 18.7381896 ,\n",
       "       18.71485524, 18.69152088, 31.4357791 , 31.41244474, 31.38911038,\n",
       "       31.36577601, 33.83035279, 33.80701843, 33.78368407, 33.7603497 ,\n",
       "       32.79284001, 32.76950565, 32.74617129, 32.72283692, 34.73497868,\n",
       "       34.71164432, 34.68830996, 34.6649756 , 36.02941228, 36.00607791,\n",
       "       35.98274355, 35.95940919, 40.30386353, 40.28052917, 40.25719481,\n",
       "       40.23386045, 14.43624832, 14.41291396, 14.38957959, 14.36624523,\n",
       "       15.73068191, 15.70734755, 15.68401319, 15.66067883, 16.37716629,\n",
       "       16.35383193, 16.33049756, 16.3071632 , 17.67208816, 17.6487538 ,\n",
       "       17.62541944, 17.60208508, 18.31881668, 18.29548232, 18.27214795,\n",
       "       18.24881359, 18.96530105, 18.94196669, 18.91863233, 18.89529797,\n",
       "       31.63955619, 31.61622183, 31.59288747, 31.5695531 , 34.03412988,\n",
       "       34.01079552, 33.98746115, 33.96412679, 32.9966171 , 32.97328274,\n",
       "       32.94994837, 32.92661401, 34.93875577, 34.91542141, 34.89208705,\n",
       "       34.86875268, 36.23318937, 36.209855  , 36.18652064, 36.16318628,\n",
       "       40.50764062, 40.48430626, 40.4609719 , 40.43763753, 14.64002541,\n",
       "       14.61669105, 14.59335668, 14.57002232, 15.934459  , 15.91112464,\n",
       "       15.88779028, 15.86445591, 16.58094338, 16.55760901, 16.53427465,\n",
       "       16.51094029, 17.87586525, 17.85253089, 17.82919653, 17.80586216,\n",
       "       18.52259377, 18.4992594 , 18.47592504, 18.45259068, 19.16907814,\n",
       "       19.14574378, 19.12240942, 19.09907505])"
      ]
     },
     "execution_count": 129,
     "metadata": {},
     "output_type": "execute_result"
    }
   ],
   "source": [
    "pred01[:,0]  "
   ]
  },
  {
   "cell_type": "code",
   "execution_count": 130,
   "metadata": {},
   "outputs": [
    {
     "data": {
      "text/plain": [
       "3.054691115141613"
      ]
     },
     "execution_count": 130,
     "metadata": {},
     "output_type": "execute_result"
    }
   ],
   "source": [
    "from sklearn.metrics import mean_squared_error\n",
    "\n",
    "from math import sqrt\n",
    "\n",
    "rmse_LR = sqrt(mean_squared_error(Y, pred01))        # RMSE of complete Y\n",
    "\n",
    "rmse_LR"
   ]
  },
  {
   "cell_type": "code",
   "execution_count": 131,
   "metadata": {},
   "outputs": [
    {
     "data": {
      "text/plain": [
       "2.9189987865866724"
      ]
     },
     "execution_count": 131,
     "metadata": {},
     "output_type": "execute_result"
    }
   ],
   "source": [
    "from sklearn.metrics import mean_squared_error\n",
    "\n",
    "from math import sqrt\n",
    "rmse_sl_Y1 = sqrt(mean_squared_error(Y.Y1,pred01[:,0]))   #RMSE of Y1\n",
    "\n",
    "rmse_sl_Y1"
   ]
  },
  {
   "cell_type": "code",
   "execution_count": 132,
   "metadata": {},
   "outputs": [
    {
     "data": {
      "text/plain": [
       "3.1846069932969367"
      ]
     },
     "execution_count": 132,
     "metadata": {},
     "output_type": "execute_result"
    }
   ],
   "source": [
    "from sklearn.metrics import mean_squared_error\n",
    "\n",
    "from math import sqrt\n",
    "rmse_sl_Y2 = sqrt(mean_squared_error(Y.Y2,pred01[:,1]))   # RMSE of Y2\n",
    "\n",
    "rmse_sl_Y2"
   ]
  },
  {
   "cell_type": "code",
   "execution_count": 133,
   "metadata": {},
   "outputs": [
    {
     "data": {
      "text/plain": [
       "0.9019981709246218"
      ]
     },
     "execution_count": 133,
     "metadata": {},
     "output_type": "execute_result"
    }
   ],
   "source": [
    "from sklearn.metrics import r2_score\n",
    "R2_LR=np.mean(r2_score(Y,pred01))   #R squared score of complete Y\n",
    "R2_LR"
   ]
  },
  {
   "cell_type": "code",
   "execution_count": 134,
   "metadata": {},
   "outputs": [
    {
     "data": {
      "text/plain": [
       "0.9162019728684232"
      ]
     },
     "execution_count": 134,
     "metadata": {},
     "output_type": "execute_result"
    }
   ],
   "source": [
    "from sklearn.metrics import r2_score\n",
    "R2_LR_Y1=np.mean(r2_score(Y.Y1,pred01[:,0]))   #R squared score of Y1\n",
    "R2_LR_Y1"
   ]
  },
  {
   "cell_type": "code",
   "execution_count": 135,
   "metadata": {},
   "outputs": [
    {
     "data": {
      "text/plain": [
       "0.8877943689808205"
      ]
     },
     "execution_count": 135,
     "metadata": {},
     "output_type": "execute_result"
    }
   ],
   "source": [
    "from sklearn.metrics import r2_score\n",
    "R2_LR_Y2=np.mean(r2_score(Y.Y2,pred01[:,1]))   #R squared score of Y2\n",
    "R2_LR_Y2"
   ]
  },
  {
   "cell_type": "markdown",
   "metadata": {},
   "source": [
    "By observing both stats model and sklearn model both outcomes are same.\n",
    "So, we conclude that results of both regresion model is same , it's complete our decision whether to choose any one from it."
   ]
  },
  {
   "cell_type": "markdown",
   "metadata": {},
   "source": [
    "# Random forest"
   ]
  },
  {
   "cell_type": "code",
   "execution_count": 164,
   "metadata": {},
   "outputs": [
    {
     "data": {
      "text/plain": [
       "0.9973522441429346"
      ]
     },
     "execution_count": 164,
     "metadata": {},
     "output_type": "execute_result"
    }
   ],
   "source": [
    "from sklearn.ensemble import RandomForestRegressor\n",
    "rf_model = RandomForestRegressor(random_state=123)\n",
    "rf_model.fit(X,Y)\n",
    "y_pred4 = rf_model.predict(X)\n",
    "R2_rf = np.mean(r2_score(Y, y_pred4))\n",
    "R2_rf"
   ]
  },
  {
   "cell_type": "code",
   "execution_count": 165,
   "metadata": {},
   "outputs": [
    {
     "data": {
      "text/plain": [
       "array([[16.1172, 22.0535],\n",
       "       [15.8229, 21.4962],\n",
       "       [15.7488, 21.4513],\n",
       "       ...,\n",
       "       [16.5179, 16.9714],\n",
       "       [16.5402, 16.5728],\n",
       "       [16.6264, 16.2331]])"
      ]
     },
     "execution_count": 165,
     "metadata": {},
     "output_type": "execute_result"
    }
   ],
   "source": [
    "y_pred4"
   ]
  },
  {
   "cell_type": "code",
   "execution_count": 176,
   "metadata": {},
   "outputs": [
    {
     "data": {
      "text/plain": [
       "0.49086351880008605"
      ]
     },
     "execution_count": 176,
     "metadata": {},
     "output_type": "execute_result"
    }
   ],
   "source": [
    "from sklearn.metrics import mean_squared_error\n",
    "from math import sqrt\n",
    "\n",
    "rmse_dt = sqrt(mean_squared_error(Y, y_pred4))\n",
    "\n",
    "rmse_dt"
   ]
  },
  {
   "cell_type": "code",
   "execution_count": 175,
   "metadata": {},
   "outputs": [
    {
     "data": {
      "text/plain": [
       "0.9997115041231335"
      ]
     },
     "execution_count": 175,
     "metadata": {},
     "output_type": "execute_result"
    }
   ],
   "source": [
    "from sklearn.metrics import r2_score\n",
    "np.mean(r2_score(Y.Y1,y_pred4[:,0]))   #R squared score of Y2"
   ]
  },
  {
   "cell_type": "code",
   "execution_count": 178,
   "metadata": {},
   "outputs": [
    {
     "data": {
      "text/plain": [
       "0.9949929841627356"
      ]
     },
     "execution_count": 178,
     "metadata": {},
     "output_type": "execute_result"
    }
   ],
   "source": [
    "from sklearn.metrics import r2_score\n",
    "np.mean(r2_score(Y.Y2,y_pred4[:,1]))"
   ]
  },
  {
   "cell_type": "code",
   "execution_count": 179,
   "metadata": {},
   "outputs": [],
   "source": [
    "import pickle\n",
    "# save the model to disk\n",
    "filename = 'EE_model_RF.pkl'\n",
    "pickle.dump(rf_model, open(filename, 'wb'))"
   ]
  },
  {
   "cell_type": "code",
   "execution_count": null,
   "metadata": {},
   "outputs": [],
   "source": [
    "q={'gender':'1','ssc_p':'67.00','ssc_b':'1','hsc_p':'91.00','hsc_b':'1','hsc_s':'1','degree_p':'58.00','degree_t':'2','workex':'0','etest_p':'55.0','specialisation':'1','mba_p':'58.80'}\n",
    "w=pd.DataFrame(q,index=[0])\n",
    "w"
   ]
  },
  {
   "cell_type": "code",
   "execution_count": 180,
   "metadata": {},
   "outputs": [
    {
     "data": {
      "text/html": [
       "<div>\n",
       "<style scoped>\n",
       "    .dataframe tbody tr th:only-of-type {\n",
       "        vertical-align: middle;\n",
       "    }\n",
       "\n",
       "    .dataframe tbody tr th {\n",
       "        vertical-align: top;\n",
       "    }\n",
       "\n",
       "    .dataframe thead th {\n",
       "        text-align: right;\n",
       "    }\n",
       "</style>\n",
       "<table border=\"1\" class=\"dataframe\">\n",
       "  <thead>\n",
       "    <tr style=\"text-align: right;\">\n",
       "      <th></th>\n",
       "      <th>X1</th>\n",
       "      <th>X2</th>\n",
       "      <th>X3</th>\n",
       "      <th>X4</th>\n",
       "      <th>X5</th>\n",
       "      <th>X6</th>\n",
       "      <th>X7</th>\n",
       "      <th>X8</th>\n",
       "    </tr>\n",
       "  </thead>\n",
       "  <tbody>\n",
       "    <tr>\n",
       "      <th>0</th>\n",
       "      <td>0.98</td>\n",
       "      <td>514.5</td>\n",
       "      <td>294.0</td>\n",
       "      <td>110.25</td>\n",
       "      <td>7.0</td>\n",
       "      <td>2</td>\n",
       "      <td>0.1</td>\n",
       "      <td>1</td>\n",
       "    </tr>\n",
       "    <tr>\n",
       "      <th>1</th>\n",
       "      <td>0.90</td>\n",
       "      <td>563.5</td>\n",
       "      <td>318.5</td>\n",
       "      <td>122.50</td>\n",
       "      <td>7.0</td>\n",
       "      <td>3</td>\n",
       "      <td>0.1</td>\n",
       "      <td>1</td>\n",
       "    </tr>\n",
       "    <tr>\n",
       "      <th>2</th>\n",
       "      <td>0.86</td>\n",
       "      <td>588.0</td>\n",
       "      <td>294.0</td>\n",
       "      <td>147.00</td>\n",
       "      <td>7.0</td>\n",
       "      <td>4</td>\n",
       "      <td>0.1</td>\n",
       "      <td>1</td>\n",
       "    </tr>\n",
       "    <tr>\n",
       "      <th>3</th>\n",
       "      <td>0.82</td>\n",
       "      <td>612.0</td>\n",
       "      <td>318.5</td>\n",
       "      <td>147.00</td>\n",
       "      <td>7.0</td>\n",
       "      <td>5</td>\n",
       "      <td>0.1</td>\n",
       "      <td>1</td>\n",
       "    </tr>\n",
       "    <tr>\n",
       "      <th>4</th>\n",
       "      <td>0.79</td>\n",
       "      <td>637.0</td>\n",
       "      <td>343.0</td>\n",
       "      <td>147.00</td>\n",
       "      <td>7.0</td>\n",
       "      <td>2</td>\n",
       "      <td>0.1</td>\n",
       "      <td>1</td>\n",
       "    </tr>\n",
       "  </tbody>\n",
       "</table>\n",
       "</div>"
      ],
      "text/plain": [
       "     X1     X2     X3      X4   X5  X6   X7  X8\n",
       "0  0.98  514.5  294.0  110.25  7.0   2  0.1   1\n",
       "1  0.90  563.5  318.5  122.50  7.0   3  0.1   1\n",
       "2  0.86  588.0  294.0  147.00  7.0   4  0.1   1\n",
       "3  0.82  612.0  318.5  147.00  7.0   5  0.1   1\n",
       "4  0.79  637.0  343.0  147.00  7.0   2  0.1   1"
      ]
     },
     "execution_count": 180,
     "metadata": {},
     "output_type": "execute_result"
    }
   ],
   "source": [
    "a={'X1':[0.98,0.90,0.86,0.82,0.79],'X2':[514.50,563.50,588.00,612.00,637.00],'X3':[294.00,318.50,294.00,318.50,343.00],'X4':[110.25,122.50,147.00,147.00,147.00],'X5':[7.00,7.00,7.00,7.00,7.00],'X6':[2,3,4,5,2],'X7':[0.10,0.10,0.10,0.10,0.10],'X8':[1,1,1,1,1]}\n",
    "b=pd.DataFrame.from_dict(a)\n",
    "b"
   ]
  },
  {
   "cell_type": "code",
   "execution_count": 229,
   "metadata": {},
   "outputs": [
    {
     "data": {
      "text/html": [
       "<div>\n",
       "<style scoped>\n",
       "    .dataframe tbody tr th:only-of-type {\n",
       "        vertical-align: middle;\n",
       "    }\n",
       "\n",
       "    .dataframe tbody tr th {\n",
       "        vertical-align: top;\n",
       "    }\n",
       "\n",
       "    .dataframe thead th {\n",
       "        text-align: right;\n",
       "    }\n",
       "</style>\n",
       "<table border=\"1\" class=\"dataframe\">\n",
       "  <thead>\n",
       "    <tr style=\"text-align: right;\">\n",
       "      <th></th>\n",
       "      <th>X1</th>\n",
       "      <th>X2</th>\n",
       "      <th>X3</th>\n",
       "      <th>X4</th>\n",
       "      <th>X5</th>\n",
       "      <th>X6</th>\n",
       "      <th>X7</th>\n",
       "      <th>X8</th>\n",
       "    </tr>\n",
       "  </thead>\n",
       "  <tbody>\n",
       "    <tr>\n",
       "      <th>0</th>\n",
       "      <td>0.98</td>\n",
       "      <td>514.5</td>\n",
       "      <td>294.0</td>\n",
       "      <td>110.25</td>\n",
       "      <td>7.0</td>\n",
       "      <td>2</td>\n",
       "      <td>0.1</td>\n",
       "      <td>1</td>\n",
       "    </tr>\n",
       "  </tbody>\n",
       "</table>\n",
       "</div>"
      ],
      "text/plain": [
       "     X1     X2     X3      X4   X5  X6   X7  X8\n",
       "0  0.98  514.5  294.0  110.25  7.0   2  0.1   1"
      ]
     },
     "execution_count": 229,
     "metadata": {},
     "output_type": "execute_result"
    }
   ],
   "source": [
    "a={'X1':[0.98],'X2':[514.50],'X3':[294.00],'X4':[110.25],'X5':[7.00],'X6':[2],'X7':[0.10],'X8':[1]}\n",
    "b=pd.DataFrame.from_dict(a)\n",
    "b"
   ]
  },
  {
   "cell_type": "code",
   "execution_count": 230,
   "metadata": {},
   "outputs": [],
   "source": [
    "# load the model from disk\n",
    "loaded_model = pickle.load(open(filename, 'rb'))\n",
    "result = loaded_model.predict(b)\n"
   ]
  },
  {
   "cell_type": "code",
   "execution_count": 231,
   "metadata": {},
   "outputs": [
    {
     "data": {
      "text/plain": [
       "array([[24.5883, 26.4269]])"
      ]
     },
     "execution_count": 231,
     "metadata": {},
     "output_type": "execute_result"
    }
   ],
   "source": [
    "result"
   ]
  },
  {
   "cell_type": "code",
   "execution_count": 236,
   "metadata": {},
   "outputs": [
    {
     "data": {
      "text/plain": [
       "24.58829999999999"
      ]
     },
     "execution_count": 236,
     "metadata": {},
     "output_type": "execute_result"
    }
   ],
   "source": [
    "float(result[:,0])"
   ]
  },
  {
   "cell_type": "code",
   "execution_count": 243,
   "metadata": {},
   "outputs": [
    {
     "data": {
      "text/plain": [
       "24.59"
      ]
     },
     "execution_count": 243,
     "metadata": {},
     "output_type": "execute_result"
    }
   ],
   "source": [
    "t=np.around(result[:,0],2)\n",
    "float(t)"
   ]
  },
  {
   "cell_type": "code",
   "execution_count": 239,
   "metadata": {},
   "outputs": [
    {
     "name": "stdout",
     "output_type": "stream",
     "text": [
      "The value of Heating load is 24.58829999999999 \n",
      "\n"
     ]
    }
   ],
   "source": [
    "print(\"The value of Heating load is\",float(result[:,0]),\"\\n\")"
   ]
  },
  {
   "cell_type": "code",
   "execution_count": null,
   "metadata": {},
   "outputs": [],
   "source": []
  }
 ],
 "metadata": {
  "kernelspec": {
   "display_name": "Python 3",
   "language": "python",
   "name": "python3"
  },
  "language_info": {
   "codemirror_mode": {
    "name": "ipython",
    "version": 3
   },
   "file_extension": ".py",
   "mimetype": "text/x-python",
   "name": "python",
   "nbconvert_exporter": "python",
   "pygments_lexer": "ipython3",
   "version": "3.7.4"
  }
 },
 "nbformat": 4,
 "nbformat_minor": 2
}
